{
 "cells": [
  {
   "cell_type": "code",
   "execution_count": 147,
   "id": "initial_id",
   "metadata": {
    "collapsed": true,
    "ExecuteTime": {
     "end_time": "2024-11-29T20:52:22.781220Z",
     "start_time": "2024-11-29T20:52:22.664934300Z"
    }
   },
   "outputs": [],
   "source": [
    "import pandas as pd"
   ]
  },
  {
   "cell_type": "code",
   "execution_count": 148,
   "outputs": [],
   "source": [
    "df = pd.read_csv('rides_data.csv')"
   ],
   "metadata": {
    "collapsed": false,
    "ExecuteTime": {
     "end_time": "2024-11-29T20:52:22.821558700Z",
     "start_time": "2024-11-29T20:52:22.763821800Z"
    }
   },
   "id": "60e82f148bf2c5dc"
  },
  {
   "cell_type": "code",
   "execution_count": 149,
   "outputs": [
    {
     "name": "stdout",
     "output_type": "stream",
     "text": [
      "<class 'pandas.core.frame.DataFrame'>\n",
      "RangeIndex: 1166 entries, 0 to 1165\n",
      "Data columns (total 17 columns):\n",
      " #   Column              Non-Null Count  Dtype  \n",
      "---  ------              --------------  -----  \n",
      " 0   index               1166 non-null   int64  \n",
      " 1   is_delivery         1166 non-null   bool   \n",
      " 2   latest_ride_status  1166 non-null   int64  \n",
      " 3   title               1166 non-null   object \n",
      " 4   human_readable_id   1166 non-null   object \n",
      " 5   origin_lat          1166 non-null   float64\n",
      " 6   origin_lng          1166 non-null   float64\n",
      " 7   destination_lat     1166 non-null   float64\n",
      " 8   destination_lng     1166 non-null   float64\n",
      " 9   service_type        1166 non-null   object \n",
      " 10  type                1166 non-null   int64  \n",
      " 11  created_at          1166 non-null   object \n",
      " 12  updated_at          1166 non-null   object \n",
      " 13  driver_name         1166 non-null   object \n",
      " 14  vehicle_model       1166 non-null   object \n",
      " 15  is_for_friend       1166 non-null   bool   \n",
      " 16  final_price         1166 non-null   int64  \n",
      "dtypes: bool(2), float64(4), int64(4), object(7)\n",
      "memory usage: 139.0+ KB\n"
     ]
    }
   ],
   "source": [
    "df.info()"
   ],
   "metadata": {
    "collapsed": false,
    "ExecuteTime": {
     "end_time": "2024-11-29T20:52:22.866408100Z",
     "start_time": "2024-11-29T20:52:22.807768900Z"
    }
   },
   "id": "c822f581c16f895"
  },
  {
   "cell_type": "code",
   "execution_count": 150,
   "outputs": [
    {
     "data": {
      "text/plain": "   index  is_delivery  latest_ride_status  \\\n0      0         True                   5   \n1      1        False                   5   \n2      2        False                   5   \n3      3        False                   5   \n4      4        False                   7   \n\n                                           title      human_readable_id  \\\n0                                    سفر شنبه شب  SNP-241123-94650-1158   \n1                           سفر جمعه ظهر ۲۵ آبان  SNP-241115-04136-5490   \n2                       سفر پنج‌شنبه ظهر ۲۴ آبان  SNP-241114-46000-7609   \n3                       سفر صبح چهارشنبه ۲۳ آبان  SNP-241113-69332-0311   \n4  سفر لغو شده توسط راننده، صبح چهارشنبه ۲۳ آبان  SNP-241113-76422-9785   \n\n   origin_lat  origin_lng  destination_lat  destination_lng service_type  \\\n0   34.613996   50.879744        34.622057        50.875482    اسنپ باکس   \n1   34.674009   50.890099        34.613809        50.879508         اسنپ   \n2   35.694105   51.388314        35.762650        51.340394         اسنپ   \n3   35.694084   51.388865        35.763195        51.337462    اسنپ بایک   \n4   35.694084   51.388865        35.763195        51.337462    اسنپ بایک   \n\n   type           created_at           updated_at       driver_name  \\\n0     5  2024-11-23 21:20:25  2024-11-23 21:36:36  علی ابراهیم بیگی   \n1     1  2024-11-15 13:41:34  2024-11-15 13:57:24  رضا  شاکری مطلق    \n2     1  2024-11-14 12:41:47  2024-11-14 13:16:23  مجید پارسائی منش   \n3     7  2024-11-13 09:29:41  2024-11-13 10:09:40        مهدی نعیمی   \n4     7  2024-11-13 09:28:54  2024-11-13 09:29:41         حسن هزاری   \n\n  vehicle_model  is_for_friend  final_price  \n0          Bike          False       220000  \n1          تیبا          False       390000  \n2       تندر 90          False      1770000  \n3          Bike          False      1580000  \n4          Bike          False      1580000  ",
      "text/html": "<div>\n<style scoped>\n    .dataframe tbody tr th:only-of-type {\n        vertical-align: middle;\n    }\n\n    .dataframe tbody tr th {\n        vertical-align: top;\n    }\n\n    .dataframe thead th {\n        text-align: right;\n    }\n</style>\n<table border=\"1\" class=\"dataframe\">\n  <thead>\n    <tr style=\"text-align: right;\">\n      <th></th>\n      <th>index</th>\n      <th>is_delivery</th>\n      <th>latest_ride_status</th>\n      <th>title</th>\n      <th>human_readable_id</th>\n      <th>origin_lat</th>\n      <th>origin_lng</th>\n      <th>destination_lat</th>\n      <th>destination_lng</th>\n      <th>service_type</th>\n      <th>type</th>\n      <th>created_at</th>\n      <th>updated_at</th>\n      <th>driver_name</th>\n      <th>vehicle_model</th>\n      <th>is_for_friend</th>\n      <th>final_price</th>\n    </tr>\n  </thead>\n  <tbody>\n    <tr>\n      <th>0</th>\n      <td>0</td>\n      <td>True</td>\n      <td>5</td>\n      <td>سفر شنبه شب</td>\n      <td>SNP-241123-94650-1158</td>\n      <td>34.613996</td>\n      <td>50.879744</td>\n      <td>34.622057</td>\n      <td>50.875482</td>\n      <td>اسنپ باکس</td>\n      <td>5</td>\n      <td>2024-11-23 21:20:25</td>\n      <td>2024-11-23 21:36:36</td>\n      <td>علی ابراهیم بیگی</td>\n      <td>Bike</td>\n      <td>False</td>\n      <td>220000</td>\n    </tr>\n    <tr>\n      <th>1</th>\n      <td>1</td>\n      <td>False</td>\n      <td>5</td>\n      <td>سفر جمعه ظهر ۲۵ آبان</td>\n      <td>SNP-241115-04136-5490</td>\n      <td>34.674009</td>\n      <td>50.890099</td>\n      <td>34.613809</td>\n      <td>50.879508</td>\n      <td>اسنپ</td>\n      <td>1</td>\n      <td>2024-11-15 13:41:34</td>\n      <td>2024-11-15 13:57:24</td>\n      <td>رضا  شاکری مطلق</td>\n      <td>تیبا</td>\n      <td>False</td>\n      <td>390000</td>\n    </tr>\n    <tr>\n      <th>2</th>\n      <td>2</td>\n      <td>False</td>\n      <td>5</td>\n      <td>سفر پنج‌شنبه ظهر ۲۴ آبان</td>\n      <td>SNP-241114-46000-7609</td>\n      <td>35.694105</td>\n      <td>51.388314</td>\n      <td>35.762650</td>\n      <td>51.340394</td>\n      <td>اسنپ</td>\n      <td>1</td>\n      <td>2024-11-14 12:41:47</td>\n      <td>2024-11-14 13:16:23</td>\n      <td>مجید پارسائی منش</td>\n      <td>تندر 90</td>\n      <td>False</td>\n      <td>1770000</td>\n    </tr>\n    <tr>\n      <th>3</th>\n      <td>3</td>\n      <td>False</td>\n      <td>5</td>\n      <td>سفر صبح چهارشنبه ۲۳ آبان</td>\n      <td>SNP-241113-69332-0311</td>\n      <td>35.694084</td>\n      <td>51.388865</td>\n      <td>35.763195</td>\n      <td>51.337462</td>\n      <td>اسنپ بایک</td>\n      <td>7</td>\n      <td>2024-11-13 09:29:41</td>\n      <td>2024-11-13 10:09:40</td>\n      <td>مهدی نعیمی</td>\n      <td>Bike</td>\n      <td>False</td>\n      <td>1580000</td>\n    </tr>\n    <tr>\n      <th>4</th>\n      <td>4</td>\n      <td>False</td>\n      <td>7</td>\n      <td>سفر لغو شده توسط راننده، صبح چهارشنبه ۲۳ آبان</td>\n      <td>SNP-241113-76422-9785</td>\n      <td>35.694084</td>\n      <td>51.388865</td>\n      <td>35.763195</td>\n      <td>51.337462</td>\n      <td>اسنپ بایک</td>\n      <td>7</td>\n      <td>2024-11-13 09:28:54</td>\n      <td>2024-11-13 09:29:41</td>\n      <td>حسن هزاری</td>\n      <td>Bike</td>\n      <td>False</td>\n      <td>1580000</td>\n    </tr>\n  </tbody>\n</table>\n</div>"
     },
     "execution_count": 150,
     "metadata": {},
     "output_type": "execute_result"
    }
   ],
   "source": [
    "df.head()"
   ],
   "metadata": {
    "collapsed": false,
    "ExecuteTime": {
     "end_time": "2024-11-29T20:52:22.970132600Z",
     "start_time": "2024-11-29T20:52:22.850279300Z"
    }
   },
   "id": "88c7e704954c721c"
  },
  {
   "cell_type": "code",
   "execution_count": 151,
   "outputs": [
    {
     "data": {
      "text/plain": "             index  latest_ride_status   origin_lat   origin_lng  \\\ncount  1166.000000         1166.000000  1166.000000  1166.000000   \nmean    582.500000            5.202401    34.640087    50.904803   \nstd     336.739514            0.556069     0.383587     0.357144   \nmin       0.000000            5.000000    26.934467    50.785065   \n25%     291.250000            5.000000    34.613827    50.867269   \n50%     582.500000            5.000000    34.613992    50.879221   \n75%     873.750000            5.000000    34.626272    50.879447   \nmax    1165.000000            7.000000    36.574471    59.622309   \n\n       destination_lat  destination_lng         type   final_price  \ncount      1166.000000      1166.000000  1166.000000  1.166000e+03  \nmean         34.639961        50.899025     1.740995  2.100686e+05  \nstd           0.384043         0.358096     2.106149  2.437221e+05  \nmin          26.934401        50.777948     1.000000  4.000000e+04  \n25%          34.613770        50.861450     1.000000  1.050000e+05  \n50%          34.618053        50.869642     1.000000  1.600000e+05  \n75%          34.631286        50.879430     1.000000  2.350000e+05  \nmax          36.614011        59.610817    31.000000  4.440000e+06  ",
      "text/html": "<div>\n<style scoped>\n    .dataframe tbody tr th:only-of-type {\n        vertical-align: middle;\n    }\n\n    .dataframe tbody tr th {\n        vertical-align: top;\n    }\n\n    .dataframe thead th {\n        text-align: right;\n    }\n</style>\n<table border=\"1\" class=\"dataframe\">\n  <thead>\n    <tr style=\"text-align: right;\">\n      <th></th>\n      <th>index</th>\n      <th>latest_ride_status</th>\n      <th>origin_lat</th>\n      <th>origin_lng</th>\n      <th>destination_lat</th>\n      <th>destination_lng</th>\n      <th>type</th>\n      <th>final_price</th>\n    </tr>\n  </thead>\n  <tbody>\n    <tr>\n      <th>count</th>\n      <td>1166.000000</td>\n      <td>1166.000000</td>\n      <td>1166.000000</td>\n      <td>1166.000000</td>\n      <td>1166.000000</td>\n      <td>1166.000000</td>\n      <td>1166.000000</td>\n      <td>1.166000e+03</td>\n    </tr>\n    <tr>\n      <th>mean</th>\n      <td>582.500000</td>\n      <td>5.202401</td>\n      <td>34.640087</td>\n      <td>50.904803</td>\n      <td>34.639961</td>\n      <td>50.899025</td>\n      <td>1.740995</td>\n      <td>2.100686e+05</td>\n    </tr>\n    <tr>\n      <th>std</th>\n      <td>336.739514</td>\n      <td>0.556069</td>\n      <td>0.383587</td>\n      <td>0.357144</td>\n      <td>0.384043</td>\n      <td>0.358096</td>\n      <td>2.106149</td>\n      <td>2.437221e+05</td>\n    </tr>\n    <tr>\n      <th>min</th>\n      <td>0.000000</td>\n      <td>5.000000</td>\n      <td>26.934467</td>\n      <td>50.785065</td>\n      <td>26.934401</td>\n      <td>50.777948</td>\n      <td>1.000000</td>\n      <td>4.000000e+04</td>\n    </tr>\n    <tr>\n      <th>25%</th>\n      <td>291.250000</td>\n      <td>5.000000</td>\n      <td>34.613827</td>\n      <td>50.867269</td>\n      <td>34.613770</td>\n      <td>50.861450</td>\n      <td>1.000000</td>\n      <td>1.050000e+05</td>\n    </tr>\n    <tr>\n      <th>50%</th>\n      <td>582.500000</td>\n      <td>5.000000</td>\n      <td>34.613992</td>\n      <td>50.879221</td>\n      <td>34.618053</td>\n      <td>50.869642</td>\n      <td>1.000000</td>\n      <td>1.600000e+05</td>\n    </tr>\n    <tr>\n      <th>75%</th>\n      <td>873.750000</td>\n      <td>5.000000</td>\n      <td>34.626272</td>\n      <td>50.879447</td>\n      <td>34.631286</td>\n      <td>50.879430</td>\n      <td>1.000000</td>\n      <td>2.350000e+05</td>\n    </tr>\n    <tr>\n      <th>max</th>\n      <td>1165.000000</td>\n      <td>7.000000</td>\n      <td>36.574471</td>\n      <td>59.622309</td>\n      <td>36.614011</td>\n      <td>59.610817</td>\n      <td>31.000000</td>\n      <td>4.440000e+06</td>\n    </tr>\n  </tbody>\n</table>\n</div>"
     },
     "execution_count": 151,
     "metadata": {},
     "output_type": "execute_result"
    }
   ],
   "source": [
    "df.describe()"
   ],
   "metadata": {
    "collapsed": false,
    "ExecuteTime": {
     "end_time": "2024-11-29T20:52:23.001346200Z",
     "start_time": "2024-11-29T20:52:22.878209400Z"
    }
   },
   "id": "864e896d4d861c72"
  },
  {
   "cell_type": "markdown",
   "source": [
    "# Data Preprocessing"
   ],
   "metadata": {
    "collapsed": false
   },
   "id": "b5c725815928a91b"
  },
  {
   "cell_type": "code",
   "execution_count": 152,
   "outputs": [],
   "source": [
    "df['created_at'] = pd.to_datetime(df['created_at'])"
   ],
   "metadata": {
    "collapsed": false,
    "ExecuteTime": {
     "end_time": "2024-11-29T20:52:23.086306300Z",
     "start_time": "2024-11-29T20:52:22.980641Z"
    }
   },
   "id": "3bfd1b05f2dfab39"
  },
  {
   "cell_type": "code",
   "execution_count": 153,
   "outputs": [],
   "source": [
    "from matplotlib import pyplot as plt"
   ],
   "metadata": {
    "collapsed": false,
    "ExecuteTime": {
     "end_time": "2024-11-29T20:52:23.205885400Z",
     "start_time": "2024-11-29T20:52:23.055798200Z"
    }
   },
   "id": "c383673b610a80d3"
  },
  {
   "cell_type": "code",
   "execution_count": 154,
   "outputs": [
    {
     "data": {
      "text/plain": "<BarContainer object of 23 artists>"
     },
     "execution_count": 154,
     "metadata": {},
     "output_type": "execute_result"
    },
    {
     "data": {
      "text/plain": "<Figure size 640x480 with 1 Axes>",
      "image/png": "[encoded data removed]"
     },
     "metadata": {},
     "output_type": "display_data"
    }
   ],
   "source": [
    "df['hour'] = df['created_at'].dt.hour\n",
    "plt.bar(df['hour'].value_counts().index, df['hour'].value_counts().values)"
   ],
   "metadata": {
    "collapsed": false,
    "ExecuteTime": {
     "end_time": "2024-11-29T20:52:23.410881500Z",
     "start_time": "2024-11-29T20:52:23.210525800Z"
    }
   },
   "id": "904fe9f248c2b8ed"
  },
  {
   "cell_type": "code",
   "execution_count": 155,
   "outputs": [
    {
     "data": {
      "text/plain": "<BarContainer object of 7 artists>"
     },
     "execution_count": 155,
     "metadata": {},
     "output_type": "execute_result"
    },
    {
     "data": {
      "text/plain": "<Figure size 640x480 with 1 Axes>",
      "image/png": "[encoded data removed]"
     },
     "metadata": {},
     "output_type": "display_data"
    }
   ],
   "source": [
    "df['day'] = df['created_at'].dt.dayofweek\n",
    "#The day of the week with Monday=0, Sunday=6.\n",
    "\n",
    "plt.bar(df['day'].value_counts().index, df['day'].value_counts().values)"
   ],
   "metadata": {
    "collapsed": false,
    "ExecuteTime": {
     "end_time": "2024-11-29T20:52:23.562478Z",
     "start_time": "2024-11-29T20:52:23.370063400Z"
    }
   },
   "id": "1e04a99f4d0319b4"
  },
  {
   "cell_type": "code",
   "execution_count": 156,
   "outputs": [
    {
     "data": {
      "text/plain": "<BarContainer object of 31 artists>"
     },
     "execution_count": 156,
     "metadata": {},
     "output_type": "execute_result"
    },
    {
     "data": {
      "text/plain": "<Figure size 640x480 with 1 Axes>",
      "image/png": "[encoded data removed]"
     },
     "metadata": {},
     "output_type": "display_data"
    }
   ],
   "source": [
    "df['day_of_month'] = df['created_at'].dt.day\n",
    "plt.bar(df['day_of_month'].value_counts().index, df['day_of_month'].value_counts().values)"
   ],
   "metadata": {
    "collapsed": false,
    "ExecuteTime": {
     "end_time": "2024-11-29T20:52:23.824653400Z",
     "start_time": "2024-11-29T20:52:23.523836500Z"
    }
   },
   "id": "bb405c725d11cd2b"
  },
  {
   "cell_type": "code",
   "execution_count": 182,
   "outputs": [
    {
     "data": {
      "application/vnd.plotly.v1+json": {
       "data": [
        {
         "hovertemplate": "destination_lat=%{lat}<br>destination_lng=%{lon}<br>hour=%{marker.color}<extra></extra>",
         "lat": [
          34.62205669573338,
          34.61380905076565,
          35.76265012713846,
          35.76319474552973,
          35.76319474552973,
          35.694084460021344,
          34.67588908785016,
          34.67588908785016,
          35.60704841640364,
          34.67587518493056,
          34.626917215492256,
          34.627276064404015,
          34.61396241300022,
          34.57399579790018,
          35.76298149792784,
          34.67590087769065,
          34.67590087769065,
          34.62321986798099,
          34.61384802465,
          35.763132097587615,
          35.763132097587615,
          35.763132097587615,
          34.67579126296961,
          35.79920171632924,
          34.6141155392958,
          34.586275394479685,
          34.60650418499934,
          34.613809050600366,
          34.61384802465,
          34.61196465573228,
          34.621328615528014,
          34.621328615528014,
          34.61384802465,
          34.641749380157194,
          34.61384802465,
          34.61384802465,
          34.61384802465,
          34.63950825549658,
          34.639351384145726,
          34.61384802465,
          34.610009926177284,
          34.62330114215129,
          35.76354313568021,
          34.675859601353906,
          34.61384802465,
          34.61384802465,
          34.614068018817704,
          34.56118198549477,
          34.621973834666505,
          34.61384802465,
          34.607023399678695,
          34.61384802465,
          34.62623530424031,
          35.73730841225668,
          34.67587899208637,
          34.620947225695275,
          34.618245640710626,
          34.61384802465,
          34.63855451198714,
          34.62100460726677,
          34.613976069911246,
          34.63862629768488,
          34.61384802465,
          34.61145181358917,
          34.620974773444274,
          34.616394931411776,
          34.63950897089792,
          34.61384802465,
          34.61401381155028,
          34.62099903384167,
          34.5741151879744,
          34.63936962575218,
          34.5742504053967,
          35.703462791345885,
          35.703462791345885,
          34.62763290420389,
          35.728002829203305,
          34.675878537060484,
          34.64943383652869,
          34.61375445230658,
          34.609723952196404,
          34.61375445230658,
          34.63916133798165,
          34.63916133798165,
          34.61732165632,
          34.611925455978934,
          34.61384802465,
          34.633892234780234,
          34.613741746025426,
          34.61247548028345,
          34.60704597601173,
          34.63197477290494,
          34.612866962422856,
          34.64929383711282,
          34.61384802465,
          34.62726785235552,
          34.6491155667853,
          34.61384802465,
          34.644656495670176,
          34.61384802465,
          34.610746653946194,
          34.61401381155028,
          34.6492395402406,
          34.63382353695744,
          34.61384802465,
          34.62127119195051,
          34.62157880544231,
          34.64903822870147,
          34.613665999703315,
          34.63391661365856,
          34.61384802465,
          34.63855889249227,
          34.63850775947239,
          34.63086781803818,
          34.638538961446855,
          34.64938723984912,
          34.620957270604464,
          34.558543378996575,
          34.627477429407605,
          34.62092576197239,
          34.62092576197239,
          34.61375445230658,
          34.638573135672345,
          34.62539710795754,
          34.62209047492725,
          34.61208282133886,
          34.60704156195868,
          34.61384802465,
          34.60703943825085,
          34.61373194655657,
          34.641796444609085,
          34.61384802465,
          34.649617962306024,
          34.649617962306024,
          34.56104422272182,
          34.59462048171784,
          34.6070462154191,
          34.66577385254398,
          34.61330701250458,
          34.665925510672764,
          34.57064569380161,
          34.61375445230658,
          34.60462963456362,
          34.61384802465,
          34.57054463508089,
          34.611980871150465,
          34.61384802465,
          34.61376622962108,
          35.72481188893465,
          35.74020603260638,
          34.61384802465,
          34.54559725578409,
          34.60708854613485,
          34.61379362736146,
          34.6187259768175,
          34.6187259768175,
          34.61384802465,
          34.61388100802931,
          34.611939572875016,
          34.61384802465,
          34.57323794425108,
          34.61384802465,
          34.61376851494552,
          26.954684877318883,
          26.93440080955523,
          34.58046698832136,
          34.61537196996315,
          34.61384802465,
          34.545918815987065,
          34.63197477290494,
          34.63197477290494,
          34.63197477290494,
          34.61375445230658,
          34.61375445230658,
          34.63197477290494,
          34.61375445230658,
          34.61375445230658,
          34.623943236208405,
          34.61375445230658,
          34.63197477290494,
          34.644317893549584,
          34.63197477290494,
          34.61375445230658,
          34.63197477290494,
          34.63197477290494,
          34.63197477290494,
          34.61375445230658,
          34.63197477290494,
          34.57445609080415,
          34.61375445230658,
          34.63197477290494,
          34.6135601957686,
          34.54547868227783,
          34.57464744410497,
          34.59815151652504,
          34.59834112474883,
          34.59834112474883,
          34.570499105050644,
          34.54586373843482,
          34.63197477290494,
          34.61375445230658,
          34.61375445230658,
          34.61375445230658,
          34.61384802465,
          34.63197477290494,
          34.61375445230658,
          34.63197477290494,
          34.63197477290494,
          34.63197477290494,
          34.61375445230658,
          34.545915673346315,
          34.63197477290494,
          34.61384802465,
          34.61008661707743,
          34.61008661707743,
          34.643302024994824,
          34.618402652433616,
          34.627587091685115,
          34.64537152819604,
          34.62556614714542,
          34.63197477290494,
          34.63197477290494,
          34.612419830692446,
          34.63196997432229,
          34.57415640316971,
          34.63196997432229,
          34.61382694950923,
          34.620857960371495,
          34.593940012069226,
          34.593940012069226,
          34.63196997432229,
          34.63196997432229,
          34.61388560265303,
          34.63203100671802,
          34.63196997432229,
          34.61384802465,
          34.63049717057227,
          34.60184161108447,
          34.61384802465,
          34.63196997432229,
          34.644129183825044,
          34.63196997432229,
          34.63196997432229,
          34.61376667787789,
          34.63203454406106,
          34.625871107439,
          34.63196997432229,
          34.61384802465,
          34.63196997432229,
          34.63196997432229,
          34.61890232124684,
          34.63196997432229,
          34.63196997432229,
          34.61377875401996,
          34.61027399797538,
          34.63196997432229,
          34.61388726968799,
          34.61388726968799,
          34.61376860500387,
          34.63196490487997,
          34.63196490487997,
          34.6137790439911,
          34.61384802465,
          34.63196490487997,
          34.6137867014523,
          34.62524216413763,
          34.61387288728875,
          34.63366426064057,
          34.635137408418785,
          34.61725782011521,
          34.63196997432229,
          34.64129338710018,
          34.61377015240498,
          34.63196997432229,
          34.61384802465,
          34.61374100310613,
          34.63196997432229,
          34.63196997432229,
          34.645127216136785,
          34.64359531614065,
          34.613786877425866,
          34.63196997432229,
          34.66639400747053,
          34.63195074557834,
          34.613769746965176,
          34.63196997432229,
          34.613747644530065,
          34.63196997432229,
          34.63196997432229,
          34.6198121715976,
          34.633534602019594,
          34.63928299999661,
          34.61381480739777,
          34.60189276607946,
          34.62969693453033,
          34.631971769623775,
          34.63196997432229,
          34.63196997432229,
          34.613827310207725,
          34.612556057603115,
          34.63196202477347,
          34.631969944385006,
          34.61700392061498,
          34.61696591027075,
          34.631924999354894,
          34.63344192751862,
          34.63222286826847,
          34.613382465396754,
          34.62099279468936,
          34.62099279468936,
          34.60680688696063,
          34.61374875490266,
          34.61384802465,
          34.60189080865041,
          34.61389288452234,
          34.61377116676128,
          34.631958879252295,
          34.62053395476168,
          34.61377332705058,
          34.63195252855154,
          34.620897396865615,
          34.631968773478306,
          34.65108228866194,
          34.67787208864948,
          34.61374120424499,
          34.631987343135165,
          34.66566197782093,
          34.61384802465,
          34.61376552814944,
          34.63101145962442,
          34.63197936049073,
          34.623137861691774,
          34.63198011320693,
          34.63101242769841,
          34.61374123443015,
          34.563778829653074,
          34.63382800000001,
          34.61382540070625,
          34.63196409625128,
          34.61376576877208,
          34.631985041722174,
          34.64463042783669,
          34.61123473813456,
          34.631798572968705,
          34.631992786812724,
          34.6657287775533,
          34.61384802465,
          34.631992786812724,
          34.60077912864372,
          34.61255200000005,
          34.631989604302674,
          34.631995321533886,
          34.6236690802813,
          34.631995321533886,
          34.631995321533886,
          34.665599674968746,
          34.61388799999999,
          34.631977908835296,
          34.57423862502063,
          34.61594660098432,
          34.631977871110934,
          34.63196981624991,
          34.63197726911402,
          34.63197726911402,
          34.62952019529287,
          34.63200546041852,
          34.63200546041852,
          34.62672382822825,
          34.63200546041852,
          34.63200546041852,
          34.63200546041852,
          34.63200546041852,
          34.63200546041852,
          34.6132979950019,
          34.57387151517938,
          34.61373500703449,
          34.61373500703449,
          34.627954075299385,
          34.62810397060106,
          34.63200546041852,
          34.63200546041852,
          34.61375552126022,
          34.63200546041852,
          34.62785654672784,
          34.63200546041852,
          34.63198449842429,
          34.62679412041919,
          34.6139441713042,
          34.67860315881448,
          34.63200546041852,
          34.63197877409975,
          34.59584814603001,
          34.57427211657225,
          34.61371043029203,
          34.61384802465,
          34.63198674365819,
          34.613700526339215,
          34.632032996393136,
          34.61384802465,
          34.6319877173704,
          34.61374885228405,
          34.63198452062677,
          34.63199120519121,
          34.632024356919814,
          34.68104844186108,
          34.633681136724064,
          34.66474069758601,
          34.629509953678635,
          34.631984624538205,
          34.57437604013979,
          34.632030494141304,
          34.57437604013979,
          34.61384802465,
          34.628109000000066,
          34.631985182649245,
          34.63199144891641,
          34.61384802465,
          34.63027600000001,
          34.63027600000001,
          34.61384802465,
          34.57378399999999,
          34.59592306914739,
          34.61384802465,
          34.59917323709274,
          34.61384802465,
          34.61384802465,
          34.628101,
          34.59583699999999,
          34.57416511345954,
          34.613821299736856,
          34.57466348544712,
          34.61384802465,
          34.61384802465,
          34.61384802465,
          34.624729972758075,
          34.62395056030611,
          34.639395689999645,
          34.574626977534564,
          34.62464984843385,
          34.627593097071625,
          34.63369399999998,
          34.65196187296985,
          34.62977448337742,
          34.613711999465465,
          34.59626019159468,
          34.61384802465,
          34.61161410445955,
          34.63198750186825,
          34.62097372975839,
          34.57464218586152,
          34.57464218586152,
          34.61373391921191,
          34.61384802465,
          34.60697756902853,
          34.61374136244501,
          34.57459781443919,
          34.613828922617444,
          34.62100852340576,
          34.61375156253523,
          34.61372968332047,
          34.60703756020408,
          34.60705499690786,
          34.6138087532281,
          34.627602,
          34.63851285372475,
          34.57462880157513,
          34.57462880157513,
          34.61374191001852,
          34.68541593462108,
          34.574657493695625,
          34.574657493695625,
          34.574657493695625,
          34.61384802465,
          34.61375205574238,
          34.558132,
          34.61376582235283,
          34.623715406013574,
          34.61380109644493,
          34.62354699999999,
          34.66938301401328,
          34.66938301401328,
          34.623501733760264,
          34.62704500000001,
          34.66727399999999,
          34.61384802465,
          34.62592104064173,
          34.55714600023259,
          35.76511287214193,
          34.64240675141322,
          35.765109070868775,
          35.70549,
          35.72109509812387,
          34.61400297458127,
          34.6320003909762,
          34.631805,
          34.6320003909762,
          34.63218076258816,
          34.62097200000001,
          34.631872955283725,
          34.61000520104258,
          34.631985182649245,
          34.638883322567494,
          34.65523120714843,
          34.61384802465,
          34.59500099999998,
          34.56643090168328,
          34.613875138111354,
          34.631985182649245,
          34.61384802465,
          34.62615320716931,
          34.62014052532453,
          34.63198518265065,
          34.61375425286424,
          34.61375425286424,
          34.61980694994655,
          34.61457992971664,
          34.61457992971664,
          34.57461715006475,
          34.57448600000002,
          34.61374314977046,
          34.613963821980605,
          34.61375398672391,
          34.63902494248481,
          34.61384802465,
          35.521793673936685,
          34.6761846621731,
          34.63199107406798,
          35.52188414638417,
          34.614169401111766,
          34.6178176694618,
          34.614176272455666,
          34.614181655166306,
          34.61382526900711,
          34.62093,
          34.62089792947491,
          34.63447166963056,
          34.61384802465,
          34.619845248176176,
          34.574343088764714,
          34.61382628843438,
          34.61384802465,
          34.62098624792084,
          34.596978150709305,
          34.614158235832946,
          34.57436083181284,
          34.63211698814953,
          34.614175036349494,
          34.61415009784193,
          34.63137538289169,
          34.62760110853469,
          34.63198995083856,
          34.63198995083856,
          34.574324290456744,
          34.66595624573441,
          34.66595624573441,
          34.63199088037872,
          34.60947161044662,
          34.57439531767177,
          34.61418047853681,
          34.63509400000005,
          34.61384802465,
          34.61970500000001,
          34.599495051029905,
          34.64992799496541,
          34.61374071803978,
          34.624259728349244,
          34.62412899587449,
          34.57443940816878,
          34.62412899587449,
          34.63466600000004,
          34.62412899587449,
          34.61395133352727,
          34.62427720249332,
          34.62427720249332,
          34.62412899587449,
          34.61395268828802,
          34.61395268828802,
          34.62412899587449,
          34.57444447761109,
          34.57444447761109,
          34.624128995874486,
          34.57439694450456,
          34.61384802465,
          34.626463178907926,
          34.63469397551857,
          34.620987,
          34.63862685237201,
          34.57494740387577,
          34.574552884916,
          34.6138225706261,
          34.63270984630266,
          34.624310386676086,
          34.62620326261441,
          34.62958094792488,
          34.553093888472176,
          34.574236927539104,
          34.62430676965971,
          34.57430974977589,
          34.61784490598485,
          34.624233942893994,
          34.614185090086934,
          34.61384802465,
          34.62412899587449,
          34.62412899587449,
          34.62412899587449,
          34.62412899587449,
          34.614907596565345,
          34.62412899587449,
          34.607352762422785,
          34.61381626920674,
          34.61868679246712,
          34.64285978809994,
          34.60261826063949,
          34.56357375633124,
          34.61415448653224,
          34.61384802465,
          34.60733755409583,
          34.61384802465,
          34.62423450156892,
          34.62055181360495,
          34.613963441826,
          34.62412899587449,
          34.62416928733627,
          34.62416928733627,
          34.61413879087307,
          34.62424090059042,
          34.61380856548105,
          34.62414263927869,
          34.61384802465,
          34.61352238647552,
          34.61382125721934,
          34.624139609050104,
          34.61382090868101,
          34.6073982302529,
          34.629725066577194,
          34.62178132159815,
          34.62412899587449,
          34.61746430115022,
          34.61375946749514,
          34.617860437120854,
          34.615851369665194,
          34.613822738518294,
          34.607306577466005,
          34.59949339594704,
          34.62412899587449,
          34.62435202744105,
          34.61382623984028,
          34.60984497194438,
          34.624117771218,
          34.607292816763,
          34.624171912134,
          34.624232658744,
          34.613731700089,
          34.622066568427,
          34.624128995874,
          34.624128995874,
          34.624136378346,
          34.624247295436,
          34.61375,
          34.61384802465,
          34.629705003269,
          34.61384802465,
          34.624334336371,
          34.632401,
          34.644168075087,
          34.624232658552,
          34.624232658552,
          34.624232658552,
          34.624128995874,
          34.624128995874,
          34.61384802465,
          34.607338476008,
          34.61384802465,
          34.595707075167,
          34.676209472629,
          34.64806795351,
          34.64806795351,
          34.614062084154,
          34.61421073122,
          34.61783946034,
          34.61783946034,
          34.61783946034,
          34.613962001747,
          34.61384802465,
          34.624105395936,
          34.630217541364,
          34.613959778618,
          34.61413617087,
          34.617843249896,
          34.617843249896,
          34.617782953001,
          34.642397547643,
          34.624294230915,
          34.638367,
          34.574470176658,
          34.574470176658,
          34.620979029368,
          34.620979029368,
          34.613822396828,
          34.649422830506,
          34.633171253086,
          34.613827162808,
          34.624282522024,
          34.624282522024,
          34.626476216291,
          34.626476216291,
          34.624164837364,
          34.542068,
          34.542068,
          34.62428004692,
          34.62428004692,
          34.613823222361,
          34.613741606915,
          34.624316998545,
          34.607628478024,
          34.614113181918,
          34.603303499841,
          34.603303499841,
          34.574411213434,
          34.624394651811,
          34.624279863453,
          34.624128995874,
          34.624128995874,
          34.624128995874,
          34.624131262065,
          34.614149560529,
          34.624357634809,
          34.61384802465,
          34.625897835346,
          34.614097230096,
          34.574230351475,
          34.574133085226,
          34.60717340554,
          34.60717340554,
          34.613809820953,
          34.607640596432,
          34.624142238965,
          34.616999943816,
          34.639201844678,
          34.624016,
          34.613768496141,
          34.624234762677,
          34.614156920799,
          34.617835469617,
          34.613827,
          34.57423428996,
          34.574284,
          34.613723903106,
          34.623318905325,
          34.574159361935,
          34.57411496386,
          34.61384802465,
          34.60762912843,
          34.624149,
          34.607638550353,
          34.624128995874,
          34.587485108517,
          34.613787475956,
          34.675697822994,
          34.607498445205,
          34.573173578913,
          34.624238804604,
          34.624157032757,
          34.624128995874,
          34.676563,
          34.624128995874,
          34.624128995874,
          34.619355262645,
          34.61384802465,
          34.609745306338,
          34.61384802465,
          36.281592709113,
          34.574295771752,
          34.611172715347,
          34.614154921083,
          34.574230638699,
          34.573990261194,
          34.563778829653,
          34.624233536886,
          34.624233536886,
          34.574202603308,
          34.624128995874,
          34.574146,
          34.574146,
          34.613724499351,
          34.614045550796,
          34.624128995874,
          34.573821625912,
          34.614110527613,
          34.573241584205,
          34.614129611783,
          35.710251220642,
          34.613821150002,
          34.630711838801,
          34.613820607009,
          34.624128995874,
          34.618919,
          34.641764876637,
          34.602074600395,
          34.624149,
          34.613804501697,
          34.624150966525,
          34.609827238423,
          34.613612350428,
          34.61351759213,
          34.624142153167,
          34.61416515988,
          34.635234817504,
          34.607195498974,
          34.61417254057,
          34.613772505117,
          34.61384802465,
          34.624230171292,
          34.609677788207,
          34.602120400389,
          34.613819,
          34.608745552663,
          34.612039875663,
          34.63742727397,
          34.622467288982,
          34.613827182651,
          34.607169142108,
          34.613830481001,
          34.61415497769,
          34.613215847222,
          34.607635579466,
          34.6031,
          34.614164636426,
          34.613872892455,
          34.613872892455,
          34.613872892455,
          34.61413646946,
          34.630495028151,
          34.613831074348,
          34.607632,
          34.614169563316,
          34.616238,
          34.61384802465,
          34.641773763495,
          34.624128995874,
          34.619814470199,
          34.613826084856,
          34.607354869424,
          34.623656570937,
          34.570221,
          34.61384802465,
          34.624144816318,
          34.622086382167,
          34.622086382167,
          34.641765236919,
          34.607394392755,
          34.613820663745,
          34.611443,
          34.613796,
          34.613755047569,
          34.61861462742,
          34.613822315365,
          34.634438,
          34.61384802465,
          34.613748483962,
          34.624123089058,
          34.602565736373,
          34.623837,
          34.573282472003,
          34.613729678137,
          34.613831110328,
          34.61384802465,
          34.613826277471,
          34.613831837509,
          34.624128995874,
          34.624128995874,
          34.614025925349,
          34.613716665057,
          34.613963652739,
          34.616218912411,
          34.613826476667,
          34.613972127741,
          34.613811927296,
          34.60739325927,
          34.61372721723,
          34.624146986247,
          34.56737132872,
          34.61374228924,
          34.595916010813,
          34.618894118868,
          34.613722247923,
          34.613722247923,
          34.61474173116,
          34.607246137664,
          34.607246137664,
          34.61384169537,
          34.614004058957,
          34.623482,
          34.624128995874,
          34.624289835695,
          34.613827,
          34.61622467073,
          34.649781459909,
          34.641283427947,
          34.621036023931,
          34.613738594908,
          34.649199879881,
          34.614254195481,
          34.563584456232,
          34.563584456232,
          34.563584456232,
          34.635401863024,
          34.650274324515,
          34.614258,
          34.627523649537,
          34.623594353576,
          34.613827,
          34.631016861122,
          34.649435099705,
          34.650394470713,
          34.624099436037,
          34.649462585329,
          34.62424998843,
          34.649830735181,
          34.624499801652,
          34.613521039624,
          34.613521039624,
          34.613813202994,
          34.624244168345,
          34.61381814895,
          34.613827,
          34.612264447924,
          34.613999080153,
          34.613820452087,
          34.56173105805,
          34.566331686143,
          34.624263941139,
          34.613777386032,
          34.61743415396,
          34.624136190091,
          34.614186222237,
          34.624238839598,
          34.614130652626,
          34.619843,
          34.624321087662,
          34.624321087662,
          34.624220589557,
          34.624139580874,
          34.624205774396,
          34.613727978948,
          34.624100266681,
          34.613766569167,
          34.613738616249,
          34.619837178158,
          34.622534817162,
          34.631982319356,
          34.613828852287,
          34.613821251511,
          34.622540732148,
          34.622659219121,
          34.633455520682,
          34.624136432341,
          34.62273957457,
          34.622701732121,
          34.624192702283,
          34.617409337688,
          34.613823503624,
          34.596693530336,
          34.624251924862,
          34.622721126342,
          34.624206366594,
          34.618656,
          34.592056247546,
          34.624260949028,
          34.613518,
          34.624245957301,
          34.613728181376,
          34.624281101046,
          34.613826585179,
          34.624119841462,
          34.624227593558,
          34.624367,
          34.613824570581,
          34.613831859371,
          34.562706032127,
          34.624223265004,
          34.613827,
          34.624301622748,
          34.624244491737,
          34.641781487471,
          34.613822100325,
          34.624150416402,
          34.63979,
          34.627519885793,
          34.614022798248,
          34.560278778455,
          34.613829815617,
          34.624165,
          34.604679,
          34.617477854422,
          34.624291413796,
          34.624144827564,
          34.624144827564,
          34.647285461426,
          34.624157553477,
          34.624155394846,
          34.613823440805,
          34.628020958863,
          34.624196382482,
          34.613827,
          34.624258055954,
          34.624133380762,
          34.61384802465,
          34.637486,
          34.613827,
          34.607627125364,
          34.613772259558,
          34.602627729176,
          34.61374331306,
          34.627545045024,
          34.641795500521,
          34.624297078314,
          34.665495250182,
          36.614001352937,
          36.614001352937,
          36.614011467229,
          36.614011467229,
          36.614011467229,
          34.61384802465,
          34.624128995874,
          34.641795500521,
          34.62426,
          34.61384802465,
          34.665420438882,
          34.627519678916,
          34.614260976455,
          34.62421,
          34.61384802465,
          34.618671,
          34.632231727244,
          34.61384802465,
          34.596947672576,
          34.5966,
          34.624124723993,
          34.633717000001,
          34.617222966617,
          34.624197698883,
          34.624128995874,
          34.6185,
          34.619790648029,
          34.624229,
          34.613284453644,
          34.624128995874,
          34.624305452833,
          34.631489,
          34.624128995874,
          34.624128995874,
          34.61956,
          34.639512766667,
          34.617218866222,
          34.641795500521,
          34.607203528092,
          34.607203528092,
          34.613991406612,
          34.617225713342,
          34.624084,
          34.624128995874,
          34.611988,
          34.61384802465,
          34.640953694389,
          34.611037457324,
          34.624128995874,
          34.636845,
          34.669473056089,
          34.633280982313,
          34.624128995874,
          34.624128995874,
          34.617803178697,
          34.624128995874,
          34.622032,
          34.61384802465,
          34.589104,
          34.61384802465,
          34.61384802465,
          34.624128995874,
          34.635998319774,
          34.59613,
          34.865868074545,
          34.61384802465,
          34.640174740468,
          34.640174740468,
          34.640174740468,
          34.629494,
          34.61384802465,
          34.646244,
          34.68083095321,
          34.61384802465,
          34.640950917792,
          34.618911800891,
          34.61384802465,
          34.61384802465,
          34.628105558039,
          34.61384802465,
          34.635017,
          34.627964,
          34.61384802465,
          34.61384802465,
          34.617191,
          34.617704181675,
          34.641795500521,
          34.61384802465,
          34.617737949509,
          34.589542,
          34.638474,
          34.61384802465,
          34.61384802465,
          34.613995,
          34.628101,
          34.608757,
          34.61384802465,
          34.607471,
          34.624128995874,
          34.61384802465,
          34.629859345943,
          34.631772168151,
          34.61384802465,
          34.61398173626,
          34.61398173626,
          34.61384802465,
          34.62986,
          35.648468,
          34.61384802465,
          34.624128995874,
          34.609609258312,
          34.613445,
          34.625901593447,
          34.64627872668,
          34.61384802465,
          34.624128995874,
          35.698246,
          34.634991,
          34.607487,
          34.624128995874,
          34.624128995874,
          34.61384802465,
          34.61384802465,
          34.624251748392,
          34.61384802465,
          34.62201189192,
          34.61384802465,
          34.61226722667,
          34.624251748392,
          34.618908,
          34.613757007856,
          34.627068,
          34.641795500521,
          34.619503334,
          34.61384802465,
          34.609551778636,
          34.624251748392,
          34.603576863244,
          34.603576863244,
          34.61384802465,
          34.617306,
          34.611810377206,
          34.624251748392,
          34.638512,
          34.61384802465,
          34.617546721045,
          34.624251748392,
          34.613985138836
         ],
         "legendgroup": "",
         "lon": [
          50.8754821300665,
          50.87950800000209,
          51.34039400001311,
          51.33746200000292,
          51.33746200000292,
          51.3888731289108,
          50.89276760816574,
          50.89276760816574,
          51.36889314485322,
          50.89277545512618,
          50.86752958972136,
          50.8674604689854,
          50.879077267554976,
          50.80836400000146,
          51.3381196526945,
          50.89276299999685,
          50.89276299999685,
          50.8710061940219,
          50.879487991333,
          51.33768957530785,
          51.33768957530785,
          51.33768957530785,
          50.89276499999565,
          51.50122399999904,
          50.879145803203215,
          50.81501100000148,
          50.86102670890656,
          50.879507999999646,
          50.879487991333,
          50.86659038754252,
          50.8593319999946,
          50.8593319999946,
          50.879487991333,
          50.87589299999712,
          50.879487991333,
          50.879487991333,
          50.879487991333,
          50.885381488591065,
          50.88548546294359,
          50.879487991333,
          50.83299673408246,
          50.8484063392423,
          51.3410665238456,
          50.89276433053945,
          50.879487991333,
          50.879487991333,
          50.8791787225712,
          50.78697057705148,
          50.86707346996562,
          50.879487991333,
          50.85648481189142,
          50.879487991333,
          50.85486100000199,
          51.52914981306824,
          50.89277638822958,
          50.86931507892686,
          50.85303563805607,
          50.879487991333,
          50.87562902941542,
          50.86937757654695,
          50.87909900000042,
          50.875548924210136,
          50.879487991333,
          50.83933949578844,
          50.86928899999654,
          50.87817491669651,
          50.885378346592205,
          50.879487991333,
          50.87971900000037,
          50.86944100000301,
          50.80841130848532,
          50.88550736024857,
          50.80848200773346,
          51.39274400000232,
          51.39274400000232,
          50.86238281118042,
          50.98555299999632,
          50.89276716778613,
          50.86555499999818,
          50.87925401500928,
          50.86047999999917,
          50.87925401500928,
          50.88522700000243,
          50.88522700000243,
          50.834733999999,
          50.85297037686792,
          50.879487991333,
          50.8830109999976,
          50.857962622684994,
          50.8360824846965,
          50.856495412839536,
          50.86964015909081,
          50.85794899999772,
          50.908990000000045,
          50.879487991333,
          50.87869838459415,
          50.90912065241292,
          50.879487991333,
          50.87968774804153,
          50.879487991333,
          50.85813498309446,
          50.87971900000037,
          50.90904249217243,
          50.86839191919236,
          50.879487991333,
          50.846604000001264,
          50.84692180677072,
          50.90920299999931,
          50.87371532745991,
          50.868219767815134,
          50.879487991333,
          50.87565143752494,
          50.87562954459892,
          50.88187399999862,
          50.87564544029362,
          50.90892799999929,
          50.869152000000696,
          50.78817011121518,
          50.86109493055574,
          50.86900302164125,
          50.86900302164125,
          50.87925401500928,
          50.87565518252896,
          50.88355828038087,
          50.84960299999676,
          50.853016303214105,
          50.85648075939389,
          50.879487991333,
          50.85648416718135,
          50.857963000873696,
          50.86418901542112,
          50.879487991333,
          50.90873465036313,
          50.90873465036313,
          50.82918200000197,
          50.84045700000138,
          50.85648943194832,
          50.90987384029438,
          50.84390792719782,
          50.90938569944296,
          50.81126459820237,
          50.87925401500928,
          50.85461327037496,
          50.879487991333,
          50.81064042453511,
          50.85298514431682,
          50.879487991333,
          50.85797141044384,
          51.422297999999216,
          51.49550710000318,
          50.879487991333,
          50.79150946554188,
          50.856501519184064,
          50.85797799999824,
          50.85611625597875,
          50.85611625597875,
          50.879487991333,
          50.87945974655085,
          50.85310988939921,
          50.879487991333,
          50.80512584003745,
          50.879487991333,
          50.85797603857833,
          56.26233951603837,
          56.27120734047185,
          50.82176900000008,
          50.844701000001095,
          50.879487991333,
          50.79182399999869,
          50.86964015909081,
          50.86964015909081,
          50.86964015909081,
          50.87925401500928,
          50.87925401500928,
          50.86964015909081,
          50.87925401500928,
          50.87925401500928,
          50.87211942835711,
          50.87925401500928,
          50.86964015909081,
          50.891665000001126,
          50.86964015909081,
          50.87925401500928,
          50.86964015909081,
          50.86964015909081,
          50.86964015909081,
          50.87925401500928,
          50.86964015909081,
          50.79974299999628,
          50.87925401500928,
          50.86964015909081,
          50.87925401501553,
          50.79243000000105,
          50.79992349591348,
          50.84429899999651,
          50.843936728480685,
          50.843936728480685,
          50.81072480018486,
          50.79191890556777,
          50.86964015909081,
          50.87925401500928,
          50.87925401500928,
          50.87925401500928,
          50.879487991333,
          50.86964015909081,
          50.87925401500928,
          50.86964015909081,
          50.86964015909081,
          50.86964015909081,
          50.87925401500928,
          50.79185000000086,
          50.86964015909081,
          50.879487991333,
          50.84984200000096,
          50.84984200000096,
          50.86275557002338,
          50.84660800000327,
          50.862567002923925,
          50.858495000003984,
          50.874075367671736,
          50.86964015909081,
          50.86964015909081,
          50.84170846649508,
          50.8696523308754,
          50.79944900000152,
          50.8696523308754,
          50.879198361504166,
          50.86865099999602,
          50.84176919372155,
          50.84176919372155,
          50.8696523308754,
          50.8696523308754,
          50.87947311132797,
          50.86973888742773,
          50.8696523308754,
          50.879487991333,
          50.88158217071228,
          50.85673475678624,
          50.879487991333,
          50.8696523308754,
          50.8914368228244,
          50.8696523308754,
          50.8696523308754,
          50.87923969481389,
          50.8697370958896,
          50.875004000004,
          50.8696523308754,
          50.879487991333,
          50.8696523308754,
          50.8696523308754,
          50.86561099999653,
          50.8696523308754,
          50.8696523308754,
          50.85797799999884,
          50.83863300000013,
          50.8696523308754,
          50.87946829315371,
          50.87946829315371,
          50.85797503388503,
          50.86964696645737,
          50.86964696645737,
          50.87924645624912,
          50.879487991333,
          50.86964696645737,
          50.87914523701588,
          50.87436981983774,
          50.87917345185653,
          50.86837278935712,
          50.85990002504744,
          50.83430799999775,
          50.86964696645737,
          50.86593799999878,
          50.87923559082742,
          50.86964696645737,
          50.879487991333,
          50.879266000000655,
          50.86964696645737,
          50.86964696645737,
          50.89295500000526,
          50.863079554862765,
          50.87925359143279,
          50.86964696645737,
          50.9087112110328,
          50.86967299999725,
          50.87920649543912,
          50.86964696645737,
          50.879257767218206,
          50.86964696645737,
          50.86964696645737,
          50.86802815847426,
          50.86808000000221,
          50.90903900002618,
          50.879219957199126,
          50.856735920358005,
          50.87176479877132,
          50.86963678572562,
          50.86964696645737,
          50.86964696645737,
          50.87922088243121,
          50.84315938793611,
          50.86965399616668,
          50.86965691249432,
          50.87921921532623,
          50.87916508751417,
          50.86967815894735,
          50.868090999985895,
          50.86941224802831,
          50.87958002630941,
          50.86933999997274,
          50.86933999997274,
          50.85647962151498,
          50.879249275419085,
          50.879487991333,
          50.85671032778342,
          50.879478994111,
          50.87924299993946,
          50.86965412053485,
          50.85325813710318,
          50.87922065602646,
          50.86963801762374,
          50.868916530347605,
          50.86964161661544,
          50.88940385328959,
          50.87521680877202,
          50.879289839124766,
          50.86964900005663,
          50.90973000724867,
          50.879487991333,
          50.87925151176259,
          50.89533386157007,
          50.86964713052038,
          50.84830666455056,
          50.86964696645737,
          50.8960634709255,
          50.85795826620753,
          50.81719218831213,
          50.86800600000001,
          50.87921264090917,
          50.86965698184344,
          50.8792601860053,
          50.86964620814516,
          50.89213114705456,
          50.84415876125632,
          50.86964696649406,
          50.86964696645737,
          50.90996056452022,
          50.879487991333,
          50.86964696645737,
          50.86946625260416,
          50.833766,
          50.86964926241316,
          50.86964696645737,
          50.860301000013976,
          50.86964696645737,
          50.86964696645737,
          50.91012101253574,
          50.87914900000001,
          50.86964151167791,
          50.80844468449507,
          50.85841800001606,
          50.86965423094114,
          50.86965719351576,
          50.86963748868121,
          50.86963748868121,
          50.86155345769575,
          50.86964160203934,
          50.86964160203934,
          50.85686572124797,
          50.86964160203934,
          50.86964160203934,
          50.86964160203934,
          50.86964160203934,
          50.86964160203934,
          50.844159000030885,
          50.80828630571349,
          50.87925628063286,
          50.87925628063286,
          50.86231830097191,
          50.86230866600272,
          50.86964160203934,
          50.86964160203934,
          50.87925265959368,
          50.86964160203934,
          50.86190298714257,
          50.86964160203934,
          50.86964900001493,
          50.86769117371213,
          50.87964789900687,
          50.85472750359594,
          50.86964160203934,
          50.86963938908559,
          50.843413734527616,
          50.808492600917816,
          50.87927550641578,
          50.879487991333,
          50.86964899993788,
          50.87931299994463,
          50.86971958499788,
          50.879487991333,
          50.86964696645737,
          50.87928069145639,
          50.86964800952416,
          50.8696406060038,
          50.869697819050856,
          50.861226685552,
          50.86780245473324,
          50.86955563542787,
          50.8615524990758,
          50.869649724646536,
          50.808546245098114,
          50.86970675868125,
          50.808546245098114,
          50.879487991333,
          50.861794,
          50.86964160203934,
          50.86963722281254,
          50.879487991333,
          50.87256199999999,
          50.87256199999999,
          50.879487991333,
          50.80823900000004,
          50.84348784232381,
          50.879487991333,
          50.84198001178086,
          50.879487991333,
          50.879487991333,
          50.86230500000002,
          50.843422,
          50.808446724416825,
          50.87944542810135,
          50.80867945598604,
          50.879487991333,
          50.879487991333,
          50.879487991333,
          50.85368472201537,
          50.86780289710478,
          50.88554068916847,
          50.80869108438492,
          50.853563754104016,
          50.86256467646791,
          50.867808999999966,
          50.89046176689118,
          50.86166815315656,
          50.87929461237536,
          50.87094022933428,
          50.879487991333,
          50.85749746966067,
          50.86963585077976,
          50.869235742640086,
          50.80868035554886,
          50.80868035554886,
          50.87928097049499,
          50.879487991333,
          50.85953765654506,
          50.87927575229142,
          50.80872093772999,
          50.8794311533506,
          50.8693597296502,
          50.87926343186615,
          50.879289946273786,
          50.85648476710713,
          50.85646691387228,
          50.879219270678846,
          50.86256800000004,
          50.87564311843491,
          50.80866632302329,
          50.80866632302329,
          50.87923335819832,
          50.89085143188444,
          50.80868852826029,
          50.80868852826024,
          50.80868852826024,
          50.879487991333,
          50.87925744028309,
          50.779156,
          50.87923275234601,
          50.86065043225281,
          50.879434861614754,
          50.85186399999998,
          50.88309066020346,
          50.88309066020346,
          50.851849600552384,
          50.86745100000002,
          50.87564500000002,
          50.879487991333,
          50.87501168275696,
          50.77794762148443,
          51.31471764554587,
          50.87705798748166,
          51.31536880577201,
          51.39057500000004,
          51.3887719854626,
          50.879808682881816,
          50.86963623762131,
          50.91349399999999,
          50.86963623762131,
          50.91334845968083,
          50.86915199999999,
          50.913474094654674,
          50.83917543579293,
          50.86964696645737,
          50.85502462881735,
          50.85152759840457,
          50.879487991333,
          50.829151,
          50.79028840000001,
          50.8791525243704,
          50.86964696645737,
          50.879487991333,
          50.85492136423889,
          50.85379015935632,
          50.86964696645882,
          50.87929572079213,
          50.87929572079213,
          50.861099726938335,
          50.88072061296617,
          50.88072061296617,
          50.80867297247255,
          50.80860500000003,
          50.87927515649892,
          50.87966216352408,
          50.87927514061207,
          50.833892040209946,
          50.879487991333,
          51.36939511608085,
          50.8927180246142,
          50.86963843006225,
          51.36930117045324,
          50.87888357257901,
          50.84377944937472,
          50.8788627626069,
          50.87886339116494,
          50.87942191090315,
          50.868923,
          50.868819816593856,
          50.86733866725214,
          50.879487991333,
          50.86828416202778,
          50.808551609516144,
          50.87943699304668,
          50.879487991333,
          50.86923216107056,
          50.87207964312179,
          50.87885476519765,
          50.808546245098114,
          50.86952894926071,
          50.87887276228949,
          50.87889949337296,
          50.880110022069886,
          50.8611340518508,
          50.86964413164645,
          50.86964413164645,
          50.808552059709456,
          50.90963071594226,
          50.90963071594226,
          50.86964825211004,
          50.88308176662085,
          50.80854524289603,
          50.87887260566595,
          50.881294,
          50.879487991333,
          50.860600000000034,
          50.863935630890495,
          50.8651444730794,
          50.87927934698985,
          50.86149084696365,
          50.86150944774283,
          50.80859452486038,
          50.86150944774283,
          50.88189700000001,
          50.86150944774283,
          50.879653247276906,
          50.86148456013325,
          50.86148456013325,
          50.86150944774283,
          50.879671358021454,
          50.879671358021454,
          50.86150944774283,
          50.80859452486038,
          50.80859452486038,
          50.861509447742776,
          50.808571878629095,
          50.879487991333,
          50.86074942134357,
          50.881835110324886,
          50.86923599999997,
          50.91036690317662,
          50.80886659820351,
          50.80864375270559,
          50.8794392924853,
          50.87186425292197,
          50.86154149909942,
          50.8752102083418,
          50.858654989850834,
          50.814552325283984,
          50.80849450568604,
          50.86152207033851,
          50.80853063485819,
          50.86736215126948,
          50.86140886487394,
          50.87887064222386,
          50.879487991333,
          50.86150944774283,
          50.86150944774283,
          50.86150944774283,
          50.86150944774283,
          50.8782052599573,
          50.86150944774283,
          50.86723297834397,
          50.8794428016206,
          50.84642322269249,
          50.87649175489162,
          50.85602212909194,
          50.81733770871293,
          50.8788887549008,
          50.879487991333,
          50.86735635995865,
          50.879487991333,
          50.86142635120402,
          50.85962100475214,
          50.879654785162586,
          50.86150944774283,
          50.86154111346679,
          50.86154111346679,
          50.87890779965727,
          50.86141305600566,
          50.87946667848823,
          50.86149382154693,
          50.879487991333,
          50.84438698194785,
          50.87921000764271,
          50.86148888320014,
          50.87944422838393,
          50.86709586579636,
          50.86156987330816,
          50.86644829553339,
          50.86150944774283,
          50.86791869450937,
          50.87926374058617,
          50.86723446318089,
          50.8773426311019,
          50.87943463024763,
          50.86740431026465,
          50.86902725725372,
          50.86150944774283,
          50.86159625136423,
          50.8794198092516,
          50.86084048647501,
          50.861446172574,
          50.867569640451,
          50.861559270968,
          50.861410281694,
          50.879280209131,
          50.849563817886,
          50.861509447743,
          50.861509447743,
          50.861506259121,
          50.861432538109,
          50.879272,
          50.879487991333,
          50.86188289425,
          50.879487991333,
          50.861522089009,
          50.869267,
          50.891212516148,
          50.861411385601,
          50.861411385601,
          50.861411385601,
          50.861509447743,
          50.861509447743,
          50.879487991333,
          50.867379883934,
          50.879487991333,
          50.867398349567,
          50.892726690923,
          50.873288709304,
          50.873288709304,
          50.878967293066,
          50.878833914842,
          50.867362648259,
          50.867362648259,
          50.867362648259,
          50.879676337782,
          50.879487991333,
          50.861469111074,
          50.871307615535,
          50.879665246283,
          50.878919924439,
          50.867358788213,
          50.867358788213,
          50.867372407499,
          50.889713720139,
          50.861506353634,
          50.865852,
          50.808597608076,
          50.808597608076,
          50.869246930915,
          50.869246930915,
          50.879434723035,
          50.881362510737,
          50.868505702913,
          50.879202703797,
          50.861507241091,
          50.861507241091,
          50.874820091767,
          50.874820091767,
          50.86151860355,
          50.821697,
          50.821697,
          50.861476811204,
          50.861476811204,
          50.879424602016,
          50.879283977209,
          50.861559221042,
          50.866195617129,
          50.878920840719,
          50.855966294493,
          50.855966294493,
          50.808588189516,
          50.861643184394,
          50.861486775336,
          50.861509447743,
          50.861509447743,
          50.861509447743,
          50.861471896786,
          50.878890858187,
          50.861604463212,
          50.879487991333,
          50.874998674762,
          50.878935380855,
          50.808455049967,
          50.808414227395,
          50.868235255791,
          50.868235255791,
          50.87943518007,
          50.866226140088,
          50.861478602332,
          50.879216288222,
          50.885787782676,
          50.86129,
          50.879177152787,
          50.861400217135,
          50.878860766809,
          50.867367374067,
          50.879429,
          50.808455691249,
          50.808498,
          50.879248311964,
          50.870790841423,
          50.808400956924,
          50.808401405811,
          50.879487991333,
          50.866231927071,
          50.861496,
          50.86621788643,
          50.861509447743,
          50.812392830799,
          50.879161202104,
          50.892827507666,
          50.866767763412,
          50.805214729285,
          50.861425969633,
          50.861499699873,
          50.861509447743,
          50.900227,
          50.861509447743,
          50.861509447743,
          50.859480907858,
          50.879487991333,
          50.861397016471,
          50.879487991333,
          59.610816748227,
          50.808519870741,
          50.858638172184,
          50.878894353719,
          50.808475442117,
          50.808323366738,
          50.817192188312,
          50.861409169191,
          50.861409169191,
          50.808438212168,
          50.861509447743,
          50.80843,
          50.80843,
          50.879255924453,
          50.878989119323,
          50.861509447743,
          50.808220418672,
          50.87890041865,
          50.805415121599,
          50.878921163209,
          51.406833180526,
          50.879421387878,
          50.870840771102,
          50.879432467567,
          50.861509447743,
          50.865382286431,
          50.864144289626,
          50.855947592952,
          50.861492,
          50.879428646577,
          50.861485822617,
          50.860987560949,
          50.844368866695,
          50.844305180588,
          50.861482563086,
          50.878879235574,
          50.881118780591,
          50.868249124503,
          50.878842195007,
          50.879247498315,
          50.879487991333,
          50.861399385889,
          50.86095384483,
          50.856462170539,
          50.879436,
          50.836333648541,
          50.835072762177,
          50.882794043496,
          50.850411193456,
          50.879425495793,
          50.868217068021,
          50.879439359924,
          50.87890197021,
          50.87993992082,
          50.866218336532,
          50.856373,
          50.87888330983,
          50.879130654022,
          50.879130654022,
          50.879130654022,
          50.878910546306,
          50.881566073736,
          50.879428252153,
          50.866219,
          50.878864201147,
          50.858498,
          50.879487991333,
          50.864157180455,
          50.861509447743,
          50.867893522602,
          50.879429274509,
          50.867399389966,
          50.860523855139,
          50.794838,
          50.879487991333,
          50.861496234959,
          50.849586503066,
          50.849586503066,
          50.864147287337,
          50.867259846719,
          50.879424634919,
          50.84367,
          50.879215,
          50.879242878196,
          50.904373168849,
          50.879423273335,
          50.870148,
          50.879487991333,
          50.879213724424,
          50.872500015837,
          50.856072922066,
          50.861008,
          50.805176094363,
          50.879261884449,
          50.879409044474,
          50.879487991333,
          50.879433696917,
          50.879421420019,
          50.861509447743,
          50.861509447743,
          50.879761268298,
          50.879273399042,
          50.879683540562,
          50.858451232345,
          50.879135873213,
          50.87968698267,
          50.879425333129,
          50.867291681628,
          50.879267012901,
          50.861513296701,
          50.79118304147,
          50.87923667817,
          50.873188290012,
          50.866205859114,
          50.879258149621,
          50.879258149621,
          50.858347607416,
          50.868246297079,
          50.868246297079,
          50.879174664908,
          50.879763868854,
          50.894733,
          50.861509447743,
          50.86149608611,
          50.879429,
          50.858479929962,
          50.908619463444,
          50.865975770545,
          50.846331585265,
          50.879241018265,
          50.909068299235,
          50.878715515122,
          50.817514053384,
          50.817514053384,
          50.817514053384,
          50.869484980442,
          50.908197280695,
          50.878803,
          50.861120929523,
          50.895046866822,
          50.879429,
          50.89532100123,
          50.908885149886,
          50.908098318274,
          50.872470148144,
          50.908907307827,
          50.861413556967,
          50.908585856231,
          50.861788397473,
          50.844307508135,
          50.844307508135,
          50.879423523473,
          50.861463798357,
          50.879434181304,
          50.879429,
          50.842012198559,
          50.87977365996,
          50.879431928104,
          50.79966797199,
          50.789818445822,
          50.861455316174,
          50.879423618281,
          50.867876965727,
          50.86148354616,
          50.878853942976,
          50.861457420816,
          50.878893396424,
          50.868095,
          50.861537731965,
          50.861537731965,
          50.861359467224,
          50.861483545936,
          50.861366584936,
          50.879285449435,
          50.861438496998,
          50.879233789331,
          50.879256627537,
          50.86779030684,
          50.860100572947,
          50.869663112162,
          50.879404437431,
          50.879434171346,
          50.859868226254,
          50.859891744072,
          50.869351471725,
          50.861482759419,
          50.859752132698,
          50.859272589316,
          50.861359417268,
          50.867787325525,
          50.879430113559,
          50.872269236302,
          50.861430908183,
          50.85991552105,
          50.861360973261,
          50.856415,
          50.810507504337,
          50.861432250525,
          50.844303,
          50.861405057773,
          50.879261062109,
          50.861470372572,
          50.879425967688,
          50.861458038793,
          50.861368939575,
          50.861629,
          50.87943130752,
          50.879422898573,
          50.819018123157,
          50.861386448095,
          50.879429,
          50.861519503434,
          50.861408240713,
          50.864126878742,
          50.879433208472,
          50.861493204108,
          50.864407,
          50.861129584367,
          50.879012033684,
          50.797927865072,
          50.879432086988,
          50.861519,
          50.882473,
          50.879906586275,
          50.861496411312,
          50.861497506109,
          50.861497506109,
          50.879295349121,
          50.861509475812,
          50.861520203105,
          50.87941993771,
          50.862316441203,
          50.861355980746,
          50.879429,
          50.861448030743,
          50.861554475693,
          50.879487991333,
          50.873989,
          50.879429,
          50.866217448242,
          50.879241688583,
          50.856052375762,
          50.879246852437,
          50.861127036647,
          50.864179283381,
          50.861506903306,
          50.909981327935,
          52.183693500125,
          52.183693500125,
          52.183712919258,
          52.183712919258,
          52.183712919258,
          50.879487991333,
          50.861509447743,
          50.864179283381,
          50.861454,
          50.879487991333,
          50.910095145483,
          50.861129919089,
          50.878802284328,
          50.86137,
          50.879487991333,
          50.856476,
          50.869442772837,
          50.879487991333,
          50.87207213885,
          50.870609,
          50.861445233111,
          50.868438999998,
          50.846724808216,
          50.861315535001,
          50.861509447743,
          50.842274,
          50.859547396607,
          50.861401,
          50.843895119338,
          50.861509447743,
          50.861507014376,
          50.870117,
          50.861509447743,
          50.861509447743,
          50.868225,
          50.885387356813,
          50.846342925023,
          50.864179283381,
          50.868149537602,
          50.868149537602,
          50.879668569468,
          50.847106275155,
          50.862202,
          50.861509447743,
          50.848991,
          50.879487991333,
          50.892771822328,
          50.836218971375,
          50.861509447743,
          50.878403,
          50.895767045172,
          50.868305944687,
          50.861509447743,
          50.861509447743,
          50.867366088913,
          50.861509447743,
          50.867203,
          50.879487991333,
          50.812767,
          50.879487991333,
          50.879487991333,
          50.861509447743,
          50.869028672034,
          50.871094,
          50.854876427138,
          50.879487991333,
          50.870217363402,
          50.870217363402,
          50.870217363402,
          50.861515,
          50.879487991333,
          50.88205,
          50.878875389024,
          50.879487991333,
          50.861520271016,
          50.865596298062,
          50.879487991333,
          50.879487991333,
          50.862311303506,
          50.879487991333,
          50.870045,
          50.862312,
          50.879487991333,
          50.879487991333,
          50.847023,
          50.847064200336,
          50.864179283381,
          50.879487991333,
          50.845643748298,
          50.813297,
          50.897068,
          50.879487991333,
          50.879487991333,
          50.879711,
          50.862305,
          50.865314,
          50.879487991333,
          50.866924,
          50.861509447743,
          50.879487991333,
          50.861823572185,
          50.913475786373,
          50.879487991333,
          50.879683931544,
          50.879683931544,
          50.879487991333,
          50.860905,
          51.417244,
          50.879487991333,
          50.861509447743,
          50.840062292042,
          50.844288,
          50.87500306604,
          50.88211054149,
          50.879487991333,
          50.861509447743,
          51.257816,
          50.869999,
          50.866867,
          50.861509447743,
          50.861509447743,
          50.879487991333,
          50.879487991333,
          50.861664712429,
          50.879487991333,
          50.867113732102,
          50.879487991333,
          50.842924298264,
          50.861664712429,
          50.856739,
          50.879249347746,
          50.863083,
          50.864179283381,
          50.859900500419,
          50.879487991333,
          50.85608186614,
          50.861664712429,
          50.826403392592,
          50.826403392592,
          50.879487991333,
          50.836132,
          50.853381931335,
          50.861664712429,
          50.897106,
          50.879487991333,
          50.883116791399,
          50.861664712429,
          50.879674457127
         ],
         "marker": {
          "color": [
           21,
           13,
           12,
           9,
           9,
           21,
           17,
           17,
           18,
           18,
           14,
           13,
           12,
           8,
           9,
           12,
           12,
           19,
           19,
           14,
           14,
           14,
           9,
           8,
           17,
           15,
           16,
           1,
           20,
           18,
           18,
           18,
           22,
           21,
           19,
           19,
           19,
           18,
           14,
           22,
           21,
           18,
           15,
           13,
           3,
           22,
           12,
           11,
           19,
           20,
           19,
           1,
           17,
           13,
           9,
           12,
           19,
           23,
           22,
           13,
           1,
           2,
           23,
           21,
           15,
           14,
           12,
           20,
           18,
           9,
           12,
           12,
           11,
           19,
           19,
           19,
           12,
           9,
           2,
           20,
           12,
           18,
           11,
           11,
           19,
           9,
           16,
           9,
           9,
           15,
           14,
           12,
           12,
           10,
           21,
           19,
           9,
           22,
           21,
           15,
           14,
           13,
           10,
           22,
           12,
           12,
           12,
           9,
           20,
           18,
           13,
           11,
           10,
           18,
           15,
           14,
           18,
           7,
           16,
           16,
           16,
           21,
           20,
           19,
           22,
           10,
           15,
           15,
           14,
           9,
           16,
           15,
           11,
           11,
           14,
           20,
           18,
           11,
           18,
           12,
           17,
           19,
           14,
           21,
           17,
           9,
           9,
           9,
           21,
           18,
           21,
           16,
           14,
           10,
           15,
           15,
           11,
           9,
           9,
           16,
           11,
           10,
           9,
           11,
           9,
           22,
           20,
           15,
           16,
           14,
           14,
           13,
           18,
           12,
           10,
           17,
           14,
           14,
           22,
           16,
           12,
           12,
           22,
           14,
           15,
           15,
           21,
           16,
           10,
           23,
           14,
           19,
           15,
           10,
           18,
           18,
           18,
           17,
           16,
           12,
           21,
           22,
           23,
           23,
           20,
           18,
           16,
           16,
           15,
           22,
           16,
           13,
           12,
           12,
           12,
           9,
           8,
           8,
           12,
           12,
           22,
           14,
           15,
           14,
           9,
           11,
           22,
           20,
           16,
           15,
           12,
           15,
           21,
           15,
           17,
           13,
           13,
           22,
           21,
           12,
           15,
           9,
           15,
           23,
           15,
           11,
           14,
           20,
           20,
           20,
           20,
           11,
           14,
           10,
           9,
           7,
           22,
           22,
           12,
           15,
           11,
           21,
           11,
           10,
           20,
           15,
           15,
           12,
           12,
           12,
           15,
           12,
           21,
           15,
           20,
           21,
           14,
           16,
           15,
           11,
           20,
           13,
           12,
           12,
           20,
           15,
           21,
           14,
           17,
           13,
           18,
           18,
           21,
           22,
           22,
           15,
           11,
           11,
           20,
           19,
           15,
           13,
           15,
           15,
           11,
           23,
           22,
           12,
           22,
           22,
           21,
           18,
           2,
           23,
           19,
           18,
           11,
           23,
           23,
           18,
           15,
           13,
           10,
           19,
           21,
           12,
           11,
           1,
           22,
           12,
           14,
           14,
           12,
           18,
           15,
           20,
           19,
           18,
           14,
           21,
           18,
           17,
           19,
           13,
           11,
           10,
           19,
           14,
           13,
           18,
           14,
           13,
           15,
           15,
           11,
           10,
           10,
           14,
           13,
           18,
           15,
           17,
           15,
           15,
           6,
           15,
           15,
           23,
           15,
           15,
           15,
           14,
           14,
           21,
           7,
           18,
           18,
           14,
           23,
           15,
           13,
           14,
           15,
           23,
           18,
           16,
           14,
           13,
           12,
           12,
           13,
           18,
           11,
           23,
           18,
           14,
           20,
           15,
           19,
           14,
           19,
           15,
           15,
           14,
           23,
           13,
           12,
           7,
           14,
           8,
           16,
           9,
           22,
           19,
           15,
           15,
           20,
           21,
           21,
           18,
           8,
           19,
           0,
           22,
           0,
           0,
           22,
           12,
           8,
           20,
           9,
           22,
           21,
           15,
           19,
           15,
           11,
           9,
           20,
           17,
           11,
           11,
           6,
           20,
           11,
           23,
           23,
           17,
           15,
           10,
           10,
           18,
           23,
           20,
           18,
           7,
           21,
           18,
           18,
           22,
           21,
           21,
           22,
           21,
           4,
           12,
           12,
           17,
           16,
           9,
           8,
           8,
           18,
           18,
           21,
           17,
           12,
           16,
           21,
           3,
           3,
           21,
           15,
           14,
           13,
           13,
           20,
           10,
           8,
           12,
           0,
           0,
           19,
           13,
           13,
           13,
           12,
           15,
           13,
           15,
           13,
           13,
           12,
           13,
           13,
           21,
           19,
           15,
           21,
           16,
           3,
           21,
           22,
           22,
           17,
           21,
           21,
           13,
           13,
           21,
           13,
           19,
           15,
           20,
           15,
           11,
           18,
           14,
           20,
           9,
           21,
           21,
           12,
           22,
           15,
           11,
           17,
           20,
           13,
           21,
           17,
           20,
           22,
           22,
           13,
           10,
           23,
           21,
           20,
           16,
           12,
           12,
           12,
           11,
           12,
           10,
           19,
           10,
           20,
           19,
           20,
           19,
           18,
           6,
           0,
           17,
           19,
           13,
           12,
           12,
           11,
           17,
           11,
           11,
           11,
           11,
           11,
           10,
           10,
           10,
           14,
           17,
           13,
           12,
           11,
           17,
           13,
           15,
           9,
           19,
           23,
           12,
           16,
           16,
           14,
           10,
           16,
           13,
           11,
           11,
           19,
           14,
           14,
           14,
           11,
           11,
           21,
           19,
           14,
           23,
           22,
           21,
           17,
           16,
           21,
           19,
           15,
           23,
           16,
           22,
           22,
           13,
           13,
           13,
           20,
           13,
           20,
           15,
           14,
           12,
           16,
           14,
           2,
           21,
           21,
           20,
           15,
           19,
           18,
           18,
           22,
           21,
           17,
           21,
           14,
           15,
           21,
           15,
           17,
           14,
           14,
           19,
           17,
           12,
           13,
           13,
           12,
           15,
           21,
           19,
           17,
           0,
           15,
           14,
           20,
           14,
           14,
           14,
           14,
           14,
           18,
           15,
           21,
           20,
           4,
           4,
           4,
           17,
           21,
           11,
           11,
           11,
           23,
           21,
           16,
           15,
           20,
           19,
           13,
           13,
           13,
           11,
           12,
           17,
           7,
           13,
           18,
           17,
           22,
           12,
           21,
           21,
           12,
           12,
           12,
           12,
           11,
           22,
           22,
           12,
           12,
           21,
           10,
           13,
           23,
           20,
           17,
           17,
           15,
           9,
           16,
           11,
           18,
           17,
           16,
           23,
           11,
           22,
           14,
           20,
           12,
           16,
           21,
           21,
           12,
           22,
           10,
           14,
           21,
           11,
           23,
           11,
           21,
           10,
           19,
           16,
           12,
           19,
           11,
           13,
           18,
           22,
           20,
           18,
           16,
           9,
           15,
           15,
           7,
           21,
           13,
           12,
           19,
           14,
           11,
           13,
           16,
           23,
           19,
           15,
           10,
           19,
           8,
           23,
           19,
           10,
           13,
           13,
           10,
           10,
           16,
           11,
           8,
           8,
           19,
           19,
           12,
           10,
           20,
           13,
           12,
           8,
           21,
           19,
           16,
           14,
           21,
           20,
           23,
           16,
           22,
           16,
           16,
           23,
           23,
           18,
           22,
           19,
           16,
           15,
           22,
           18,
           16,
           22,
           19,
           16,
           20,
           18,
           19,
           19,
           22,
           20,
           16,
           13,
           17,
           14,
           16,
           21,
           0,
           0,
           0,
           17,
           12,
           18,
           16,
           14,
           14,
           15,
           16,
           15,
           22,
           0,
           19,
           21,
           17,
           14,
           18,
           9,
           9,
           21,
           15,
           14,
           14,
           20,
           23,
           17,
           23,
           8,
           18,
           23,
           22,
           17,
           15,
           14,
           18,
           18,
           12,
           17,
           16,
           15,
           15,
           13,
           18,
           12,
           13,
           22,
           18,
           23,
           21,
           0,
           22,
           17,
           1,
           20,
           11,
           21,
           20,
           18,
           15,
           15,
           0,
           20,
           18,
           14,
           13,
           15,
           9,
           8,
           15,
           14,
           12,
           11,
           16,
           15,
           15,
           15,
           13,
           12,
           22,
           21,
           20,
           17,
           16,
           8,
           15,
           9,
           10,
           11,
           10,
           14,
           13,
           13,
           23,
           15,
           23,
           17,
           19,
           12,
           12,
           19,
           18,
           12,
           23,
           16,
           15,
           14,
           16,
           0,
           23,
           14,
           14,
           18,
           13,
           13,
           21,
           15,
           0,
           23,
           14,
           17,
           17,
           17,
           3,
           22,
           16,
           15,
           14,
           0,
           0,
           17,
           14,
           23,
           20,
           16,
           17,
           15,
           15,
           13,
           15,
           21,
           15,
           0,
           18,
           1,
           15,
           13,
           15,
           18,
           21,
           19,
           13,
           23,
           16,
           12,
           15,
           12,
           11,
           22,
           22,
           23,
           13,
           15,
           12,
           11,
           14,
           14,
           15,
           15,
           17,
           15,
           12,
           19,
           18,
           15,
           15,
           11,
           14,
           18,
           18,
           0,
           22,
           20,
           10,
           23,
           16,
           14,
           13,
           10,
           20,
           20,
           20,
           20,
           20,
           0,
           19,
           15,
           14,
           12,
           12,
           17,
           18,
           14,
           0,
           23,
           23,
           19,
           18,
           15,
           15,
           12,
           15,
           16,
           11,
           18,
           17,
           17,
           22,
           18,
           16,
           22,
           15,
           18,
           16,
           14,
           21,
           22,
           14,
           14,
           22,
           21,
           14,
           17,
           19,
           22,
           22,
           15,
           20,
           22,
           21,
           19,
           17,
           17,
           21,
           17,
           17,
           23,
           22,
           21,
           23,
           18,
           16,
           20,
           8,
           7,
           6,
           6,
           6,
           6,
           2,
           21,
           22,
           18,
           18,
           15,
           1,
           1,
           21,
           23,
           18,
           21,
           17,
           23,
           22,
           20,
           19,
           23,
           21,
           19,
           17,
           16,
           22,
           14,
           16,
           19,
           19,
           16,
           19,
           17,
           17,
           14,
           20,
           14,
           14,
           23,
           21,
           14,
           17,
           16,
           17,
           16,
           16,
           20,
           13,
           17,
           12,
           11,
           16,
           15,
           14,
           13,
           23,
           17,
           0,
           18,
           13,
           13,
           11,
           18,
           1,
           18,
           12,
           17,
           20,
           18,
           21,
           18,
           18,
           2,
           18,
           14,
           16,
           12,
           22,
           20,
           16,
           13
          ],
          "coloraxis": "coloraxis"
         },
         "mode": "markers",
         "name": "",
         "showlegend": false,
         "subplot": "mapbox",
         "type": "scattermapbox"
        }
       ],
       "layout": {
        "template": {
         "data": {
          "histogram2dcontour": [
           {
            "type": "histogram2dcontour",
            "colorbar": {
             "outlinewidth": 0,
             "ticks": ""
            },
            "colorscale": [
             [
              0.0,
              "#0d0887"
             ],
             [
              0.1111111111111111,
              "#46039f"
             ],
             [
              0.2222222222222222,
              "#7201a8"
             ],
             [
              0.3333333333333333,
              "#9c179e"
             ],
             [
              0.4444444444444444,
              "#bd3786"
             ],
             [
              0.5555555555555556,
              "#d8576b"
             ],
             [
              0.6666666666666666,
              "#ed7953"
             ],
             [
              0.7777777777777778,
              "#fb9f3a"
             ],
             [
              0.8888888888888888,
              "#fdca26"
             ],
             [
              1.0,
              "#f0f921"
             ]
            ]
           }
          ],
          "choropleth": [
           {
            "type": "choropleth",
            "colorbar": {
             "outlinewidth": 0,
             "ticks": ""
            }
           }
          ],
          "histogram2d": [
           {
            "type": "histogram2d",
            "colorbar": {
             "outlinewidth": 0,
             "ticks": ""
            },
            "colorscale": [
             [
              0.0,
              "#0d0887"
             ],
             [
              0.1111111111111111,
              "#46039f"
             ],
             [
              0.2222222222222222,
              "#7201a8"
             ],
             [
              0.3333333333333333,
              "#9c179e"
             ],
             [
              0.4444444444444444,
              "#bd3786"
             ],
             [
              0.5555555555555556,
              "#d8576b"
             ],
             [
              0.6666666666666666,
              "#ed7953"
             ],
             [
              0.7777777777777778,
              "#fb9f3a"
             ],
             [
              0.8888888888888888,
              "#fdca26"
             ],
             [
              1.0,
              "#f0f921"
             ]
            ]
           }
          ],
          "heatmap": [
           {
            "type": "heatmap",
            "colorbar": {
             "outlinewidth": 0,
             "ticks": ""
            },
            "colorscale": [
             [
              0.0,
              "#0d0887"
             ],
             [
              0.1111111111111111,
              "#46039f"
             ],
             [
              0.2222222222222222,
              "#7201a8"
             ],
             [
              0.3333333333333333,
              "#9c179e"
             ],
             [
              0.4444444444444444,
              "#bd3786"
             ],
             [
              0.5555555555555556,
              "#d8576b"
             ],
             [
              0.6666666666666666,
              "#ed7953"
             ],
             [
              0.7777777777777778,
              "#fb9f3a"
             ],
             [
              0.8888888888888888,
              "#fdca26"
             ],
             [
              1.0,
              "#f0f921"
             ]
            ]
           }
          ],
          "heatmapgl": [
           {
            "type": "heatmapgl",
            "colorbar": {
             "outlinewidth": 0,
             "ticks": ""
            },
            "colorscale": [
             [
              0.0,
              "#0d0887"
             ],
             [
              0.1111111111111111,
              "#46039f"
             ],
             [
              0.2222222222222222,
              "#7201a8"
             ],
             [
              0.3333333333333333,
              "#9c179e"
             ],
             [
              0.4444444444444444,
              "#bd3786"
             ],
             [
              0.5555555555555556,
              "#d8576b"
             ],
             [
              0.6666666666666666,
              "#ed7953"
             ],
             [
              0.7777777777777778,
              "#fb9f3a"
             ],
             [
              0.8888888888888888,
              "#fdca26"
             ],
             [
              1.0,
              "#f0f921"
             ]
            ]
           }
          ],
          "contourcarpet": [
           {
            "type": "contourcarpet",
            "colorbar": {
             "outlinewidth": 0,
             "ticks": ""
            }
           }
          ],
          "contour": [
           {
            "type": "contour",
            "colorbar": {
             "outlinewidth": 0,
             "ticks": ""
            },
            "colorscale": [
             [
              0.0,
              "#0d0887"
             ],
             [
              0.1111111111111111,
              "#46039f"
             ],
             [
              0.2222222222222222,
              "#7201a8"
             ],
             [
              0.3333333333333333,
              "#9c179e"
             ],
             [
              0.4444444444444444,
              "#bd3786"
             ],
             [
              0.5555555555555556,
              "#d8576b"
             ],
             [
              0.6666666666666666,
              "#ed7953"
             ],
             [
              0.7777777777777778,
              "#fb9f3a"
             ],
             [
              0.8888888888888888,
              "#fdca26"
             ],
             [
              1.0,
              "#f0f921"
             ]
            ]
           }
          ],
          "surface": [
           {
            "type": "surface",
            "colorbar": {
             "outlinewidth": 0,
             "ticks": ""
            },
            "colorscale": [
             [
              0.0,
              "#0d0887"
             ],
             [
              0.1111111111111111,
              "#46039f"
             ],
             [
              0.2222222222222222,
              "#7201a8"
             ],
             [
              0.3333333333333333,
              "#9c179e"
             ],
             [
              0.4444444444444444,
              "#bd3786"
             ],
             [
              0.5555555555555556,
              "#d8576b"
             ],
             [
              0.6666666666666666,
              "#ed7953"
             ],
             [
              0.7777777777777778,
              "#fb9f3a"
             ],
             [
              0.8888888888888888,
              "#fdca26"
             ],
             [
              1.0,
              "#f0f921"
             ]
            ]
           }
          ],
          "mesh3d": [
           {
            "type": "mesh3d",
            "colorbar": {
             "outlinewidth": 0,
             "ticks": ""
            }
           }
          ],
          "scatter": [
           {
            "fillpattern": {
             "fillmode": "overlay",
             "size": 10,
             "solidity": 0.2
            },
            "type": "scatter"
           }
          ],
          "parcoords": [
           {
            "type": "parcoords",
            "line": {
             "colorbar": {
              "outlinewidth": 0,
              "ticks": ""
             }
            }
           }
          ],
          "scatterpolargl": [
           {
            "type": "scatterpolargl",
            "marker": {
             "colorbar": {
              "outlinewidth": 0,
              "ticks": ""
             }
            }
           }
          ],
          "bar": [
           {
            "error_x": {
             "color": "#2a3f5f"
            },
            "error_y": {
             "color": "#2a3f5f"
            },
            "marker": {
             "line": {
              "color": "#E5ECF6",
              "width": 0.5
             },
             "pattern": {
              "fillmode": "overlay",
              "size": 10,
              "solidity": 0.2
             }
            },
            "type": "bar"
           }
          ],
          "scattergeo": [
           {
            "type": "scattergeo",
            "marker": {
             "colorbar": {
              "outlinewidth": 0,
              "ticks": ""
             }
            }
           }
          ],
          "scatterpolar": [
           {
            "type": "scatterpolar",
            "marker": {
             "colorbar": {
              "outlinewidth": 0,
              "ticks": ""
             }
            }
           }
          ],
          "histogram": [
           {
            "marker": {
             "pattern": {
              "fillmode": "overlay",
              "size": 10,
              "solidity": 0.2
             }
            },
            "type": "histogram"
           }
          ],
          "scattergl": [
           {
            "type": "scattergl",
            "marker": {
             "colorbar": {
              "outlinewidth": 0,
              "ticks": ""
             }
            }
           }
          ],
          "scatter3d": [
           {
            "type": "scatter3d",
            "line": {
             "colorbar": {
              "outlinewidth": 0,
              "ticks": ""
             }
            },
            "marker": {
             "colorbar": {
              "outlinewidth": 0,
              "ticks": ""
             }
            }
           }
          ],
          "scattermapbox": [
           {
            "type": "scattermapbox",
            "marker": {
             "colorbar": {
              "outlinewidth": 0,
              "ticks": ""
             }
            }
           }
          ],
          "scatterternary": [
           {
            "type": "scatterternary",
            "marker": {
             "colorbar": {
              "outlinewidth": 0,
              "ticks": ""
             }
            }
           }
          ],
          "scattercarpet": [
           {
            "type": "scattercarpet",
            "marker": {
             "colorbar": {
              "outlinewidth": 0,
              "ticks": ""
             }
            }
           }
          ],
          "carpet": [
           {
            "aaxis": {
             "endlinecolor": "#2a3f5f",
             "gridcolor": "white",
             "linecolor": "white",
             "minorgridcolor": "white",
             "startlinecolor": "#2a3f5f"
            },
            "baxis": {
             "endlinecolor": "#2a3f5f",
             "gridcolor": "white",
             "linecolor": "white",
             "minorgridcolor": "white",
             "startlinecolor": "#2a3f5f"
            },
            "type": "carpet"
           }
          ],
          "table": [
           {
            "cells": {
             "fill": {
              "color": "#EBF0F8"
             },
             "line": {
              "color": "white"
             }
            },
            "header": {
             "fill": {
              "color": "#C8D4E3"
             },
             "line": {
              "color": "white"
             }
            },
            "type": "table"
           }
          ],
          "barpolar": [
           {
            "marker": {
             "line": {
              "color": "#E5ECF6",
              "width": 0.5
             },
             "pattern": {
              "fillmode": "overlay",
              "size": 10,
              "solidity": 0.2
             }
            },
            "type": "barpolar"
           }
          ],
          "pie": [
           {
            "automargin": true,
            "type": "pie"
           }
          ]
         },
         "layout": {
          "autotypenumbers": "strict",
          "colorway": [
           "#636efa",
           "#EF553B",
           "#00cc96",
           "#ab63fa",
           "#FFA15A",
           "#19d3f3",
           "#FF6692",
           "#B6E880",
           "#FF97FF",
           "#FECB52"
          ],
          "font": {
           "color": "#2a3f5f"
          },
          "hovermode": "closest",
          "hoverlabel": {
           "align": "left"
          },
          "paper_bgcolor": "white",
          "plot_bgcolor": "#E5ECF6",
          "polar": {
           "bgcolor": "#E5ECF6",
           "angularaxis": {
            "gridcolor": "white",
            "linecolor": "white",
            "ticks": ""
           },
           "radialaxis": {
            "gridcolor": "white",
            "linecolor": "white",
            "ticks": ""
           }
          },
          "ternary": {
           "bgcolor": "#E5ECF6",
           "aaxis": {
            "gridcolor": "white",
            "linecolor": "white",
            "ticks": ""
           },
           "baxis": {
            "gridcolor": "white",
            "linecolor": "white",
            "ticks": ""
           },
           "caxis": {
            "gridcolor": "white",
            "linecolor": "white",
            "ticks": ""
           }
          },
          "coloraxis": {
           "colorbar": {
            "outlinewidth": 0,
            "ticks": ""
           }
          },
          "colorscale": {
           "sequential": [
            [
             0.0,
             "#0d0887"
            ],
            [
             0.1111111111111111,
             "#46039f"
            ],
            [
             0.2222222222222222,
             "#7201a8"
            ],
            [
             0.3333333333333333,
             "#9c179e"
            ],
            [
             0.4444444444444444,
             "#bd3786"
            ],
            [
             0.5555555555555556,
             "#d8576b"
            ],
            [
             0.6666666666666666,
             "#ed7953"
            ],
            [
             0.7777777777777778,
             "#fb9f3a"
            ],
            [
             0.8888888888888888,
             "#fdca26"
            ],
            [
             1.0,
             "#f0f921"
            ]
           ],
           "sequentialminus": [
            [
             0.0,
             "#0d0887"
            ],
            [
             0.1111111111111111,
             "#46039f"
            ],
            [
             0.2222222222222222,
             "#7201a8"
            ],
            [
             0.3333333333333333,
             "#9c179e"
            ],
            [
             0.4444444444444444,
             "#bd3786"
            ],
            [
             0.5555555555555556,
             "#d8576b"
            ],
            [
             0.6666666666666666,
             "#ed7953"
            ],
            [
             0.7777777777777778,
             "#fb9f3a"
            ],
            [
             0.8888888888888888,
             "#fdca26"
            ],
            [
             1.0,
             "#f0f921"
            ]
           ],
           "diverging": [
            [
             0,
             "#8e0152"
            ],
            [
             0.1,
             "#c51b7d"
            ],
            [
             0.2,
             "#de77ae"
            ],
            [
             0.3,
             "#f1b6da"
            ],
            [
             0.4,
             "#fde0ef"
            ],
            [
             0.5,
             "#f7f7f7"
            ],
            [
             0.6,
             "#e6f5d0"
            ],
            [
             0.7,
             "#b8e186"
            ],
            [
             0.8,
             "#7fbc41"
            ],
            [
             0.9,
             "#4d9221"
            ],
            [
             1,
             "#276419"
            ]
           ]
          },
          "xaxis": {
           "gridcolor": "white",
           "linecolor": "white",
           "ticks": "",
           "title": {
            "standoff": 15
           },
           "zerolinecolor": "white",
           "automargin": true,
           "zerolinewidth": 2
          },
          "yaxis": {
           "gridcolor": "white",
           "linecolor": "white",
           "ticks": "",
           "title": {
            "standoff": 15
           },
           "zerolinecolor": "white",
           "automargin": true,
           "zerolinewidth": 2
          },
          "scene": {
           "xaxis": {
            "backgroundcolor": "#E5ECF6",
            "gridcolor": "white",
            "linecolor": "white",
            "showbackground": true,
            "ticks": "",
            "zerolinecolor": "white",
            "gridwidth": 2
           },
           "yaxis": {
            "backgroundcolor": "#E5ECF6",
            "gridcolor": "white",
            "linecolor": "white",
            "showbackground": true,
            "ticks": "",
            "zerolinecolor": "white",
            "gridwidth": 2
           },
           "zaxis": {
            "backgroundcolor": "#E5ECF6",
            "gridcolor": "white",
            "linecolor": "white",
            "showbackground": true,
            "ticks": "",
            "zerolinecolor": "white",
            "gridwidth": 2
           }
          },
          "shapedefaults": {
           "line": {
            "color": "#2a3f5f"
           }
          },
          "annotationdefaults": {
           "arrowcolor": "#2a3f5f",
           "arrowhead": 0,
           "arrowwidth": 1
          },
          "geo": {
           "bgcolor": "white",
           "landcolor": "#E5ECF6",
           "subunitcolor": "white",
           "showland": true,
           "showlakes": true,
           "lakecolor": "white"
          },
          "title": {
           "x": 0.05
          },
          "mapbox": {
           "style": "light"
          }
         }
        },
        "mapbox": {
         "domain": {
          "x": [
           0.0,
           1.0
          ],
          "y": [
           0.0,
           1.0
          ]
         },
         "center": {
          "lat": 34.63996110773673,
          "lon": 50.8990253217047
         },
         "zoom": 8,
         "style": "carto-positron"
        },
        "coloraxis": {
         "colorbar": {
          "title": {
           "text": "hour"
          }
         },
         "colorscale": [
          [
           0.0,
           "#0d0887"
          ],
          [
           0.1111111111111111,
           "#46039f"
          ],
          [
           0.2222222222222222,
           "#7201a8"
          ],
          [
           0.3333333333333333,
           "#9c179e"
          ],
          [
           0.4444444444444444,
           "#bd3786"
          ],
          [
           0.5555555555555556,
           "#d8576b"
          ],
          [
           0.6666666666666666,
           "#ed7953"
          ],
          [
           0.7777777777777778,
           "#fb9f3a"
          ],
          [
           0.8888888888888888,
           "#fdca26"
          ],
          [
           1.0,
           "#f0f921"
          ]
         ]
        },
        "legend": {
         "tracegroupgap": 0
        },
        "margin": {
         "t": 60
        }
       },
       "config": {
        "plotlyServerURL": "https://plot.ly"
       }
      },
      "text/html": "<div>                            <div id=\"6c0c562a-ec81-4771-b209-b3fd389c7329\" class=\"plotly-graph-div\" style=\"height:525px; width:100%;\"></div>            <script type=\"text/javascript\">                require([\"plotly\"], function(Plotly) {                    window.PLOTLYENV=window.PLOTLYENV || {};                                    if (document.getElementById(\"6c0c562a-ec81-4771-b209-b3fd389c7329\")) {                    Plotly.newPlot(                        \"6c0c562a-ec81-4771-b209-b3fd389c7329\",                        [{\"hovertemplate\":\"destination_lat=%{lat}\\u003cbr\\u003edestination_lng=%{lon}\\u003cbr\\u003ehour=%{marker.color}\\u003cextra\\u003e\\u003c\\u002fextra\\u003e\",\"lat\":[34.62205669573338,34.61380905076565,35.76265012713846,35.76319474552973,35.76319474552973,35.694084460021344,34.67588908785016,34.67588908785016,35.60704841640364,34.67587518493056,34.626917215492256,34.627276064404015,34.61396241300022,34.57399579790018,35.76298149792784,34.67590087769065,34.67590087769065,34.62321986798099,34.61384802465,35.763132097587615,35.763132097587615,35.763132097587615,34.67579126296961,35.79920171632924,34.6141155392958,34.586275394479685,34.60650418499934,34.613809050600366,34.61384802465,34.61196465573228,34.621328615528014,34.621328615528014,34.61384802465,34.641749380157194,34.61384802465,34.61384802465,34.61384802465,34.63950825549658,34.639351384145726,34.61384802465,34.610009926177284,34.62330114215129,35.76354313568021,34.675859601353906,34.61384802465,34.61384802465,34.614068018817704,34.56118198549477,34.621973834666505,34.61384802465,34.607023399678695,34.61384802465,34.62623530424031,35.73730841225668,34.67587899208637,34.620947225695275,34.618245640710626,34.61384802465,34.63855451198714,34.62100460726677,34.613976069911246,34.63862629768488,34.61384802465,34.61145181358917,34.620974773444274,34.616394931411776,34.63950897089792,34.61384802465,34.61401381155028,34.62099903384167,34.5741151879744,34.63936962575218,34.5742504053967,35.703462791345885,35.703462791345885,34.62763290420389,35.728002829203305,34.675878537060484,34.64943383652869,34.61375445230658,34.609723952196404,34.61375445230658,34.63916133798165,34.63916133798165,34.61732165632,34.611925455978934,34.61384802465,34.633892234780234,34.613741746025426,34.61247548028345,34.60704597601173,34.63197477290494,34.612866962422856,34.64929383711282,34.61384802465,34.62726785235552,34.6491155667853,34.61384802465,34.644656495670176,34.61384802465,34.610746653946194,34.61401381155028,34.6492395402406,34.63382353695744,34.61384802465,34.62127119195051,34.62157880544231,34.64903822870147,34.613665999703315,34.63391661365856,34.61384802465,34.63855889249227,34.63850775947239,34.63086781803818,34.638538961446855,34.64938723984912,34.620957270604464,34.558543378996575,34.627477429407605,34.62092576197239,34.62092576197239,34.61375445230658,34.638573135672345,34.62539710795754,34.62209047492725,34.61208282133886,34.60704156195868,34.61384802465,34.60703943825085,34.61373194655657,34.641796444609085,34.61384802465,34.649617962306024,34.649617962306024,34.56104422272182,34.59462048171784,34.6070462154191,34.66577385254398,34.61330701250458,34.665925510672764,34.57064569380161,34.61375445230658,34.60462963456362,34.61384802465,34.57054463508089,34.611980871150465,34.61384802465,34.61376622962108,35.72481188893465,35.74020603260638,34.61384802465,34.54559725578409,34.60708854613485,34.61379362736146,34.6187259768175,34.6187259768175,34.61384802465,34.61388100802931,34.611939572875016,34.61384802465,34.57323794425108,34.61384802465,34.61376851494552,26.954684877318883,26.93440080955523,34.58046698832136,34.61537196996315,34.61384802465,34.545918815987065,34.63197477290494,34.63197477290494,34.63197477290494,34.61375445230658,34.61375445230658,34.63197477290494,34.61375445230658,34.61375445230658,34.623943236208405,34.61375445230658,34.63197477290494,34.644317893549584,34.63197477290494,34.61375445230658,34.63197477290494,34.63197477290494,34.63197477290494,34.61375445230658,34.63197477290494,34.57445609080415,34.61375445230658,34.63197477290494,34.6135601957686,34.54547868227783,34.57464744410497,34.59815151652504,34.59834112474883,34.59834112474883,34.570499105050644,34.54586373843482,34.63197477290494,34.61375445230658,34.61375445230658,34.61375445230658,34.61384802465,34.63197477290494,34.61375445230658,34.63197477290494,34.63197477290494,34.63197477290494,34.61375445230658,34.545915673346315,34.63197477290494,34.61384802465,34.61008661707743,34.61008661707743,34.643302024994824,34.618402652433616,34.627587091685115,34.64537152819604,34.62556614714542,34.63197477290494,34.63197477290494,34.612419830692446,34.63196997432229,34.57415640316971,34.63196997432229,34.61382694950923,34.620857960371495,34.593940012069226,34.593940012069226,34.63196997432229,34.63196997432229,34.61388560265303,34.63203100671802,34.63196997432229,34.61384802465,34.63049717057227,34.60184161108447,34.61384802465,34.63196997432229,34.644129183825044,34.63196997432229,34.63196997432229,34.61376667787789,34.63203454406106,34.625871107439,34.63196997432229,34.61384802465,34.63196997432229,34.63196997432229,34.61890232124684,34.63196997432229,34.63196997432229,34.61377875401996,34.61027399797538,34.63196997432229,34.61388726968799,34.61388726968799,34.61376860500387,34.63196490487997,34.63196490487997,34.6137790439911,34.61384802465,34.63196490487997,34.6137867014523,34.62524216413763,34.61387288728875,34.63366426064057,34.635137408418785,34.61725782011521,34.63196997432229,34.64129338710018,34.61377015240498,34.63196997432229,34.61384802465,34.61374100310613,34.63196997432229,34.63196997432229,34.645127216136785,34.64359531614065,34.613786877425866,34.63196997432229,34.66639400747053,34.63195074557834,34.613769746965176,34.63196997432229,34.613747644530065,34.63196997432229,34.63196997432229,34.6198121715976,34.633534602019594,34.63928299999661,34.61381480739777,34.60189276607946,34.62969693453033,34.631971769623775,34.63196997432229,34.63196997432229,34.613827310207725,34.612556057603115,34.63196202477347,34.631969944385006,34.61700392061498,34.61696591027075,34.631924999354894,34.63344192751862,34.63222286826847,34.613382465396754,34.62099279468936,34.62099279468936,34.60680688696063,34.61374875490266,34.61384802465,34.60189080865041,34.61389288452234,34.61377116676128,34.631958879252295,34.62053395476168,34.61377332705058,34.63195252855154,34.620897396865615,34.631968773478306,34.65108228866194,34.67787208864948,34.61374120424499,34.631987343135165,34.66566197782093,34.61384802465,34.61376552814944,34.63101145962442,34.63197936049073,34.623137861691774,34.63198011320693,34.63101242769841,34.61374123443015,34.563778829653074,34.63382800000001,34.61382540070625,34.63196409625128,34.61376576877208,34.631985041722174,34.64463042783669,34.61123473813456,34.631798572968705,34.631992786812724,34.6657287775533,34.61384802465,34.631992786812724,34.60077912864372,34.61255200000005,34.631989604302674,34.631995321533886,34.6236690802813,34.631995321533886,34.631995321533886,34.665599674968746,34.61388799999999,34.631977908835296,34.57423862502063,34.61594660098432,34.631977871110934,34.63196981624991,34.63197726911402,34.63197726911402,34.62952019529287,34.63200546041852,34.63200546041852,34.62672382822825,34.63200546041852,34.63200546041852,34.63200546041852,34.63200546041852,34.63200546041852,34.6132979950019,34.57387151517938,34.61373500703449,34.61373500703449,34.627954075299385,34.62810397060106,34.63200546041852,34.63200546041852,34.61375552126022,34.63200546041852,34.62785654672784,34.63200546041852,34.63198449842429,34.62679412041919,34.6139441713042,34.67860315881448,34.63200546041852,34.63197877409975,34.59584814603001,34.57427211657225,34.61371043029203,34.61384802465,34.63198674365819,34.613700526339215,34.632032996393136,34.61384802465,34.6319877173704,34.61374885228405,34.63198452062677,34.63199120519121,34.632024356919814,34.68104844186108,34.633681136724064,34.66474069758601,34.629509953678635,34.631984624538205,34.57437604013979,34.632030494141304,34.57437604013979,34.61384802465,34.628109000000066,34.631985182649245,34.63199144891641,34.61384802465,34.63027600000001,34.63027600000001,34.61384802465,34.57378399999999,34.59592306914739,34.61384802465,34.59917323709274,34.61384802465,34.61384802465,34.628101,34.59583699999999,34.57416511345954,34.613821299736856,34.57466348544712,34.61384802465,34.61384802465,34.61384802465,34.624729972758075,34.62395056030611,34.639395689999645,34.574626977534564,34.62464984843385,34.627593097071625,34.63369399999998,34.65196187296985,34.62977448337742,34.613711999465465,34.59626019159468,34.61384802465,34.61161410445955,34.63198750186825,34.62097372975839,34.57464218586152,34.57464218586152,34.61373391921191,34.61384802465,34.60697756902853,34.61374136244501,34.57459781443919,34.613828922617444,34.62100852340576,34.61375156253523,34.61372968332047,34.60703756020408,34.60705499690786,34.6138087532281,34.627602,34.63851285372475,34.57462880157513,34.57462880157513,34.61374191001852,34.68541593462108,34.574657493695625,34.574657493695625,34.574657493695625,34.61384802465,34.61375205574238,34.558132,34.61376582235283,34.623715406013574,34.61380109644493,34.62354699999999,34.66938301401328,34.66938301401328,34.623501733760264,34.62704500000001,34.66727399999999,34.61384802465,34.62592104064173,34.55714600023259,35.76511287214193,34.64240675141322,35.765109070868775,35.70549,35.72109509812387,34.61400297458127,34.6320003909762,34.631805,34.6320003909762,34.63218076258816,34.62097200000001,34.631872955283725,34.61000520104258,34.631985182649245,34.638883322567494,34.65523120714843,34.61384802465,34.59500099999998,34.56643090168328,34.613875138111354,34.631985182649245,34.61384802465,34.62615320716931,34.62014052532453,34.63198518265065,34.61375425286424,34.61375425286424,34.61980694994655,34.61457992971664,34.61457992971664,34.57461715006475,34.57448600000002,34.61374314977046,34.613963821980605,34.61375398672391,34.63902494248481,34.61384802465,35.521793673936685,34.6761846621731,34.63199107406798,35.52188414638417,34.614169401111766,34.6178176694618,34.614176272455666,34.614181655166306,34.61382526900711,34.62093,34.62089792947491,34.63447166963056,34.61384802465,34.619845248176176,34.574343088764714,34.61382628843438,34.61384802465,34.62098624792084,34.596978150709305,34.614158235832946,34.57436083181284,34.63211698814953,34.614175036349494,34.61415009784193,34.63137538289169,34.62760110853469,34.63198995083856,34.63198995083856,34.574324290456744,34.66595624573441,34.66595624573441,34.63199088037872,34.60947161044662,34.57439531767177,34.61418047853681,34.63509400000005,34.61384802465,34.61970500000001,34.599495051029905,34.64992799496541,34.61374071803978,34.624259728349244,34.62412899587449,34.57443940816878,34.62412899587449,34.63466600000004,34.62412899587449,34.61395133352727,34.62427720249332,34.62427720249332,34.62412899587449,34.61395268828802,34.61395268828802,34.62412899587449,34.57444447761109,34.57444447761109,34.624128995874486,34.57439694450456,34.61384802465,34.626463178907926,34.63469397551857,34.620987,34.63862685237201,34.57494740387577,34.574552884916,34.6138225706261,34.63270984630266,34.624310386676086,34.62620326261441,34.62958094792488,34.553093888472176,34.574236927539104,34.62430676965971,34.57430974977589,34.61784490598485,34.624233942893994,34.614185090086934,34.61384802465,34.62412899587449,34.62412899587449,34.62412899587449,34.62412899587449,34.614907596565345,34.62412899587449,34.607352762422785,34.61381626920674,34.61868679246712,34.64285978809994,34.60261826063949,34.56357375633124,34.61415448653224,34.61384802465,34.60733755409583,34.61384802465,34.62423450156892,34.62055181360495,34.613963441826,34.62412899587449,34.62416928733627,34.62416928733627,34.61413879087307,34.62424090059042,34.61380856548105,34.62414263927869,34.61384802465,34.61352238647552,34.61382125721934,34.624139609050104,34.61382090868101,34.6073982302529,34.629725066577194,34.62178132159815,34.62412899587449,34.61746430115022,34.61375946749514,34.617860437120854,34.615851369665194,34.613822738518294,34.607306577466005,34.59949339594704,34.62412899587449,34.62435202744105,34.61382623984028,34.60984497194438,34.624117771218,34.607292816763,34.624171912134,34.624232658744,34.613731700089,34.622066568427,34.624128995874,34.624128995874,34.624136378346,34.624247295436,34.61375,34.61384802465,34.629705003269,34.61384802465,34.624334336371,34.632401,34.644168075087,34.624232658552,34.624232658552,34.624232658552,34.624128995874,34.624128995874,34.61384802465,34.607338476008,34.61384802465,34.595707075167,34.676209472629,34.64806795351,34.64806795351,34.614062084154,34.61421073122,34.61783946034,34.61783946034,34.61783946034,34.613962001747,34.61384802465,34.624105395936,34.630217541364,34.613959778618,34.61413617087,34.617843249896,34.617843249896,34.617782953001,34.642397547643,34.624294230915,34.638367,34.574470176658,34.574470176658,34.620979029368,34.620979029368,34.613822396828,34.649422830506,34.633171253086,34.613827162808,34.624282522024,34.624282522024,34.626476216291,34.626476216291,34.624164837364,34.542068,34.542068,34.62428004692,34.62428004692,34.613823222361,34.613741606915,34.624316998545,34.607628478024,34.614113181918,34.603303499841,34.603303499841,34.574411213434,34.624394651811,34.624279863453,34.624128995874,34.624128995874,34.624128995874,34.624131262065,34.614149560529,34.624357634809,34.61384802465,34.625897835346,34.614097230096,34.574230351475,34.574133085226,34.60717340554,34.60717340554,34.613809820953,34.607640596432,34.624142238965,34.616999943816,34.639201844678,34.624016,34.613768496141,34.624234762677,34.614156920799,34.617835469617,34.613827,34.57423428996,34.574284,34.613723903106,34.623318905325,34.574159361935,34.57411496386,34.61384802465,34.60762912843,34.624149,34.607638550353,34.624128995874,34.587485108517,34.613787475956,34.675697822994,34.607498445205,34.573173578913,34.624238804604,34.624157032757,34.624128995874,34.676563,34.624128995874,34.624128995874,34.619355262645,34.61384802465,34.609745306338,34.61384802465,36.281592709113,34.574295771752,34.611172715347,34.614154921083,34.574230638699,34.573990261194,34.563778829653,34.624233536886,34.624233536886,34.574202603308,34.624128995874,34.574146,34.574146,34.613724499351,34.614045550796,34.624128995874,34.573821625912,34.614110527613,34.573241584205,34.614129611783,35.710251220642,34.613821150002,34.630711838801,34.613820607009,34.624128995874,34.618919,34.641764876637,34.602074600395,34.624149,34.613804501697,34.624150966525,34.609827238423,34.613612350428,34.61351759213,34.624142153167,34.61416515988,34.635234817504,34.607195498974,34.61417254057,34.613772505117,34.61384802465,34.624230171292,34.609677788207,34.602120400389,34.613819,34.608745552663,34.612039875663,34.63742727397,34.622467288982,34.613827182651,34.607169142108,34.613830481001,34.61415497769,34.613215847222,34.607635579466,34.6031,34.614164636426,34.613872892455,34.613872892455,34.613872892455,34.61413646946,34.630495028151,34.613831074348,34.607632,34.614169563316,34.616238,34.61384802465,34.641773763495,34.624128995874,34.619814470199,34.613826084856,34.607354869424,34.623656570937,34.570221,34.61384802465,34.624144816318,34.622086382167,34.622086382167,34.641765236919,34.607394392755,34.613820663745,34.611443,34.613796,34.613755047569,34.61861462742,34.613822315365,34.634438,34.61384802465,34.613748483962,34.624123089058,34.602565736373,34.623837,34.573282472003,34.613729678137,34.613831110328,34.61384802465,34.613826277471,34.613831837509,34.624128995874,34.624128995874,34.614025925349,34.613716665057,34.613963652739,34.616218912411,34.613826476667,34.613972127741,34.613811927296,34.60739325927,34.61372721723,34.624146986247,34.56737132872,34.61374228924,34.595916010813,34.618894118868,34.613722247923,34.613722247923,34.61474173116,34.607246137664,34.607246137664,34.61384169537,34.614004058957,34.623482,34.624128995874,34.624289835695,34.613827,34.61622467073,34.649781459909,34.641283427947,34.621036023931,34.613738594908,34.649199879881,34.614254195481,34.563584456232,34.563584456232,34.563584456232,34.635401863024,34.650274324515,34.614258,34.627523649537,34.623594353576,34.613827,34.631016861122,34.649435099705,34.650394470713,34.624099436037,34.649462585329,34.62424998843,34.649830735181,34.624499801652,34.613521039624,34.613521039624,34.613813202994,34.624244168345,34.61381814895,34.613827,34.612264447924,34.613999080153,34.613820452087,34.56173105805,34.566331686143,34.624263941139,34.613777386032,34.61743415396,34.624136190091,34.614186222237,34.624238839598,34.614130652626,34.619843,34.624321087662,34.624321087662,34.624220589557,34.624139580874,34.624205774396,34.613727978948,34.624100266681,34.613766569167,34.613738616249,34.619837178158,34.622534817162,34.631982319356,34.613828852287,34.613821251511,34.622540732148,34.622659219121,34.633455520682,34.624136432341,34.62273957457,34.622701732121,34.624192702283,34.617409337688,34.613823503624,34.596693530336,34.624251924862,34.622721126342,34.624206366594,34.618656,34.592056247546,34.624260949028,34.613518,34.624245957301,34.613728181376,34.624281101046,34.613826585179,34.624119841462,34.624227593558,34.624367,34.613824570581,34.613831859371,34.562706032127,34.624223265004,34.613827,34.624301622748,34.624244491737,34.641781487471,34.613822100325,34.624150416402,34.63979,34.627519885793,34.614022798248,34.560278778455,34.613829815617,34.624165,34.604679,34.617477854422,34.624291413796,34.624144827564,34.624144827564,34.647285461426,34.624157553477,34.624155394846,34.613823440805,34.628020958863,34.624196382482,34.613827,34.624258055954,34.624133380762,34.61384802465,34.637486,34.613827,34.607627125364,34.613772259558,34.602627729176,34.61374331306,34.627545045024,34.641795500521,34.624297078314,34.665495250182,36.614001352937,36.614001352937,36.614011467229,36.614011467229,36.614011467229,34.61384802465,34.624128995874,34.641795500521,34.62426,34.61384802465,34.665420438882,34.627519678916,34.614260976455,34.62421,34.61384802465,34.618671,34.632231727244,34.61384802465,34.596947672576,34.5966,34.624124723993,34.633717000001,34.617222966617,34.624197698883,34.624128995874,34.6185,34.619790648029,34.624229,34.613284453644,34.624128995874,34.624305452833,34.631489,34.624128995874,34.624128995874,34.61956,34.639512766667,34.617218866222,34.641795500521,34.607203528092,34.607203528092,34.613991406612,34.617225713342,34.624084,34.624128995874,34.611988,34.61384802465,34.640953694389,34.611037457324,34.624128995874,34.636845,34.669473056089,34.633280982313,34.624128995874,34.624128995874,34.617803178697,34.624128995874,34.622032,34.61384802465,34.589104,34.61384802465,34.61384802465,34.624128995874,34.635998319774,34.59613,34.865868074545,34.61384802465,34.640174740468,34.640174740468,34.640174740468,34.629494,34.61384802465,34.646244,34.68083095321,34.61384802465,34.640950917792,34.618911800891,34.61384802465,34.61384802465,34.628105558039,34.61384802465,34.635017,34.627964,34.61384802465,34.61384802465,34.617191,34.617704181675,34.641795500521,34.61384802465,34.617737949509,34.589542,34.638474,34.61384802465,34.61384802465,34.613995,34.628101,34.608757,34.61384802465,34.607471,34.624128995874,34.61384802465,34.629859345943,34.631772168151,34.61384802465,34.61398173626,34.61398173626,34.61384802465,34.62986,35.648468,34.61384802465,34.624128995874,34.609609258312,34.613445,34.625901593447,34.64627872668,34.61384802465,34.624128995874,35.698246,34.634991,34.607487,34.624128995874,34.624128995874,34.61384802465,34.61384802465,34.624251748392,34.61384802465,34.62201189192,34.61384802465,34.61226722667,34.624251748392,34.618908,34.613757007856,34.627068,34.641795500521,34.619503334,34.61384802465,34.609551778636,34.624251748392,34.603576863244,34.603576863244,34.61384802465,34.617306,34.611810377206,34.624251748392,34.638512,34.61384802465,34.617546721045,34.624251748392,34.613985138836],\"legendgroup\":\"\",\"lon\":[50.8754821300665,50.87950800000209,51.34039400001311,51.33746200000292,51.33746200000292,51.3888731289108,50.89276760816574,50.89276760816574,51.36889314485322,50.89277545512618,50.86752958972136,50.8674604689854,50.879077267554976,50.80836400000146,51.3381196526945,50.89276299999685,50.89276299999685,50.8710061940219,50.879487991333,51.33768957530785,51.33768957530785,51.33768957530785,50.89276499999565,51.50122399999904,50.879145803203215,50.81501100000148,50.86102670890656,50.879507999999646,50.879487991333,50.86659038754252,50.8593319999946,50.8593319999946,50.879487991333,50.87589299999712,50.879487991333,50.879487991333,50.879487991333,50.885381488591065,50.88548546294359,50.879487991333,50.83299673408246,50.8484063392423,51.3410665238456,50.89276433053945,50.879487991333,50.879487991333,50.8791787225712,50.78697057705148,50.86707346996562,50.879487991333,50.85648481189142,50.879487991333,50.85486100000199,51.52914981306824,50.89277638822958,50.86931507892686,50.85303563805607,50.879487991333,50.87562902941542,50.86937757654695,50.87909900000042,50.875548924210136,50.879487991333,50.83933949578844,50.86928899999654,50.87817491669651,50.885378346592205,50.879487991333,50.87971900000037,50.86944100000301,50.80841130848532,50.88550736024857,50.80848200773346,51.39274400000232,51.39274400000232,50.86238281118042,50.98555299999632,50.89276716778613,50.86555499999818,50.87925401500928,50.86047999999917,50.87925401500928,50.88522700000243,50.88522700000243,50.834733999999,50.85297037686792,50.879487991333,50.8830109999976,50.857962622684994,50.8360824846965,50.856495412839536,50.86964015909081,50.85794899999772,50.908990000000045,50.879487991333,50.87869838459415,50.90912065241292,50.879487991333,50.87968774804153,50.879487991333,50.85813498309446,50.87971900000037,50.90904249217243,50.86839191919236,50.879487991333,50.846604000001264,50.84692180677072,50.90920299999931,50.87371532745991,50.868219767815134,50.879487991333,50.87565143752494,50.87562954459892,50.88187399999862,50.87564544029362,50.90892799999929,50.869152000000696,50.78817011121518,50.86109493055574,50.86900302164125,50.86900302164125,50.87925401500928,50.87565518252896,50.88355828038087,50.84960299999676,50.853016303214105,50.85648075939389,50.879487991333,50.85648416718135,50.857963000873696,50.86418901542112,50.879487991333,50.90873465036313,50.90873465036313,50.82918200000197,50.84045700000138,50.85648943194832,50.90987384029438,50.84390792719782,50.90938569944296,50.81126459820237,50.87925401500928,50.85461327037496,50.879487991333,50.81064042453511,50.85298514431682,50.879487991333,50.85797141044384,51.422297999999216,51.49550710000318,50.879487991333,50.79150946554188,50.856501519184064,50.85797799999824,50.85611625597875,50.85611625597875,50.879487991333,50.87945974655085,50.85310988939921,50.879487991333,50.80512584003745,50.879487991333,50.85797603857833,56.26233951603837,56.27120734047185,50.82176900000008,50.844701000001095,50.879487991333,50.79182399999869,50.86964015909081,50.86964015909081,50.86964015909081,50.87925401500928,50.87925401500928,50.86964015909081,50.87925401500928,50.87925401500928,50.87211942835711,50.87925401500928,50.86964015909081,50.891665000001126,50.86964015909081,50.87925401500928,50.86964015909081,50.86964015909081,50.86964015909081,50.87925401500928,50.86964015909081,50.79974299999628,50.87925401500928,50.86964015909081,50.87925401501553,50.79243000000105,50.79992349591348,50.84429899999651,50.843936728480685,50.843936728480685,50.81072480018486,50.79191890556777,50.86964015909081,50.87925401500928,50.87925401500928,50.87925401500928,50.879487991333,50.86964015909081,50.87925401500928,50.86964015909081,50.86964015909081,50.86964015909081,50.87925401500928,50.79185000000086,50.86964015909081,50.879487991333,50.84984200000096,50.84984200000096,50.86275557002338,50.84660800000327,50.862567002923925,50.858495000003984,50.874075367671736,50.86964015909081,50.86964015909081,50.84170846649508,50.8696523308754,50.79944900000152,50.8696523308754,50.879198361504166,50.86865099999602,50.84176919372155,50.84176919372155,50.8696523308754,50.8696523308754,50.87947311132797,50.86973888742773,50.8696523308754,50.879487991333,50.88158217071228,50.85673475678624,50.879487991333,50.8696523308754,50.8914368228244,50.8696523308754,50.8696523308754,50.87923969481389,50.8697370958896,50.875004000004,50.8696523308754,50.879487991333,50.8696523308754,50.8696523308754,50.86561099999653,50.8696523308754,50.8696523308754,50.85797799999884,50.83863300000013,50.8696523308754,50.87946829315371,50.87946829315371,50.85797503388503,50.86964696645737,50.86964696645737,50.87924645624912,50.879487991333,50.86964696645737,50.87914523701588,50.87436981983774,50.87917345185653,50.86837278935712,50.85990002504744,50.83430799999775,50.86964696645737,50.86593799999878,50.87923559082742,50.86964696645737,50.879487991333,50.879266000000655,50.86964696645737,50.86964696645737,50.89295500000526,50.863079554862765,50.87925359143279,50.86964696645737,50.9087112110328,50.86967299999725,50.87920649543912,50.86964696645737,50.879257767218206,50.86964696645737,50.86964696645737,50.86802815847426,50.86808000000221,50.90903900002618,50.879219957199126,50.856735920358005,50.87176479877132,50.86963678572562,50.86964696645737,50.86964696645737,50.87922088243121,50.84315938793611,50.86965399616668,50.86965691249432,50.87921921532623,50.87916508751417,50.86967815894735,50.868090999985895,50.86941224802831,50.87958002630941,50.86933999997274,50.86933999997274,50.85647962151498,50.879249275419085,50.879487991333,50.85671032778342,50.879478994111,50.87924299993946,50.86965412053485,50.85325813710318,50.87922065602646,50.86963801762374,50.868916530347605,50.86964161661544,50.88940385328959,50.87521680877202,50.879289839124766,50.86964900005663,50.90973000724867,50.879487991333,50.87925151176259,50.89533386157007,50.86964713052038,50.84830666455056,50.86964696645737,50.8960634709255,50.85795826620753,50.81719218831213,50.86800600000001,50.87921264090917,50.86965698184344,50.8792601860053,50.86964620814516,50.89213114705456,50.84415876125632,50.86964696649406,50.86964696645737,50.90996056452022,50.879487991333,50.86964696645737,50.86946625260416,50.833766,50.86964926241316,50.86964696645737,50.860301000013976,50.86964696645737,50.86964696645737,50.91012101253574,50.87914900000001,50.86964151167791,50.80844468449507,50.85841800001606,50.86965423094114,50.86965719351576,50.86963748868121,50.86963748868121,50.86155345769575,50.86964160203934,50.86964160203934,50.85686572124797,50.86964160203934,50.86964160203934,50.86964160203934,50.86964160203934,50.86964160203934,50.844159000030885,50.80828630571349,50.87925628063286,50.87925628063286,50.86231830097191,50.86230866600272,50.86964160203934,50.86964160203934,50.87925265959368,50.86964160203934,50.86190298714257,50.86964160203934,50.86964900001493,50.86769117371213,50.87964789900687,50.85472750359594,50.86964160203934,50.86963938908559,50.843413734527616,50.808492600917816,50.87927550641578,50.879487991333,50.86964899993788,50.87931299994463,50.86971958499788,50.879487991333,50.86964696645737,50.87928069145639,50.86964800952416,50.8696406060038,50.869697819050856,50.861226685552,50.86780245473324,50.86955563542787,50.8615524990758,50.869649724646536,50.808546245098114,50.86970675868125,50.808546245098114,50.879487991333,50.861794,50.86964160203934,50.86963722281254,50.879487991333,50.87256199999999,50.87256199999999,50.879487991333,50.80823900000004,50.84348784232381,50.879487991333,50.84198001178086,50.879487991333,50.879487991333,50.86230500000002,50.843422,50.808446724416825,50.87944542810135,50.80867945598604,50.879487991333,50.879487991333,50.879487991333,50.85368472201537,50.86780289710478,50.88554068916847,50.80869108438492,50.853563754104016,50.86256467646791,50.867808999999966,50.89046176689118,50.86166815315656,50.87929461237536,50.87094022933428,50.879487991333,50.85749746966067,50.86963585077976,50.869235742640086,50.80868035554886,50.80868035554886,50.87928097049499,50.879487991333,50.85953765654506,50.87927575229142,50.80872093772999,50.8794311533506,50.8693597296502,50.87926343186615,50.879289946273786,50.85648476710713,50.85646691387228,50.879219270678846,50.86256800000004,50.87564311843491,50.80866632302329,50.80866632302329,50.87923335819832,50.89085143188444,50.80868852826029,50.80868852826024,50.80868852826024,50.879487991333,50.87925744028309,50.779156,50.87923275234601,50.86065043225281,50.879434861614754,50.85186399999998,50.88309066020346,50.88309066020346,50.851849600552384,50.86745100000002,50.87564500000002,50.879487991333,50.87501168275696,50.77794762148443,51.31471764554587,50.87705798748166,51.31536880577201,51.39057500000004,51.3887719854626,50.879808682881816,50.86963623762131,50.91349399999999,50.86963623762131,50.91334845968083,50.86915199999999,50.913474094654674,50.83917543579293,50.86964696645737,50.85502462881735,50.85152759840457,50.879487991333,50.829151,50.79028840000001,50.8791525243704,50.86964696645737,50.879487991333,50.85492136423889,50.85379015935632,50.86964696645882,50.87929572079213,50.87929572079213,50.861099726938335,50.88072061296617,50.88072061296617,50.80867297247255,50.80860500000003,50.87927515649892,50.87966216352408,50.87927514061207,50.833892040209946,50.879487991333,51.36939511608085,50.8927180246142,50.86963843006225,51.36930117045324,50.87888357257901,50.84377944937472,50.8788627626069,50.87886339116494,50.87942191090315,50.868923,50.868819816593856,50.86733866725214,50.879487991333,50.86828416202778,50.808551609516144,50.87943699304668,50.879487991333,50.86923216107056,50.87207964312179,50.87885476519765,50.808546245098114,50.86952894926071,50.87887276228949,50.87889949337296,50.880110022069886,50.8611340518508,50.86964413164645,50.86964413164645,50.808552059709456,50.90963071594226,50.90963071594226,50.86964825211004,50.88308176662085,50.80854524289603,50.87887260566595,50.881294,50.879487991333,50.860600000000034,50.863935630890495,50.8651444730794,50.87927934698985,50.86149084696365,50.86150944774283,50.80859452486038,50.86150944774283,50.88189700000001,50.86150944774283,50.879653247276906,50.86148456013325,50.86148456013325,50.86150944774283,50.879671358021454,50.879671358021454,50.86150944774283,50.80859452486038,50.80859452486038,50.861509447742776,50.808571878629095,50.879487991333,50.86074942134357,50.881835110324886,50.86923599999997,50.91036690317662,50.80886659820351,50.80864375270559,50.8794392924853,50.87186425292197,50.86154149909942,50.8752102083418,50.858654989850834,50.814552325283984,50.80849450568604,50.86152207033851,50.80853063485819,50.86736215126948,50.86140886487394,50.87887064222386,50.879487991333,50.86150944774283,50.86150944774283,50.86150944774283,50.86150944774283,50.8782052599573,50.86150944774283,50.86723297834397,50.8794428016206,50.84642322269249,50.87649175489162,50.85602212909194,50.81733770871293,50.8788887549008,50.879487991333,50.86735635995865,50.879487991333,50.86142635120402,50.85962100475214,50.879654785162586,50.86150944774283,50.86154111346679,50.86154111346679,50.87890779965727,50.86141305600566,50.87946667848823,50.86149382154693,50.879487991333,50.84438698194785,50.87921000764271,50.86148888320014,50.87944422838393,50.86709586579636,50.86156987330816,50.86644829553339,50.86150944774283,50.86791869450937,50.87926374058617,50.86723446318089,50.8773426311019,50.87943463024763,50.86740431026465,50.86902725725372,50.86150944774283,50.86159625136423,50.8794198092516,50.86084048647501,50.861446172574,50.867569640451,50.861559270968,50.861410281694,50.879280209131,50.849563817886,50.861509447743,50.861509447743,50.861506259121,50.861432538109,50.879272,50.879487991333,50.86188289425,50.879487991333,50.861522089009,50.869267,50.891212516148,50.861411385601,50.861411385601,50.861411385601,50.861509447743,50.861509447743,50.879487991333,50.867379883934,50.879487991333,50.867398349567,50.892726690923,50.873288709304,50.873288709304,50.878967293066,50.878833914842,50.867362648259,50.867362648259,50.867362648259,50.879676337782,50.879487991333,50.861469111074,50.871307615535,50.879665246283,50.878919924439,50.867358788213,50.867358788213,50.867372407499,50.889713720139,50.861506353634,50.865852,50.808597608076,50.808597608076,50.869246930915,50.869246930915,50.879434723035,50.881362510737,50.868505702913,50.879202703797,50.861507241091,50.861507241091,50.874820091767,50.874820091767,50.86151860355,50.821697,50.821697,50.861476811204,50.861476811204,50.879424602016,50.879283977209,50.861559221042,50.866195617129,50.878920840719,50.855966294493,50.855966294493,50.808588189516,50.861643184394,50.861486775336,50.861509447743,50.861509447743,50.861509447743,50.861471896786,50.878890858187,50.861604463212,50.879487991333,50.874998674762,50.878935380855,50.808455049967,50.808414227395,50.868235255791,50.868235255791,50.87943518007,50.866226140088,50.861478602332,50.879216288222,50.885787782676,50.86129,50.879177152787,50.861400217135,50.878860766809,50.867367374067,50.879429,50.808455691249,50.808498,50.879248311964,50.870790841423,50.808400956924,50.808401405811,50.879487991333,50.866231927071,50.861496,50.86621788643,50.861509447743,50.812392830799,50.879161202104,50.892827507666,50.866767763412,50.805214729285,50.861425969633,50.861499699873,50.861509447743,50.900227,50.861509447743,50.861509447743,50.859480907858,50.879487991333,50.861397016471,50.879487991333,59.610816748227,50.808519870741,50.858638172184,50.878894353719,50.808475442117,50.808323366738,50.817192188312,50.861409169191,50.861409169191,50.808438212168,50.861509447743,50.80843,50.80843,50.879255924453,50.878989119323,50.861509447743,50.808220418672,50.87890041865,50.805415121599,50.878921163209,51.406833180526,50.879421387878,50.870840771102,50.879432467567,50.861509447743,50.865382286431,50.864144289626,50.855947592952,50.861492,50.879428646577,50.861485822617,50.860987560949,50.844368866695,50.844305180588,50.861482563086,50.878879235574,50.881118780591,50.868249124503,50.878842195007,50.879247498315,50.879487991333,50.861399385889,50.86095384483,50.856462170539,50.879436,50.836333648541,50.835072762177,50.882794043496,50.850411193456,50.879425495793,50.868217068021,50.879439359924,50.87890197021,50.87993992082,50.866218336532,50.856373,50.87888330983,50.879130654022,50.879130654022,50.879130654022,50.878910546306,50.881566073736,50.879428252153,50.866219,50.878864201147,50.858498,50.879487991333,50.864157180455,50.861509447743,50.867893522602,50.879429274509,50.867399389966,50.860523855139,50.794838,50.879487991333,50.861496234959,50.849586503066,50.849586503066,50.864147287337,50.867259846719,50.879424634919,50.84367,50.879215,50.879242878196,50.904373168849,50.879423273335,50.870148,50.879487991333,50.879213724424,50.872500015837,50.856072922066,50.861008,50.805176094363,50.879261884449,50.879409044474,50.879487991333,50.879433696917,50.879421420019,50.861509447743,50.861509447743,50.879761268298,50.879273399042,50.879683540562,50.858451232345,50.879135873213,50.87968698267,50.879425333129,50.867291681628,50.879267012901,50.861513296701,50.79118304147,50.87923667817,50.873188290012,50.866205859114,50.879258149621,50.879258149621,50.858347607416,50.868246297079,50.868246297079,50.879174664908,50.879763868854,50.894733,50.861509447743,50.86149608611,50.879429,50.858479929962,50.908619463444,50.865975770545,50.846331585265,50.879241018265,50.909068299235,50.878715515122,50.817514053384,50.817514053384,50.817514053384,50.869484980442,50.908197280695,50.878803,50.861120929523,50.895046866822,50.879429,50.89532100123,50.908885149886,50.908098318274,50.872470148144,50.908907307827,50.861413556967,50.908585856231,50.861788397473,50.844307508135,50.844307508135,50.879423523473,50.861463798357,50.879434181304,50.879429,50.842012198559,50.87977365996,50.879431928104,50.79966797199,50.789818445822,50.861455316174,50.879423618281,50.867876965727,50.86148354616,50.878853942976,50.861457420816,50.878893396424,50.868095,50.861537731965,50.861537731965,50.861359467224,50.861483545936,50.861366584936,50.879285449435,50.861438496998,50.879233789331,50.879256627537,50.86779030684,50.860100572947,50.869663112162,50.879404437431,50.879434171346,50.859868226254,50.859891744072,50.869351471725,50.861482759419,50.859752132698,50.859272589316,50.861359417268,50.867787325525,50.879430113559,50.872269236302,50.861430908183,50.85991552105,50.861360973261,50.856415,50.810507504337,50.861432250525,50.844303,50.861405057773,50.879261062109,50.861470372572,50.879425967688,50.861458038793,50.861368939575,50.861629,50.87943130752,50.879422898573,50.819018123157,50.861386448095,50.879429,50.861519503434,50.861408240713,50.864126878742,50.879433208472,50.861493204108,50.864407,50.861129584367,50.879012033684,50.797927865072,50.879432086988,50.861519,50.882473,50.879906586275,50.861496411312,50.861497506109,50.861497506109,50.879295349121,50.861509475812,50.861520203105,50.87941993771,50.862316441203,50.861355980746,50.879429,50.861448030743,50.861554475693,50.879487991333,50.873989,50.879429,50.866217448242,50.879241688583,50.856052375762,50.879246852437,50.861127036647,50.864179283381,50.861506903306,50.909981327935,52.183693500125,52.183693500125,52.183712919258,52.183712919258,52.183712919258,50.879487991333,50.861509447743,50.864179283381,50.861454,50.879487991333,50.910095145483,50.861129919089,50.878802284328,50.86137,50.879487991333,50.856476,50.869442772837,50.879487991333,50.87207213885,50.870609,50.861445233111,50.868438999998,50.846724808216,50.861315535001,50.861509447743,50.842274,50.859547396607,50.861401,50.843895119338,50.861509447743,50.861507014376,50.870117,50.861509447743,50.861509447743,50.868225,50.885387356813,50.846342925023,50.864179283381,50.868149537602,50.868149537602,50.879668569468,50.847106275155,50.862202,50.861509447743,50.848991,50.879487991333,50.892771822328,50.836218971375,50.861509447743,50.878403,50.895767045172,50.868305944687,50.861509447743,50.861509447743,50.867366088913,50.861509447743,50.867203,50.879487991333,50.812767,50.879487991333,50.879487991333,50.861509447743,50.869028672034,50.871094,50.854876427138,50.879487991333,50.870217363402,50.870217363402,50.870217363402,50.861515,50.879487991333,50.88205,50.878875389024,50.879487991333,50.861520271016,50.865596298062,50.879487991333,50.879487991333,50.862311303506,50.879487991333,50.870045,50.862312,50.879487991333,50.879487991333,50.847023,50.847064200336,50.864179283381,50.879487991333,50.845643748298,50.813297,50.897068,50.879487991333,50.879487991333,50.879711,50.862305,50.865314,50.879487991333,50.866924,50.861509447743,50.879487991333,50.861823572185,50.913475786373,50.879487991333,50.879683931544,50.879683931544,50.879487991333,50.860905,51.417244,50.879487991333,50.861509447743,50.840062292042,50.844288,50.87500306604,50.88211054149,50.879487991333,50.861509447743,51.257816,50.869999,50.866867,50.861509447743,50.861509447743,50.879487991333,50.879487991333,50.861664712429,50.879487991333,50.867113732102,50.879487991333,50.842924298264,50.861664712429,50.856739,50.879249347746,50.863083,50.864179283381,50.859900500419,50.879487991333,50.85608186614,50.861664712429,50.826403392592,50.826403392592,50.879487991333,50.836132,50.853381931335,50.861664712429,50.897106,50.879487991333,50.883116791399,50.861664712429,50.879674457127],\"marker\":{\"color\":[21,13,12,9,9,21,17,17,18,18,14,13,12,8,9,12,12,19,19,14,14,14,9,8,17,15,16,1,20,18,18,18,22,21,19,19,19,18,14,22,21,18,15,13,3,22,12,11,19,20,19,1,17,13,9,12,19,23,22,13,1,2,23,21,15,14,12,20,18,9,12,12,11,19,19,19,12,9,2,20,12,18,11,11,19,9,16,9,9,15,14,12,12,10,21,19,9,22,21,15,14,13,10,22,12,12,12,9,20,18,13,11,10,18,15,14,18,7,16,16,16,21,20,19,22,10,15,15,14,9,16,15,11,11,14,20,18,11,18,12,17,19,14,21,17,9,9,9,21,18,21,16,14,10,15,15,11,9,9,16,11,10,9,11,9,22,20,15,16,14,14,13,18,12,10,17,14,14,22,16,12,12,22,14,15,15,21,16,10,23,14,19,15,10,18,18,18,17,16,12,21,22,23,23,20,18,16,16,15,22,16,13,12,12,12,9,8,8,12,12,22,14,15,14,9,11,22,20,16,15,12,15,21,15,17,13,13,22,21,12,15,9,15,23,15,11,14,20,20,20,20,11,14,10,9,7,22,22,12,15,11,21,11,10,20,15,15,12,12,12,15,12,21,15,20,21,14,16,15,11,20,13,12,12,20,15,21,14,17,13,18,18,21,22,22,15,11,11,20,19,15,13,15,15,11,23,22,12,22,22,21,18,2,23,19,18,11,23,23,18,15,13,10,19,21,12,11,1,22,12,14,14,12,18,15,20,19,18,14,21,18,17,19,13,11,10,19,14,13,18,14,13,15,15,11,10,10,14,13,18,15,17,15,15,6,15,15,23,15,15,15,14,14,21,7,18,18,14,23,15,13,14,15,23,18,16,14,13,12,12,13,18,11,23,18,14,20,15,19,14,19,15,15,14,23,13,12,7,14,8,16,9,22,19,15,15,20,21,21,18,8,19,0,22,0,0,22,12,8,20,9,22,21,15,19,15,11,9,20,17,11,11,6,20,11,23,23,17,15,10,10,18,23,20,18,7,21,18,18,22,21,21,22,21,4,12,12,17,16,9,8,8,18,18,21,17,12,16,21,3,3,21,15,14,13,13,20,10,8,12,0,0,19,13,13,13,12,15,13,15,13,13,12,13,13,21,19,15,21,16,3,21,22,22,17,21,21,13,13,21,13,19,15,20,15,11,18,14,20,9,21,21,12,22,15,11,17,20,13,21,17,20,22,22,13,10,23,21,20,16,12,12,12,11,12,10,19,10,20,19,20,19,18,6,0,17,19,13,12,12,11,17,11,11,11,11,11,10,10,10,14,17,13,12,11,17,13,15,9,19,23,12,16,16,14,10,16,13,11,11,19,14,14,14,11,11,21,19,14,23,22,21,17,16,21,19,15,23,16,22,22,13,13,13,20,13,20,15,14,12,16,14,2,21,21,20,15,19,18,18,22,21,17,21,14,15,21,15,17,14,14,19,17,12,13,13,12,15,21,19,17,0,15,14,20,14,14,14,14,14,18,15,21,20,4,4,4,17,21,11,11,11,23,21,16,15,20,19,13,13,13,11,12,17,7,13,18,17,22,12,21,21,12,12,12,12,11,22,22,12,12,21,10,13,23,20,17,17,15,9,16,11,18,17,16,23,11,22,14,20,12,16,21,21,12,22,10,14,21,11,23,11,21,10,19,16,12,19,11,13,18,22,20,18,16,9,15,15,7,21,13,12,19,14,11,13,16,23,19,15,10,19,8,23,19,10,13,13,10,10,16,11,8,8,19,19,12,10,20,13,12,8,21,19,16,14,21,20,23,16,22,16,16,23,23,18,22,19,16,15,22,18,16,22,19,16,20,18,19,19,22,20,16,13,17,14,16,21,0,0,0,17,12,18,16,14,14,15,16,15,22,0,19,21,17,14,18,9,9,21,15,14,14,20,23,17,23,8,18,23,22,17,15,14,18,18,12,17,16,15,15,13,18,12,13,22,18,23,21,0,22,17,1,20,11,21,20,18,15,15,0,20,18,14,13,15,9,8,15,14,12,11,16,15,15,15,13,12,22,21,20,17,16,8,15,9,10,11,10,14,13,13,23,15,23,17,19,12,12,19,18,12,23,16,15,14,16,0,23,14,14,18,13,13,21,15,0,23,14,17,17,17,3,22,16,15,14,0,0,17,14,23,20,16,17,15,15,13,15,21,15,0,18,1,15,13,15,18,21,19,13,23,16,12,15,12,11,22,22,23,13,15,12,11,14,14,15,15,17,15,12,19,18,15,15,11,14,18,18,0,22,20,10,23,16,14,13,10,20,20,20,20,20,0,19,15,14,12,12,17,18,14,0,23,23,19,18,15,15,12,15,16,11,18,17,17,22,18,16,22,15,18,16,14,21,22,14,14,22,21,14,17,19,22,22,15,20,22,21,19,17,17,21,17,17,23,22,21,23,18,16,20,8,7,6,6,6,6,2,21,22,18,18,15,1,1,21,23,18,21,17,23,22,20,19,23,21,19,17,16,22,14,16,19,19,16,19,17,17,14,20,14,14,23,21,14,17,16,17,16,16,20,13,17,12,11,16,15,14,13,23,17,0,18,13,13,11,18,1,18,12,17,20,18,21,18,18,2,18,14,16,12,22,20,16,13],\"coloraxis\":\"coloraxis\"},\"mode\":\"markers\",\"name\":\"\",\"showlegend\":false,\"subplot\":\"mapbox\",\"type\":\"scattermapbox\"}],                        {\"template\":{\"data\":{\"histogram2dcontour\":[{\"type\":\"histogram2dcontour\",\"colorbar\":{\"outlinewidth\":0,\"ticks\":\"\"},\"colorscale\":[[0.0,\"#0d0887\"],[0.1111111111111111,\"#46039f\"],[0.2222222222222222,\"#7201a8\"],[0.3333333333333333,\"#9c179e\"],[0.4444444444444444,\"#bd3786\"],[0.5555555555555556,\"#d8576b\"],[0.6666666666666666,\"#ed7953\"],[0.7777777777777778,\"#fb9f3a\"],[0.8888888888888888,\"#fdca26\"],[1.0,\"#f0f921\"]]}],\"choropleth\":[{\"type\":\"choropleth\",\"colorbar\":{\"outlinewidth\":0,\"ticks\":\"\"}}],\"histogram2d\":[{\"type\":\"histogram2d\",\"colorbar\":{\"outlinewidth\":0,\"ticks\":\"\"},\"colorscale\":[[0.0,\"#0d0887\"],[0.1111111111111111,\"#46039f\"],[0.2222222222222222,\"#7201a8\"],[0.3333333333333333,\"#9c179e\"],[0.4444444444444444,\"#bd3786\"],[0.5555555555555556,\"#d8576b\"],[0.6666666666666666,\"#ed7953\"],[0.7777777777777778,\"#fb9f3a\"],[0.8888888888888888,\"#fdca26\"],[1.0,\"#f0f921\"]]}],\"heatmap\":[{\"type\":\"heatmap\",\"colorbar\":{\"outlinewidth\":0,\"ticks\":\"\"},\"colorscale\":[[0.0,\"#0d0887\"],[0.1111111111111111,\"#46039f\"],[0.2222222222222222,\"#7201a8\"],[0.3333333333333333,\"#9c179e\"],[0.4444444444444444,\"#bd3786\"],[0.5555555555555556,\"#d8576b\"],[0.6666666666666666,\"#ed7953\"],[0.7777777777777778,\"#fb9f3a\"],[0.8888888888888888,\"#fdca26\"],[1.0,\"#f0f921\"]]}],\"heatmapgl\":[{\"type\":\"heatmapgl\",\"colorbar\":{\"outlinewidth\":0,\"ticks\":\"\"},\"colorscale\":[[0.0,\"#0d0887\"],[0.1111111111111111,\"#46039f\"],[0.2222222222222222,\"#7201a8\"],[0.3333333333333333,\"#9c179e\"],[0.4444444444444444,\"#bd3786\"],[0.5555555555555556,\"#d8576b\"],[0.6666666666666666,\"#ed7953\"],[0.7777777777777778,\"#fb9f3a\"],[0.8888888888888888,\"#fdca26\"],[1.0,\"#f0f921\"]]}],\"contourcarpet\":[{\"type\":\"contourcarpet\",\"colorbar\":{\"outlinewidth\":0,\"ticks\":\"\"}}],\"contour\":[{\"type\":\"contour\",\"colorbar\":{\"outlinewidth\":0,\"ticks\":\"\"},\"colorscale\":[[0.0,\"#0d0887\"],[0.1111111111111111,\"#46039f\"],[0.2222222222222222,\"#7201a8\"],[0.3333333333333333,\"#9c179e\"],[0.4444444444444444,\"#bd3786\"],[0.5555555555555556,\"#d8576b\"],[0.6666666666666666,\"#ed7953\"],[0.7777777777777778,\"#fb9f3a\"],[0.8888888888888888,\"#fdca26\"],[1.0,\"#f0f921\"]]}],\"surface\":[{\"type\":\"surface\",\"colorbar\":{\"outlinewidth\":0,\"ticks\":\"\"},\"colorscale\":[[0.0,\"#0d0887\"],[0.1111111111111111,\"#46039f\"],[0.2222222222222222,\"#7201a8\"],[0.3333333333333333,\"#9c179e\"],[0.4444444444444444,\"#bd3786\"],[0.5555555555555556,\"#d8576b\"],[0.6666666666666666,\"#ed7953\"],[0.7777777777777778,\"#fb9f3a\"],[0.8888888888888888,\"#fdca26\"],[1.0,\"#f0f921\"]]}],\"mesh3d\":[{\"type\":\"mesh3d\",\"colorbar\":{\"outlinewidth\":0,\"ticks\":\"\"}}],\"scatter\":[{\"fillpattern\":{\"fillmode\":\"overlay\",\"size\":10,\"solidity\":0.2},\"type\":\"scatter\"}],\"parcoords\":[{\"type\":\"parcoords\",\"line\":{\"colorbar\":{\"outlinewidth\":0,\"ticks\":\"\"}}}],\"scatterpolargl\":[{\"type\":\"scatterpolargl\",\"marker\":{\"colorbar\":{\"outlinewidth\":0,\"ticks\":\"\"}}}],\"bar\":[{\"error_x\":{\"color\":\"#2a3f5f\"},\"error_y\":{\"color\":\"#2a3f5f\"},\"marker\":{\"line\":{\"color\":\"#E5ECF6\",\"width\":0.5},\"pattern\":{\"fillmode\":\"overlay\",\"size\":10,\"solidity\":0.2}},\"type\":\"bar\"}],\"scattergeo\":[{\"type\":\"scattergeo\",\"marker\":{\"colorbar\":{\"outlinewidth\":0,\"ticks\":\"\"}}}],\"scatterpolar\":[{\"type\":\"scatterpolar\",\"marker\":{\"colorbar\":{\"outlinewidth\":0,\"ticks\":\"\"}}}],\"histogram\":[{\"marker\":{\"pattern\":{\"fillmode\":\"overlay\",\"size\":10,\"solidity\":0.2}},\"type\":\"histogram\"}],\"scattergl\":[{\"type\":\"scattergl\",\"marker\":{\"colorbar\":{\"outlinewidth\":0,\"ticks\":\"\"}}}],\"scatter3d\":[{\"type\":\"scatter3d\",\"line\":{\"colorbar\":{\"outlinewidth\":0,\"ticks\":\"\"}},\"marker\":{\"colorbar\":{\"outlinewidth\":0,\"ticks\":\"\"}}}],\"scattermapbox\":[{\"type\":\"scattermapbox\",\"marker\":{\"colorbar\":{\"outlinewidth\":0,\"ticks\":\"\"}}}],\"scatterternary\":[{\"type\":\"scatterternary\",\"marker\":{\"colorbar\":{\"outlinewidth\":0,\"ticks\":\"\"}}}],\"scattercarpet\":[{\"type\":\"scattercarpet\",\"marker\":{\"colorbar\":{\"outlinewidth\":0,\"ticks\":\"\"}}}],\"carpet\":[{\"aaxis\":{\"endlinecolor\":\"#2a3f5f\",\"gridcolor\":\"white\",\"linecolor\":\"white\",\"minorgridcolor\":\"white\",\"startlinecolor\":\"#2a3f5f\"},\"baxis\":{\"endlinecolor\":\"#2a3f5f\",\"gridcolor\":\"white\",\"linecolor\":\"white\",\"minorgridcolor\":\"white\",\"startlinecolor\":\"#2a3f5f\"},\"type\":\"carpet\"}],\"table\":[{\"cells\":{\"fill\":{\"color\":\"#EBF0F8\"},\"line\":{\"color\":\"white\"}},\"header\":{\"fill\":{\"color\":\"#C8D4E3\"},\"line\":{\"color\":\"white\"}},\"type\":\"table\"}],\"barpolar\":[{\"marker\":{\"line\":{\"color\":\"#E5ECF6\",\"width\":0.5},\"pattern\":{\"fillmode\":\"overlay\",\"size\":10,\"solidity\":0.2}},\"type\":\"barpolar\"}],\"pie\":[{\"automargin\":true,\"type\":\"pie\"}]},\"layout\":{\"autotypenumbers\":\"strict\",\"colorway\":[\"#636efa\",\"#EF553B\",\"#00cc96\",\"#ab63fa\",\"#FFA15A\",\"#19d3f3\",\"#FF6692\",\"#B6E880\",\"#FF97FF\",\"#FECB52\"],\"font\":{\"color\":\"#2a3f5f\"},\"hovermode\":\"closest\",\"hoverlabel\":{\"align\":\"left\"},\"paper_bgcolor\":\"white\",\"plot_bgcolor\":\"#E5ECF6\",\"polar\":{\"bgcolor\":\"#E5ECF6\",\"angularaxis\":{\"gridcolor\":\"white\",\"linecolor\":\"white\",\"ticks\":\"\"},\"radialaxis\":{\"gridcolor\":\"white\",\"linecolor\":\"white\",\"ticks\":\"\"}},\"ternary\":{\"bgcolor\":\"#E5ECF6\",\"aaxis\":{\"gridcolor\":\"white\",\"linecolor\":\"white\",\"ticks\":\"\"},\"baxis\":{\"gridcolor\":\"white\",\"linecolor\":\"white\",\"ticks\":\"\"},\"caxis\":{\"gridcolor\":\"white\",\"linecolor\":\"white\",\"ticks\":\"\"}},\"coloraxis\":{\"colorbar\":{\"outlinewidth\":0,\"ticks\":\"\"}},\"colorscale\":{\"sequential\":[[0.0,\"#0d0887\"],[0.1111111111111111,\"#46039f\"],[0.2222222222222222,\"#7201a8\"],[0.3333333333333333,\"#9c179e\"],[0.4444444444444444,\"#bd3786\"],[0.5555555555555556,\"#d8576b\"],[0.6666666666666666,\"#ed7953\"],[0.7777777777777778,\"#fb9f3a\"],[0.8888888888888888,\"#fdca26\"],[1.0,\"#f0f921\"]],\"sequentialminus\":[[0.0,\"#0d0887\"],[0.1111111111111111,\"#46039f\"],[0.2222222222222222,\"#7201a8\"],[0.3333333333333333,\"#9c179e\"],[0.4444444444444444,\"#bd3786\"],[0.5555555555555556,\"#d8576b\"],[0.6666666666666666,\"#ed7953\"],[0.7777777777777778,\"#fb9f3a\"],[0.8888888888888888,\"#fdca26\"],[1.0,\"#f0f921\"]],\"diverging\":[[0,\"#8e0152\"],[0.1,\"#c51b7d\"],[0.2,\"#de77ae\"],[0.3,\"#f1b6da\"],[0.4,\"#fde0ef\"],[0.5,\"#f7f7f7\"],[0.6,\"#e6f5d0\"],[0.7,\"#b8e186\"],[0.8,\"#7fbc41\"],[0.9,\"#4d9221\"],[1,\"#276419\"]]},\"xaxis\":{\"gridcolor\":\"white\",\"linecolor\":\"white\",\"ticks\":\"\",\"title\":{\"standoff\":15},\"zerolinecolor\":\"white\",\"automargin\":true,\"zerolinewidth\":2},\"yaxis\":{\"gridcolor\":\"white\",\"linecolor\":\"white\",\"ticks\":\"\",\"title\":{\"standoff\":15},\"zerolinecolor\":\"white\",\"automargin\":true,\"zerolinewidth\":2},\"scene\":{\"xaxis\":{\"backgroundcolor\":\"#E5ECF6\",\"gridcolor\":\"white\",\"linecolor\":\"white\",\"showbackground\":true,\"ticks\":\"\",\"zerolinecolor\":\"white\",\"gridwidth\":2},\"yaxis\":{\"backgroundcolor\":\"#E5ECF6\",\"gridcolor\":\"white\",\"linecolor\":\"white\",\"showbackground\":true,\"ticks\":\"\",\"zerolinecolor\":\"white\",\"gridwidth\":2},\"zaxis\":{\"backgroundcolor\":\"#E5ECF6\",\"gridcolor\":\"white\",\"linecolor\":\"white\",\"showbackground\":true,\"ticks\":\"\",\"zerolinecolor\":\"white\",\"gridwidth\":2}},\"shapedefaults\":{\"line\":{\"color\":\"#2a3f5f\"}},\"annotationdefaults\":{\"arrowcolor\":\"#2a3f5f\",\"arrowhead\":0,\"arrowwidth\":1},\"geo\":{\"bgcolor\":\"white\",\"landcolor\":\"#E5ECF6\",\"subunitcolor\":\"white\",\"showland\":true,\"showlakes\":true,\"lakecolor\":\"white\"},\"title\":{\"x\":0.05},\"mapbox\":{\"style\":\"light\"}}},\"mapbox\":{\"domain\":{\"x\":[0.0,1.0],\"y\":[0.0,1.0]},\"center\":{\"lat\":34.63996110773673,\"lon\":50.8990253217047},\"zoom\":8,\"style\":\"carto-positron\"},\"coloraxis\":{\"colorbar\":{\"title\":{\"text\":\"hour\"}},\"colorscale\":[[0.0,\"#0d0887\"],[0.1111111111111111,\"#46039f\"],[0.2222222222222222,\"#7201a8\"],[0.3333333333333333,\"#9c179e\"],[0.4444444444444444,\"#bd3786\"],[0.5555555555555556,\"#d8576b\"],[0.6666666666666666,\"#ed7953\"],[0.7777777777777778,\"#fb9f3a\"],[0.8888888888888888,\"#fdca26\"],[1.0,\"#f0f921\"]]},\"legend\":{\"tracegroupgap\":0},\"margin\":{\"t\":60}},                        {\"responsive\": true}                    ).then(function(){\n                            \nvar gd = document.getElementById('6c0c562a-ec81-4771-b209-b3fd389c7329');\nvar x = new MutationObserver(function (mutations, observer) {{\n        var display = window.getComputedStyle(gd).display;\n        if (!display || display === 'none') {{\n            console.log([gd, 'removed!']);\n            Plotly.purge(gd);\n            observer.disconnect();\n        }}\n}});\n\n// Listen for the removal of the full notebook cells\nvar notebookContainer = gd.closest('#notebook-container');\nif (notebookContainer) {{\n    x.observe(notebookContainer, {childList: true});\n}}\n\n// Listen for the clearing of the current output cell\nvar outputEl = gd.closest('.output');\nif (outputEl) {{\n    x.observe(outputEl, {childList: true});\n}}\n\n                        })                };                });            </script>        </div>"
     },
     "metadata": {},
     "output_type": "display_data"
    }
   ],
   "source": [
    "from plotly import express as px\n",
    "\n",
    "fig = px.scatter_mapbox(df, lat='destination_lat', lon='destination_lng', color=df['hour'])\n",
    "\n",
    "fig.update_layout(mapbox_style=\"carto-positron\")\n",
    "\n",
    "fig.show()"
   ],
   "metadata": {
    "collapsed": false,
    "ExecuteTime": {
     "end_time": "2024-11-30T12:11:20.303824400Z",
     "start_time": "2024-11-30T12:11:20.221139500Z"
    }
   },
   "id": "b04998437884c4c7"
  },
  {
   "cell_type": "markdown",
   "source": [
    "# Train Model"
   ],
   "metadata": {
    "collapsed": false
   },
   "id": "63d71330a3d8772c"
  },
  {
   "cell_type": "code",
   "execution_count": 158,
   "outputs": [],
   "source": [
    "from sklearn.neighbors import KNeighborsRegressor"
   ],
   "metadata": {
    "collapsed": false,
    "ExecuteTime": {
     "end_time": "2024-11-29T20:52:23.999414100Z",
     "start_time": "2024-11-29T20:52:23.803339600Z"
    }
   },
   "id": "b4e217fc671e890e"
  },
  {
   "cell_type": "code",
   "execution_count": 159,
   "outputs": [],
   "source": [
    "lat_model = KNeighborsRegressor(n_neighbors=3)\n",
    "long_model = KNeighborsRegressor(n_neighbors=3)"
   ],
   "metadata": {
    "collapsed": false,
    "ExecuteTime": {
     "end_time": "2024-11-29T20:52:23.999983100Z",
     "start_time": "2024-11-29T20:52:23.811613800Z"
    }
   },
   "id": "19a4b4becb6eb905"
  },
  {
   "cell_type": "code",
   "execution_count": 160,
   "outputs": [
    {
     "data": {
      "text/plain": "KNeighborsRegressor(n_neighbors=3)",
      "text/html": "<style>#sk-container-id-8 {\n  /* Definition of color scheme common for light and dark mode */\n  --sklearn-color-text: black;\n  --sklearn-color-line: gray;\n  /* Definition of color scheme for unfitted estimators */\n  --sklearn-color-unfitted-level-0: #fff5e6;\n  --sklearn-color-unfitted-level-1: #f6e4d2;\n  --sklearn-color-unfitted-level-2: #ffe0b3;\n  --sklearn-color-unfitted-level-3: chocolate;\n  /* Definition of color scheme for fitted estimators */\n  --sklearn-color-fitted-level-0: #f0f8ff;\n  --sklearn-color-fitted-level-1: #d4ebff;\n  --sklearn-color-fitted-level-2: #b3dbfd;\n  --sklearn-color-fitted-level-3: cornflowerblue;\n\n  /* Specific color for light theme */\n  --sklearn-color-text-on-default-background: var(--sg-text-color, var(--theme-code-foreground, var(--jp-content-font-color1, black)));\n  --sklearn-color-background: var(--sg-background-color, var(--theme-background, var(--jp-layout-color0, white)));\n  --sklearn-color-border-box: var(--sg-text-color, var(--theme-code-foreground, var(--jp-content-font-color1, black)));\n  --sklearn-color-icon: #696969;\n\n  @media (prefers-color-scheme: dark) {\n    /* Redefinition of color scheme for dark theme */\n    --sklearn-color-text-on-default-background: var(--sg-text-color, var(--theme-code-foreground, var(--jp-content-font-color1, white)));\n    --sklearn-color-background: var(--sg-background-color, var(--theme-background, var(--jp-layout-color0, #111)));\n    --sklearn-color-border-box: var(--sg-text-color, var(--theme-code-foreground, var(--jp-content-font-color1, white)));\n    --sklearn-color-icon: #878787;\n  }\n}\n\n#sk-container-id-8 {\n  color: var(--sklearn-color-text);\n}\n\n#sk-container-id-8 pre {\n  padding: 0;\n}\n\n#sk-container-id-8 input.sk-hidden--visually {\n  border: 0;\n  clip: rect(1px 1px 1px 1px);\n  clip: rect(1px, 1px, 1px, 1px);\n  height: 1px;\n  margin: -1px;\n  overflow: hidden;\n  padding: 0;\n  position: absolute;\n  width: 1px;\n}\n\n#sk-container-id-8 div.sk-dashed-wrapped {\n  border: 1px dashed var(--sklearn-color-line);\n  margin: 0 0.4em 0.5em 0.4em;\n  box-sizing: border-box;\n  padding-bottom: 0.4em;\n  background-color: var(--sklearn-color-background);\n}\n\n#sk-container-id-8 div.sk-container {\n  /* jupyter's `normalize.less` sets `[hidden] { display: none; }`\n     but bootstrap.min.css set `[hidden] { display: none !important; }`\n     so we also need the `!important` here to be able to override the\n     default hidden behavior on the sphinx rendered scikit-learn.org.\n     See: https://github.com/scikit-learn/scikit-learn/issues/21755 */\n  display: inline-block !important;\n  position: relative;\n}\n\n#sk-container-id-8 div.sk-text-repr-fallback {\n  display: none;\n}\n\ndiv.sk-parallel-item,\ndiv.sk-serial,\ndiv.sk-item {\n  /* draw centered vertical line to link estimators */\n  background-image: linear-gradient(var(--sklearn-color-text-on-default-background), var(--sklearn-color-text-on-default-background));\n  background-size: 2px 100%;\n  background-repeat: no-repeat;\n  background-position: center center;\n}\n\n/* Parallel-specific style estimator block */\n\n#sk-container-id-8 div.sk-parallel-item::after {\n  content: \"\";\n  width: 100%;\n  border-bottom: 2px solid var(--sklearn-color-text-on-default-background);\n  flex-grow: 1;\n}\n\n#sk-container-id-8 div.sk-parallel {\n  display: flex;\n  align-items: stretch;\n  justify-content: center;\n  background-color: var(--sklearn-color-background);\n  position: relative;\n}\n\n#sk-container-id-8 div.sk-parallel-item {\n  display: flex;\n  flex-direction: column;\n}\n\n#sk-container-id-8 div.sk-parallel-item:first-child::after {\n  align-self: flex-end;\n  width: 50%;\n}\n\n#sk-container-id-8 div.sk-parallel-item:last-child::after {\n  align-self: flex-start;\n  width: 50%;\n}\n\n#sk-container-id-8 div.sk-parallel-item:only-child::after {\n  width: 0;\n}\n\n/* Serial-specific style estimator block */\n\n#sk-container-id-8 div.sk-serial {\n  display: flex;\n  flex-direction: column;\n  align-items: center;\n  background-color: var(--sklearn-color-background);\n  padding-right: 1em;\n  padding-left: 1em;\n}\n\n\n/* Toggleable style: style used for estimator/Pipeline/ColumnTransformer box that is\nclickable and can be expanded/collapsed.\n- Pipeline and ColumnTransformer use this feature and define the default style\n- Estimators will overwrite some part of the style using the `sk-estimator` class\n*/\n\n/* Pipeline and ColumnTransformer style (default) */\n\n#sk-container-id-8 div.sk-toggleable {\n  /* Default theme specific background. It is overwritten whether we have a\n  specific estimator or a Pipeline/ColumnTransformer */\n  background-color: var(--sklearn-color-background);\n}\n\n/* Toggleable label */\n#sk-container-id-8 label.sk-toggleable__label {\n  cursor: pointer;\n  display: block;\n  width: 100%;\n  margin-bottom: 0;\n  padding: 0.5em;\n  box-sizing: border-box;\n  text-align: center;\n}\n\n#sk-container-id-8 label.sk-toggleable__label-arrow:before {\n  /* Arrow on the left of the label */\n  content: \"▸\";\n  float: left;\n  margin-right: 0.25em;\n  color: var(--sklearn-color-icon);\n}\n\n#sk-container-id-8 label.sk-toggleable__label-arrow:hover:before {\n  color: var(--sklearn-color-text);\n}\n\n/* Toggleable content - dropdown */\n\n#sk-container-id-8 div.sk-toggleable__content {\n  max-height: 0;\n  max-width: 0;\n  overflow: hidden;\n  text-align: left;\n  /* unfitted */\n  background-color: var(--sklearn-color-unfitted-level-0);\n}\n\n#sk-container-id-8 div.sk-toggleable__content.fitted {\n  /* fitted */\n  background-color: var(--sklearn-color-fitted-level-0);\n}\n\n#sk-container-id-8 div.sk-toggleable__content pre {\n  margin: 0.2em;\n  border-radius: 0.25em;\n  color: var(--sklearn-color-text);\n  /* unfitted */\n  background-color: var(--sklearn-color-unfitted-level-0);\n}\n\n#sk-container-id-8 div.sk-toggleable__content.fitted pre {\n  /* unfitted */\n  background-color: var(--sklearn-color-fitted-level-0);\n}\n\n#sk-container-id-8 input.sk-toggleable__control:checked~div.sk-toggleable__content {\n  /* Expand drop-down */\n  max-height: 200px;\n  max-width: 100%;\n  overflow: auto;\n}\n\n#sk-container-id-8 input.sk-toggleable__control:checked~label.sk-toggleable__label-arrow:before {\n  content: \"▾\";\n}\n\n/* Pipeline/ColumnTransformer-specific style */\n\n#sk-container-id-8 div.sk-label input.sk-toggleable__control:checked~label.sk-toggleable__label {\n  color: var(--sklearn-color-text);\n  background-color: var(--sklearn-color-unfitted-level-2);\n}\n\n#sk-container-id-8 div.sk-label.fitted input.sk-toggleable__control:checked~label.sk-toggleable__label {\n  background-color: var(--sklearn-color-fitted-level-2);\n}\n\n/* Estimator-specific style */\n\n/* Colorize estimator box */\n#sk-container-id-8 div.sk-estimator input.sk-toggleable__control:checked~label.sk-toggleable__label {\n  /* unfitted */\n  background-color: var(--sklearn-color-unfitted-level-2);\n}\n\n#sk-container-id-8 div.sk-estimator.fitted input.sk-toggleable__control:checked~label.sk-toggleable__label {\n  /* fitted */\n  background-color: var(--sklearn-color-fitted-level-2);\n}\n\n#sk-container-id-8 div.sk-label label.sk-toggleable__label,\n#sk-container-id-8 div.sk-label label {\n  /* The background is the default theme color */\n  color: var(--sklearn-color-text-on-default-background);\n}\n\n/* On hover, darken the color of the background */\n#sk-container-id-8 div.sk-label:hover label.sk-toggleable__label {\n  color: var(--sklearn-color-text);\n  background-color: var(--sklearn-color-unfitted-level-2);\n}\n\n/* Label box, darken color on hover, fitted */\n#sk-container-id-8 div.sk-label.fitted:hover label.sk-toggleable__label.fitted {\n  color: var(--sklearn-color-text);\n  background-color: var(--sklearn-color-fitted-level-2);\n}\n\n/* Estimator label */\n\n#sk-container-id-8 div.sk-label label {\n  font-family: monospace;\n  font-weight: bold;\n  display: inline-block;\n  line-height: 1.2em;\n}\n\n#sk-container-id-8 div.sk-label-container {\n  text-align: center;\n}\n\n/* Estimator-specific */\n#sk-container-id-8 div.sk-estimator {\n  font-family: monospace;\n  border: 1px dotted var(--sklearn-color-border-box);\n  border-radius: 0.25em;\n  box-sizing: border-box;\n  margin-bottom: 0.5em;\n  /* unfitted */\n  background-color: var(--sklearn-color-unfitted-level-0);\n}\n\n#sk-container-id-8 div.sk-estimator.fitted {\n  /* fitted */\n  background-color: var(--sklearn-color-fitted-level-0);\n}\n\n/* on hover */\n#sk-container-id-8 div.sk-estimator:hover {\n  /* unfitted */\n  background-color: var(--sklearn-color-unfitted-level-2);\n}\n\n#sk-container-id-8 div.sk-estimator.fitted:hover {\n  /* fitted */\n  background-color: var(--sklearn-color-fitted-level-2);\n}\n\n/* Specification for estimator info (e.g. \"i\" and \"?\") */\n\n/* Common style for \"i\" and \"?\" */\n\n.sk-estimator-doc-link,\na:link.sk-estimator-doc-link,\na:visited.sk-estimator-doc-link {\n  float: right;\n  font-size: smaller;\n  line-height: 1em;\n  font-family: monospace;\n  background-color: var(--sklearn-color-background);\n  border-radius: 1em;\n  height: 1em;\n  width: 1em;\n  text-decoration: none !important;\n  margin-left: 1ex;\n  /* unfitted */\n  border: var(--sklearn-color-unfitted-level-1) 1pt solid;\n  color: var(--sklearn-color-unfitted-level-1);\n}\n\n.sk-estimator-doc-link.fitted,\na:link.sk-estimator-doc-link.fitted,\na:visited.sk-estimator-doc-link.fitted {\n  /* fitted */\n  border: var(--sklearn-color-fitted-level-1) 1pt solid;\n  color: var(--sklearn-color-fitted-level-1);\n}\n\n/* On hover */\ndiv.sk-estimator:hover .sk-estimator-doc-link:hover,\n.sk-estimator-doc-link:hover,\ndiv.sk-label-container:hover .sk-estimator-doc-link:hover,\n.sk-estimator-doc-link:hover {\n  /* unfitted */\n  background-color: var(--sklearn-color-unfitted-level-3);\n  color: var(--sklearn-color-background);\n  text-decoration: none;\n}\n\ndiv.sk-estimator.fitted:hover .sk-estimator-doc-link.fitted:hover,\n.sk-estimator-doc-link.fitted:hover,\ndiv.sk-label-container:hover .sk-estimator-doc-link.fitted:hover,\n.sk-estimator-doc-link.fitted:hover {\n  /* fitted */\n  background-color: var(--sklearn-color-fitted-level-3);\n  color: var(--sklearn-color-background);\n  text-decoration: none;\n}\n\n/* Span, style for the box shown on hovering the info icon */\n.sk-estimator-doc-link span {\n  display: none;\n  z-index: 9999;\n  position: relative;\n  font-weight: normal;\n  right: .2ex;\n  padding: .5ex;\n  margin: .5ex;\n  width: min-content;\n  min-width: 20ex;\n  max-width: 50ex;\n  color: var(--sklearn-color-text);\n  box-shadow: 2pt 2pt 4pt #999;\n  /* unfitted */\n  background: var(--sklearn-color-unfitted-level-0);\n  border: .5pt solid var(--sklearn-color-unfitted-level-3);\n}\n\n.sk-estimator-doc-link.fitted span {\n  /* fitted */\n  background: var(--sklearn-color-fitted-level-0);\n  border: var(--sklearn-color-fitted-level-3);\n}\n\n.sk-estimator-doc-link:hover span {\n  display: block;\n}\n\n/* \"?\"-specific style due to the `<a>` HTML tag */\n\n#sk-container-id-8 a.estimator_doc_link {\n  float: right;\n  font-size: 1rem;\n  line-height: 1em;\n  font-family: monospace;\n  background-color: var(--sklearn-color-background);\n  border-radius: 1rem;\n  height: 1rem;\n  width: 1rem;\n  text-decoration: none;\n  /* unfitted */\n  color: var(--sklearn-color-unfitted-level-1);\n  border: var(--sklearn-color-unfitted-level-1) 1pt solid;\n}\n\n#sk-container-id-8 a.estimator_doc_link.fitted {\n  /* fitted */\n  border: var(--sklearn-color-fitted-level-1) 1pt solid;\n  color: var(--sklearn-color-fitted-level-1);\n}\n\n/* On hover */\n#sk-container-id-8 a.estimator_doc_link:hover {\n  /* unfitted */\n  background-color: var(--sklearn-color-unfitted-level-3);\n  color: var(--sklearn-color-background);\n  text-decoration: none;\n}\n\n#sk-container-id-8 a.estimator_doc_link.fitted:hover {\n  /* fitted */\n  background-color: var(--sklearn-color-fitted-level-3);\n}\n</style><div id=\"sk-container-id-8\" class=\"sk-top-container\"><div class=\"sk-text-repr-fallback\"><pre>KNeighborsRegressor(n_neighbors=3)</pre><b>In a Jupyter environment, please rerun this cell to show the HTML representation or trust the notebook. <br />On GitHub, the HTML representation is unable to render, please try loading this page with nbviewer.org.</b></div><div class=\"sk-container\" hidden><div class=\"sk-item\"><div class=\"sk-estimator fitted sk-toggleable\"><input class=\"sk-toggleable__control sk-hidden--visually\" id=\"sk-estimator-id-8\" type=\"checkbox\" checked><label for=\"sk-estimator-id-8\" class=\"sk-toggleable__label fitted sk-toggleable__label-arrow fitted\">&nbsp;&nbsp;KNeighborsRegressor<a class=\"sk-estimator-doc-link fitted\" rel=\"noreferrer\" target=\"_blank\" href=\"https://scikit-learn.org/1.5/modules/generated/sklearn.neighbors.KNeighborsRegressor.html\">?<span>Documentation for KNeighborsRegressor</span></a><span class=\"sk-estimator-doc-link fitted\">i<span>Fitted</span></span></label><div class=\"sk-toggleable__content fitted\"><pre>KNeighborsRegressor(n_neighbors=3)</pre></div> </div></div></div></div>"
     },
     "execution_count": 160,
     "metadata": {},
     "output_type": "execute_result"
    }
   ],
   "source": [
    "features = ['origin_lat', 'origin_lng','hour']\n",
    "\n",
    "lat_model.fit(df[features], df['destination_lat'])\n",
    "long_model.fit(df[features], df['destination_lng'])"
   ],
   "metadata": {
    "collapsed": false,
    "ExecuteTime": {
     "end_time": "2024-11-29T20:52:24.021881200Z",
     "start_time": "2024-11-29T20:52:23.816184700Z"
    }
   },
   "id": "369aea9d9a819da"
  },
  {
   "cell_type": "code",
   "execution_count": 161,
   "outputs": [
    {
     "data": {
      "text/plain": "   destination_lat  destination_lng\n0        35.742002        51.304526",
      "text/html": "<div>\n<style scoped>\n    .dataframe tbody tr th:only-of-type {\n        vertical-align: middle;\n    }\n\n    .dataframe tbody tr th {\n        vertical-align: top;\n    }\n\n    .dataframe thead th {\n        text-align: right;\n    }\n</style>\n<table border=\"1\" class=\"dataframe\">\n  <thead>\n    <tr style=\"text-align: right;\">\n      <th></th>\n      <th>destination_lat</th>\n      <th>destination_lng</th>\n    </tr>\n  </thead>\n  <tbody>\n    <tr>\n      <th>0</th>\n      <td>35.742002</td>\n      <td>51.304526</td>\n    </tr>\n  </tbody>\n</table>\n</div>"
     },
     "execution_count": 161,
     "metadata": {},
     "output_type": "execute_result"
    }
   ],
   "source": [
    "query = {\n",
    "    'origin_lat': 35.701676,\n",
    "    'origin_lng': 51.391164,\n",
    "    'hour': 12,\n",
    "}\n",
    "\n",
    "query = pd.DataFrame([query])\n",
    "\n",
    "answer = pd.DataFrame()\n",
    "answer['destination_lat'] = lat_model.predict(query)\n",
    "answer['destination_lng'] = long_model.predict(query)\n",
    "answer"
   ],
   "metadata": {
    "collapsed": false,
    "ExecuteTime": {
     "end_time": "2024-11-29T20:52:24.094106500Z",
     "start_time": "2024-11-29T20:52:23.933504600Z"
    }
   },
   "id": "75a76335724864f1"
  },
  {
   "cell_type": "code",
   "execution_count": 162,
   "outputs": [],
   "source": [
    "from plotly import express as px"
   ],
   "metadata": {
    "collapsed": false,
    "ExecuteTime": {
     "end_time": "2024-11-29T20:52:24.142177100Z",
     "start_time": "2024-11-29T20:52:24.032272500Z"
    }
   },
   "id": "21777aab426dc843"
  },
  {
   "cell_type": "code",
   "execution_count": 163,
   "outputs": [
    {
     "data": {
      "application/vnd.plotly.v1+json": {
       "data": [
        {
         "hovertemplate": "destination_lat=%{lat}<br>destination_lng=%{lon}<extra></extra>",
         "lat": [
          35.742001732669074
         ],
         "legendgroup": "",
         "lon": [
          51.30452626859503
         ],
         "marker": {
          "color": "#636efa"
         },
         "mode": "markers",
         "name": "",
         "showlegend": false,
         "subplot": "mapbox",
         "type": "scattermapbox"
        }
       ],
       "layout": {
        "template": {
         "data": {
          "histogram2dcontour": [
           {
            "type": "histogram2dcontour",
            "colorbar": {
             "outlinewidth": 0,
             "ticks": ""
            },
            "colorscale": [
             [
              0.0,
              "#0d0887"
             ],
             [
              0.1111111111111111,
              "#46039f"
             ],
             [
              0.2222222222222222,
              "#7201a8"
             ],
             [
              0.3333333333333333,
              "#9c179e"
             ],
             [
              0.4444444444444444,
              "#bd3786"
             ],
             [
              0.5555555555555556,
              "#d8576b"
             ],
             [
              0.6666666666666666,
              "#ed7953"
             ],
             [
              0.7777777777777778,
              "#fb9f3a"
             ],
             [
              0.8888888888888888,
              "#fdca26"
             ],
             [
              1.0,
              "#f0f921"
             ]
            ]
           }
          ],
          "choropleth": [
           {
            "type": "choropleth",
            "colorbar": {
             "outlinewidth": 0,
             "ticks": ""
            }
           }
          ],
          "histogram2d": [
           {
            "type": "histogram2d",
            "colorbar": {
             "outlinewidth": 0,
             "ticks": ""
            },
            "colorscale": [
             [
              0.0,
              "#0d0887"
             ],
             [
              0.1111111111111111,
              "#46039f"
             ],
             [
              0.2222222222222222,
              "#7201a8"
             ],
             [
              0.3333333333333333,
              "#9c179e"
             ],
             [
              0.4444444444444444,
              "#bd3786"
             ],
             [
              0.5555555555555556,
              "#d8576b"
             ],
             [
              0.6666666666666666,
              "#ed7953"
             ],
             [
              0.7777777777777778,
              "#fb9f3a"
             ],
             [
              0.8888888888888888,
              "#fdca26"
             ],
             [
              1.0,
              "#f0f921"
             ]
            ]
           }
          ],
          "heatmap": [
           {
            "type": "heatmap",
            "colorbar": {
             "outlinewidth": 0,
             "ticks": ""
            },
            "colorscale": [
             [
              0.0,
              "#0d0887"
             ],
             [
              0.1111111111111111,
              "#46039f"
             ],
             [
              0.2222222222222222,
              "#7201a8"
             ],
             [
              0.3333333333333333,
              "#9c179e"
             ],
             [
              0.4444444444444444,
              "#bd3786"
             ],
             [
              0.5555555555555556,
              "#d8576b"
             ],
             [
              0.6666666666666666,
              "#ed7953"
             ],
             [
              0.7777777777777778,
              "#fb9f3a"
             ],
             [
              0.8888888888888888,
              "#fdca26"
             ],
             [
              1.0,
              "#f0f921"
             ]
            ]
           }
          ],
          "heatmapgl": [
           {
            "type": "heatmapgl",
            "colorbar": {
             "outlinewidth": 0,
             "ticks": ""
            },
            "colorscale": [
             [
              0.0,
              "#0d0887"
             ],
             [
              0.1111111111111111,
              "#46039f"
             ],
             [
              0.2222222222222222,
              "#7201a8"
             ],
             [
              0.3333333333333333,
              "#9c179e"
             ],
             [
              0.4444444444444444,
              "#bd3786"
             ],
             [
              0.5555555555555556,
              "#d8576b"
             ],
             [
              0.6666666666666666,
              "#ed7953"
             ],
             [
              0.7777777777777778,
              "#fb9f3a"
             ],
             [
              0.8888888888888888,
              "#fdca26"
             ],
             [
              1.0,
              "#f0f921"
             ]
            ]
           }
          ],
          "contourcarpet": [
           {
            "type": "contourcarpet",
            "colorbar": {
             "outlinewidth": 0,
             "ticks": ""
            }
           }
          ],
          "contour": [
           {
            "type": "contour",
            "colorbar": {
             "outlinewidth": 0,
             "ticks": ""
            },
            "colorscale": [
             [
              0.0,
              "#0d0887"
             ],
             [
              0.1111111111111111,
              "#46039f"
             ],
             [
              0.2222222222222222,
              "#7201a8"
             ],
             [
              0.3333333333333333,
              "#9c179e"
             ],
             [
              0.4444444444444444,
              "#bd3786"
             ],
             [
              0.5555555555555556,
              "#d8576b"
             ],
             [
              0.6666666666666666,
              "#ed7953"
             ],
             [
              0.7777777777777778,
              "#fb9f3a"
             ],
             [
              0.8888888888888888,
              "#fdca26"
             ],
             [
              1.0,
              "#f0f921"
             ]
            ]
           }
          ],
          "surface": [
           {
            "type": "surface",
            "colorbar": {
             "outlinewidth": 0,
             "ticks": ""
            },
            "colorscale": [
             [
              0.0,
              "#0d0887"
             ],
             [
              0.1111111111111111,
              "#46039f"
             ],
             [
              0.2222222222222222,
              "#7201a8"
             ],
             [
              0.3333333333333333,
              "#9c179e"
             ],
             [
              0.4444444444444444,
              "#bd3786"
             ],
             [
              0.5555555555555556,
              "#d8576b"
             ],
             [
              0.6666666666666666,
              "#ed7953"
             ],
             [
              0.7777777777777778,
              "#fb9f3a"
             ],
             [
              0.8888888888888888,
              "#fdca26"
             ],
             [
              1.0,
              "#f0f921"
             ]
            ]
           }
          ],
          "mesh3d": [
           {
            "type": "mesh3d",
            "colorbar": {
             "outlinewidth": 0,
             "ticks": ""
            }
           }
          ],
          "scatter": [
           {
            "fillpattern": {
             "fillmode": "overlay",
             "size": 10,
             "solidity": 0.2
            },
            "type": "scatter"
           }
          ],
          "parcoords": [
           {
            "type": "parcoords",
            "line": {
             "colorbar": {
              "outlinewidth": 0,
              "ticks": ""
             }
            }
           }
          ],
          "scatterpolargl": [
           {
            "type": "scatterpolargl",
            "marker": {
             "colorbar": {
              "outlinewidth": 0,
              "ticks": ""
             }
            }
           }
          ],
          "bar": [
           {
            "error_x": {
             "color": "#2a3f5f"
            },
            "error_y": {
             "color": "#2a3f5f"
            },
            "marker": {
             "line": {
              "color": "#E5ECF6",
              "width": 0.5
             },
             "pattern": {
              "fillmode": "overlay",
              "size": 10,
              "solidity": 0.2
             }
            },
            "type": "bar"
           }
          ],
          "scattergeo": [
           {
            "type": "scattergeo",
            "marker": {
             "colorbar": {
              "outlinewidth": 0,
              "ticks": ""
             }
            }
           }
          ],
          "scatterpolar": [
           {
            "type": "scatterpolar",
            "marker": {
             "colorbar": {
              "outlinewidth": 0,
              "ticks": ""
             }
            }
           }
          ],
          "histogram": [
           {
            "marker": {
             "pattern": {
              "fillmode": "overlay",
              "size": 10,
              "solidity": 0.2
             }
            },
            "type": "histogram"
           }
          ],
          "scattergl": [
           {
            "type": "scattergl",
            "marker": {
             "colorbar": {
              "outlinewidth": 0,
              "ticks": ""
             }
            }
           }
          ],
          "scatter3d": [
           {
            "type": "scatter3d",
            "line": {
             "colorbar": {
              "outlinewidth": 0,
              "ticks": ""
             }
            },
            "marker": {
             "colorbar": {
              "outlinewidth": 0,
              "ticks": ""
             }
            }
           }
          ],
          "scattermapbox": [
           {
            "type": "scattermapbox",
            "marker": {
             "colorbar": {
              "outlinewidth": 0,
              "ticks": ""
             }
            }
           }
          ],
          "scatterternary": [
           {
            "type": "scatterternary",
            "marker": {
             "colorbar": {
              "outlinewidth": 0,
              "ticks": ""
             }
            }
           }
          ],
          "scattercarpet": [
           {
            "type": "scattercarpet",
            "marker": {
             "colorbar": {
              "outlinewidth": 0,
              "ticks": ""
             }
            }
           }
          ],
          "carpet": [
           {
            "aaxis": {
             "endlinecolor": "#2a3f5f",
             "gridcolor": "white",
             "linecolor": "white",
             "minorgridcolor": "white",
             "startlinecolor": "#2a3f5f"
            },
            "baxis": {
             "endlinecolor": "#2a3f5f",
             "gridcolor": "white",
             "linecolor": "white",
             "minorgridcolor": "white",
             "startlinecolor": "#2a3f5f"
            },
            "type": "carpet"
           }
          ],
          "table": [
           {
            "cells": {
             "fill": {
              "color": "#EBF0F8"
             },
             "line": {
              "color": "white"
             }
            },
            "header": {
             "fill": {
              "color": "#C8D4E3"
             },
             "line": {
              "color": "white"
             }
            },
            "type": "table"
           }
          ],
          "barpolar": [
           {
            "marker": {
             "line": {
              "color": "#E5ECF6",
              "width": 0.5
             },
             "pattern": {
              "fillmode": "overlay",
              "size": 10,
              "solidity": 0.2
             }
            },
            "type": "barpolar"
           }
          ],
          "pie": [
           {
            "automargin": true,
            "type": "pie"
           }
          ]
         },
         "layout": {
          "autotypenumbers": "strict",
          "colorway": [
           "#636efa",
           "#EF553B",
           "#00cc96",
           "#ab63fa",
           "#FFA15A",
           "#19d3f3",
           "#FF6692",
           "#B6E880",
           "#FF97FF",
           "#FECB52"
          ],
          "font": {
           "color": "#2a3f5f"
          },
          "hovermode": "closest",
          "hoverlabel": {
           "align": "left"
          },
          "paper_bgcolor": "white",
          "plot_bgcolor": "#E5ECF6",
          "polar": {
           "bgcolor": "#E5ECF6",
           "angularaxis": {
            "gridcolor": "white",
            "linecolor": "white",
            "ticks": ""
           },
           "radialaxis": {
            "gridcolor": "white",
            "linecolor": "white",
            "ticks": ""
           }
          },
          "ternary": {
           "bgcolor": "#E5ECF6",
           "aaxis": {
            "gridcolor": "white",
            "linecolor": "white",
            "ticks": ""
           },
           "baxis": {
            "gridcolor": "white",
            "linecolor": "white",
            "ticks": ""
           },
           "caxis": {
            "gridcolor": "white",
            "linecolor": "white",
            "ticks": ""
           }
          },
          "coloraxis": {
           "colorbar": {
            "outlinewidth": 0,
            "ticks": ""
           }
          },
          "colorscale": {
           "sequential": [
            [
             0.0,
             "#0d0887"
            ],
            [
             0.1111111111111111,
             "#46039f"
            ],
            [
             0.2222222222222222,
             "#7201a8"
            ],
            [
             0.3333333333333333,
             "#9c179e"
            ],
            [
             0.4444444444444444,
             "#bd3786"
            ],
            [
             0.5555555555555556,
             "#d8576b"
            ],
            [
             0.6666666666666666,
             "#ed7953"
            ],
            [
             0.7777777777777778,
             "#fb9f3a"
            ],
            [
             0.8888888888888888,
             "#fdca26"
            ],
            [
             1.0,
             "#f0f921"
            ]
           ],
           "sequentialminus": [
            [
             0.0,
             "#0d0887"
            ],
            [
             0.1111111111111111,
             "#46039f"
            ],
            [
             0.2222222222222222,
             "#7201a8"
            ],
            [
             0.3333333333333333,
             "#9c179e"
            ],
            [
             0.4444444444444444,
             "#bd3786"
            ],
            [
             0.5555555555555556,
             "#d8576b"
            ],
            [
             0.6666666666666666,
             "#ed7953"
            ],
            [
             0.7777777777777778,
             "#fb9f3a"
            ],
            [
             0.8888888888888888,
             "#fdca26"
            ],
            [
             1.0,
             "#f0f921"
            ]
           ],
           "diverging": [
            [
             0,
             "#8e0152"
            ],
            [
             0.1,
             "#c51b7d"
            ],
            [
             0.2,
             "#de77ae"
            ],
            [
             0.3,
             "#f1b6da"
            ],
            [
             0.4,
             "#fde0ef"
            ],
            [
             0.5,
             "#f7f7f7"
            ],
            [
             0.6,
             "#e6f5d0"
            ],
            [
             0.7,
             "#b8e186"
            ],
            [
             0.8,
             "#7fbc41"
            ],
            [
             0.9,
             "#4d9221"
            ],
            [
             1,
             "#276419"
            ]
           ]
          },
          "xaxis": {
           "gridcolor": "white",
           "linecolor": "white",
           "ticks": "",
           "title": {
            "standoff": 15
           },
           "zerolinecolor": "white",
           "automargin": true,
           "zerolinewidth": 2
          },
          "yaxis": {
           "gridcolor": "white",
           "linecolor": "white",
           "ticks": "",
           "title": {
            "standoff": 15
           },
           "zerolinecolor": "white",
           "automargin": true,
           "zerolinewidth": 2
          },
          "scene": {
           "xaxis": {
            "backgroundcolor": "#E5ECF6",
            "gridcolor": "white",
            "linecolor": "white",
            "showbackground": true,
            "ticks": "",
            "zerolinecolor": "white",
            "gridwidth": 2
           },
           "yaxis": {
            "backgroundcolor": "#E5ECF6",
            "gridcolor": "white",
            "linecolor": "white",
            "showbackground": true,
            "ticks": "",
            "zerolinecolor": "white",
            "gridwidth": 2
           },
           "zaxis": {
            "backgroundcolor": "#E5ECF6",
            "gridcolor": "white",
            "linecolor": "white",
            "showbackground": true,
            "ticks": "",
            "zerolinecolor": "white",
            "gridwidth": 2
           }
          },
          "shapedefaults": {
           "line": {
            "color": "#2a3f5f"
           }
          },
          "annotationdefaults": {
           "arrowcolor": "#2a3f5f",
           "arrowhead": 0,
           "arrowwidth": 1
          },
          "geo": {
           "bgcolor": "white",
           "landcolor": "#E5ECF6",
           "subunitcolor": "white",
           "showland": true,
           "showlakes": true,
           "lakecolor": "white"
          },
          "title": {
           "x": 0.05
          },
          "mapbox": {
           "style": "light"
          }
         }
        },
        "mapbox": {
         "domain": {
          "x": [
           0.0,
           1.0
          ],
          "y": [
           0.0,
           1.0
          ]
         },
         "center": {
          "lat": 35.742001732669074,
          "lon": 51.30452626859503
         },
         "zoom": 8,
         "style": "open-street-map"
        },
        "legend": {
         "tracegroupgap": 0
        },
        "margin": {
         "t": 60
        }
       },
       "config": {
        "plotlyServerURL": "https://plot.ly"
       }
      },
      "text/html": "<div>                            <div id=\"9d340bb7-6b93-4a8b-a57c-6c13b9bc4bf9\" class=\"plotly-graph-div\" style=\"height:525px; width:100%;\"></div>            <script type=\"text/javascript\">                require([\"plotly\"], function(Plotly) {                    window.PLOTLYENV=window.PLOTLYENV || {};                                    if (document.getElementById(\"9d340bb7-6b93-4a8b-a57c-6c13b9bc4bf9\")) {                    Plotly.newPlot(                        \"9d340bb7-6b93-4a8b-a57c-6c13b9bc4bf9\",                        [{\"hovertemplate\":\"destination_lat=%{lat}\\u003cbr\\u003edestination_lng=%{lon}\\u003cextra\\u003e\\u003c\\u002fextra\\u003e\",\"lat\":[35.742001732669074],\"legendgroup\":\"\",\"lon\":[51.30452626859503],\"marker\":{\"color\":\"#636efa\"},\"mode\":\"markers\",\"name\":\"\",\"showlegend\":false,\"subplot\":\"mapbox\",\"type\":\"scattermapbox\"}],                        {\"template\":{\"data\":{\"histogram2dcontour\":[{\"type\":\"histogram2dcontour\",\"colorbar\":{\"outlinewidth\":0,\"ticks\":\"\"},\"colorscale\":[[0.0,\"#0d0887\"],[0.1111111111111111,\"#46039f\"],[0.2222222222222222,\"#7201a8\"],[0.3333333333333333,\"#9c179e\"],[0.4444444444444444,\"#bd3786\"],[0.5555555555555556,\"#d8576b\"],[0.6666666666666666,\"#ed7953\"],[0.7777777777777778,\"#fb9f3a\"],[0.8888888888888888,\"#fdca26\"],[1.0,\"#f0f921\"]]}],\"choropleth\":[{\"type\":\"choropleth\",\"colorbar\":{\"outlinewidth\":0,\"ticks\":\"\"}}],\"histogram2d\":[{\"type\":\"histogram2d\",\"colorbar\":{\"outlinewidth\":0,\"ticks\":\"\"},\"colorscale\":[[0.0,\"#0d0887\"],[0.1111111111111111,\"#46039f\"],[0.2222222222222222,\"#7201a8\"],[0.3333333333333333,\"#9c179e\"],[0.4444444444444444,\"#bd3786\"],[0.5555555555555556,\"#d8576b\"],[0.6666666666666666,\"#ed7953\"],[0.7777777777777778,\"#fb9f3a\"],[0.8888888888888888,\"#fdca26\"],[1.0,\"#f0f921\"]]}],\"heatmap\":[{\"type\":\"heatmap\",\"colorbar\":{\"outlinewidth\":0,\"ticks\":\"\"},\"colorscale\":[[0.0,\"#0d0887\"],[0.1111111111111111,\"#46039f\"],[0.2222222222222222,\"#7201a8\"],[0.3333333333333333,\"#9c179e\"],[0.4444444444444444,\"#bd3786\"],[0.5555555555555556,\"#d8576b\"],[0.6666666666666666,\"#ed7953\"],[0.7777777777777778,\"#fb9f3a\"],[0.8888888888888888,\"#fdca26\"],[1.0,\"#f0f921\"]]}],\"heatmapgl\":[{\"type\":\"heatmapgl\",\"colorbar\":{\"outlinewidth\":0,\"ticks\":\"\"},\"colorscale\":[[0.0,\"#0d0887\"],[0.1111111111111111,\"#46039f\"],[0.2222222222222222,\"#7201a8\"],[0.3333333333333333,\"#9c179e\"],[0.4444444444444444,\"#bd3786\"],[0.5555555555555556,\"#d8576b\"],[0.6666666666666666,\"#ed7953\"],[0.7777777777777778,\"#fb9f3a\"],[0.8888888888888888,\"#fdca26\"],[1.0,\"#f0f921\"]]}],\"contourcarpet\":[{\"type\":\"contourcarpet\",\"colorbar\":{\"outlinewidth\":0,\"ticks\":\"\"}}],\"contour\":[{\"type\":\"contour\",\"colorbar\":{\"outlinewidth\":0,\"ticks\":\"\"},\"colorscale\":[[0.0,\"#0d0887\"],[0.1111111111111111,\"#46039f\"],[0.2222222222222222,\"#7201a8\"],[0.3333333333333333,\"#9c179e\"],[0.4444444444444444,\"#bd3786\"],[0.5555555555555556,\"#d8576b\"],[0.6666666666666666,\"#ed7953\"],[0.7777777777777778,\"#fb9f3a\"],[0.8888888888888888,\"#fdca26\"],[1.0,\"#f0f921\"]]}],\"surface\":[{\"type\":\"surface\",\"colorbar\":{\"outlinewidth\":0,\"ticks\":\"\"},\"colorscale\":[[0.0,\"#0d0887\"],[0.1111111111111111,\"#46039f\"],[0.2222222222222222,\"#7201a8\"],[0.3333333333333333,\"#9c179e\"],[0.4444444444444444,\"#bd3786\"],[0.5555555555555556,\"#d8576b\"],[0.6666666666666666,\"#ed7953\"],[0.7777777777777778,\"#fb9f3a\"],[0.8888888888888888,\"#fdca26\"],[1.0,\"#f0f921\"]]}],\"mesh3d\":[{\"type\":\"mesh3d\",\"colorbar\":{\"outlinewidth\":0,\"ticks\":\"\"}}],\"scatter\":[{\"fillpattern\":{\"fillmode\":\"overlay\",\"size\":10,\"solidity\":0.2},\"type\":\"scatter\"}],\"parcoords\":[{\"type\":\"parcoords\",\"line\":{\"colorbar\":{\"outlinewidth\":0,\"ticks\":\"\"}}}],\"scatterpolargl\":[{\"type\":\"scatterpolargl\",\"marker\":{\"colorbar\":{\"outlinewidth\":0,\"ticks\":\"\"}}}],\"bar\":[{\"error_x\":{\"color\":\"#2a3f5f\"},\"error_y\":{\"color\":\"#2a3f5f\"},\"marker\":{\"line\":{\"color\":\"#E5ECF6\",\"width\":0.5},\"pattern\":{\"fillmode\":\"overlay\",\"size\":10,\"solidity\":0.2}},\"type\":\"bar\"}],\"scattergeo\":[{\"type\":\"scattergeo\",\"marker\":{\"colorbar\":{\"outlinewidth\":0,\"ticks\":\"\"}}}],\"scatterpolar\":[{\"type\":\"scatterpolar\",\"marker\":{\"colorbar\":{\"outlinewidth\":0,\"ticks\":\"\"}}}],\"histogram\":[{\"marker\":{\"pattern\":{\"fillmode\":\"overlay\",\"size\":10,\"solidity\":0.2}},\"type\":\"histogram\"}],\"scattergl\":[{\"type\":\"scattergl\",\"marker\":{\"colorbar\":{\"outlinewidth\":0,\"ticks\":\"\"}}}],\"scatter3d\":[{\"type\":\"scatter3d\",\"line\":{\"colorbar\":{\"outlinewidth\":0,\"ticks\":\"\"}},\"marker\":{\"colorbar\":{\"outlinewidth\":0,\"ticks\":\"\"}}}],\"scattermapbox\":[{\"type\":\"scattermapbox\",\"marker\":{\"colorbar\":{\"outlinewidth\":0,\"ticks\":\"\"}}}],\"scatterternary\":[{\"type\":\"scatterternary\",\"marker\":{\"colorbar\":{\"outlinewidth\":0,\"ticks\":\"\"}}}],\"scattercarpet\":[{\"type\":\"scattercarpet\",\"marker\":{\"colorbar\":{\"outlinewidth\":0,\"ticks\":\"\"}}}],\"carpet\":[{\"aaxis\":{\"endlinecolor\":\"#2a3f5f\",\"gridcolor\":\"white\",\"linecolor\":\"white\",\"minorgridcolor\":\"white\",\"startlinecolor\":\"#2a3f5f\"},\"baxis\":{\"endlinecolor\":\"#2a3f5f\",\"gridcolor\":\"white\",\"linecolor\":\"white\",\"minorgridcolor\":\"white\",\"startlinecolor\":\"#2a3f5f\"},\"type\":\"carpet\"}],\"table\":[{\"cells\":{\"fill\":{\"color\":\"#EBF0F8\"},\"line\":{\"color\":\"white\"}},\"header\":{\"fill\":{\"color\":\"#C8D4E3\"},\"line\":{\"color\":\"white\"}},\"type\":\"table\"}],\"barpolar\":[{\"marker\":{\"line\":{\"color\":\"#E5ECF6\",\"width\":0.5},\"pattern\":{\"fillmode\":\"overlay\",\"size\":10,\"solidity\":0.2}},\"type\":\"barpolar\"}],\"pie\":[{\"automargin\":true,\"type\":\"pie\"}]},\"layout\":{\"autotypenumbers\":\"strict\",\"colorway\":[\"#636efa\",\"#EF553B\",\"#00cc96\",\"#ab63fa\",\"#FFA15A\",\"#19d3f3\",\"#FF6692\",\"#B6E880\",\"#FF97FF\",\"#FECB52\"],\"font\":{\"color\":\"#2a3f5f\"},\"hovermode\":\"closest\",\"hoverlabel\":{\"align\":\"left\"},\"paper_bgcolor\":\"white\",\"plot_bgcolor\":\"#E5ECF6\",\"polar\":{\"bgcolor\":\"#E5ECF6\",\"angularaxis\":{\"gridcolor\":\"white\",\"linecolor\":\"white\",\"ticks\":\"\"},\"radialaxis\":{\"gridcolor\":\"white\",\"linecolor\":\"white\",\"ticks\":\"\"}},\"ternary\":{\"bgcolor\":\"#E5ECF6\",\"aaxis\":{\"gridcolor\":\"white\",\"linecolor\":\"white\",\"ticks\":\"\"},\"baxis\":{\"gridcolor\":\"white\",\"linecolor\":\"white\",\"ticks\":\"\"},\"caxis\":{\"gridcolor\":\"white\",\"linecolor\":\"white\",\"ticks\":\"\"}},\"coloraxis\":{\"colorbar\":{\"outlinewidth\":0,\"ticks\":\"\"}},\"colorscale\":{\"sequential\":[[0.0,\"#0d0887\"],[0.1111111111111111,\"#46039f\"],[0.2222222222222222,\"#7201a8\"],[0.3333333333333333,\"#9c179e\"],[0.4444444444444444,\"#bd3786\"],[0.5555555555555556,\"#d8576b\"],[0.6666666666666666,\"#ed7953\"],[0.7777777777777778,\"#fb9f3a\"],[0.8888888888888888,\"#fdca26\"],[1.0,\"#f0f921\"]],\"sequentialminus\":[[0.0,\"#0d0887\"],[0.1111111111111111,\"#46039f\"],[0.2222222222222222,\"#7201a8\"],[0.3333333333333333,\"#9c179e\"],[0.4444444444444444,\"#bd3786\"],[0.5555555555555556,\"#d8576b\"],[0.6666666666666666,\"#ed7953\"],[0.7777777777777778,\"#fb9f3a\"],[0.8888888888888888,\"#fdca26\"],[1.0,\"#f0f921\"]],\"diverging\":[[0,\"#8e0152\"],[0.1,\"#c51b7d\"],[0.2,\"#de77ae\"],[0.3,\"#f1b6da\"],[0.4,\"#fde0ef\"],[0.5,\"#f7f7f7\"],[0.6,\"#e6f5d0\"],[0.7,\"#b8e186\"],[0.8,\"#7fbc41\"],[0.9,\"#4d9221\"],[1,\"#276419\"]]},\"xaxis\":{\"gridcolor\":\"white\",\"linecolor\":\"white\",\"ticks\":\"\",\"title\":{\"standoff\":15},\"zerolinecolor\":\"white\",\"automargin\":true,\"zerolinewidth\":2},\"yaxis\":{\"gridcolor\":\"white\",\"linecolor\":\"white\",\"ticks\":\"\",\"title\":{\"standoff\":15},\"zerolinecolor\":\"white\",\"automargin\":true,\"zerolinewidth\":2},\"scene\":{\"xaxis\":{\"backgroundcolor\":\"#E5ECF6\",\"gridcolor\":\"white\",\"linecolor\":\"white\",\"showbackground\":true,\"ticks\":\"\",\"zerolinecolor\":\"white\",\"gridwidth\":2},\"yaxis\":{\"backgroundcolor\":\"#E5ECF6\",\"gridcolor\":\"white\",\"linecolor\":\"white\",\"showbackground\":true,\"ticks\":\"\",\"zerolinecolor\":\"white\",\"gridwidth\":2},\"zaxis\":{\"backgroundcolor\":\"#E5ECF6\",\"gridcolor\":\"white\",\"linecolor\":\"white\",\"showbackground\":true,\"ticks\":\"\",\"zerolinecolor\":\"white\",\"gridwidth\":2}},\"shapedefaults\":{\"line\":{\"color\":\"#2a3f5f\"}},\"annotationdefaults\":{\"arrowcolor\":\"#2a3f5f\",\"arrowhead\":0,\"arrowwidth\":1},\"geo\":{\"bgcolor\":\"white\",\"landcolor\":\"#E5ECF6\",\"subunitcolor\":\"white\",\"showland\":true,\"showlakes\":true,\"lakecolor\":\"white\"},\"title\":{\"x\":0.05},\"mapbox\":{\"style\":\"light\"}}},\"mapbox\":{\"domain\":{\"x\":[0.0,1.0],\"y\":[0.0,1.0]},\"center\":{\"lat\":35.742001732669074,\"lon\":51.30452626859503},\"zoom\":8,\"style\":\"open-street-map\"},\"legend\":{\"tracegroupgap\":0},\"margin\":{\"t\":60}},                        {\"responsive\": true}                    ).then(function(){\n                            \nvar gd = document.getElementById('9d340bb7-6b93-4a8b-a57c-6c13b9bc4bf9');\nvar x = new MutationObserver(function (mutations, observer) {{\n        var display = window.getComputedStyle(gd).display;\n        if (!display || display === 'none') {{\n            console.log([gd, 'removed!']);\n            Plotly.purge(gd);\n            observer.disconnect();\n        }}\n}});\n\n// Listen for the removal of the full notebook cells\nvar notebookContainer = gd.closest('#notebook-container');\nif (notebookContainer) {{\n    x.observe(notebookContainer, {childList: true});\n}}\n\n// Listen for the clearing of the current output cell\nvar outputEl = gd.closest('.output');\nif (outputEl) {{\n    x.observe(outputEl, {childList: true});\n}}\n\n                        })                };                });            </script>        </div>"
     },
     "metadata": {},
     "output_type": "display_data"
    }
   ],
   "source": [
    "fig = px.scatter_mapbox(answer, lat='destination_lat', lon='destination_lng')\n",
    "fig.update_layout(mapbox_style='open-street-map')"
   ],
   "metadata": {
    "collapsed": false,
    "ExecuteTime": {
     "end_time": "2024-11-29T20:52:24.234787300Z",
     "start_time": "2024-11-29T20:52:24.131475900Z"
    }
   },
   "id": "397da199ed134d48"
  }
 ],
 "metadata": {
  "kernelspec": {
   "display_name": "Python 3",
   "language": "python",
   "name": "python3"
  },
  "language_info": {
   "codemirror_mode": {
    "name": "ipython",
    "version": 2
   },
   "file_extension": ".py",
   "mimetype": "text/x-python",
   "name": "python",
   "nbconvert_exporter": "python",
   "pygments_lexer": "ipython2",
   "version": "2.7.6"
  }
 },
 "nbformat": 4,
 "nbformat_minor": 5
}
